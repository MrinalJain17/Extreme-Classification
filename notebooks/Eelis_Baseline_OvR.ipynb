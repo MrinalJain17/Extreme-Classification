{
 "cells": [
  {
   "cell_type": "markdown",
   "metadata": {},
   "source": [
    "# OvR"
   ]
  },
  {
   "cell_type": "code",
   "execution_count": 1,
   "metadata": {},
   "outputs": [],
   "source": [
    "import pandas as pd\n",
    "import numpy as np\n",
    "from sklearn.multiclass import OneVsRestClassifier\n",
    "from sklearn.svm import LinearSVC\n",
    "from sklearn.svm import SVC\n",
    "from sklearn.model_selection import GridSearchCV\n",
    "from sklearn.preprocessing import StandardScaler\n",
    "from sklearn.decomposition import PCA\n",
    "from sklearn.utils import shuffle\n",
    "from sklearn.metrics import label_ranking_average_precision_score,make_scorer\n",
    "import random\n",
    "from sklearn.neighbors import KNeighborsClassifier"
   ]
  },
  {
   "cell_type": "markdown",
   "metadata": {},
   "source": [
    "# Download data"
   ]
  },
  {
   "cell_type": "code",
   "execution_count": 2,
   "metadata": {},
   "outputs": [],
   "source": [
    "#Load the previously transformed data.\n",
    "NUM_FEATURES = 5000\n",
    "NUM_CLASSES = 3993\n",
    "\n",
    "x_train = pd.read_csv(\"../data/expanded/train_features.csv\", names=range(NUM_FEATURES))\n",
    "y_train = pd.read_csv(\"../data/expanded/train_labels.csv\", names=range(NUM_CLASSES))\n",
    "\n",
    "x_val = pd.read_csv(\"../data/expanded/dev_features.csv\", names=range(NUM_FEATURES))\n",
    "y_val = pd.read_csv(\"../data/expanded/dev_labels.csv\", names=range(NUM_CLASSES))"
   ]
  },
  {
   "cell_type": "markdown",
   "metadata": {},
   "source": [
    "# Model 1"
   ]
  },
  {
   "cell_type": "markdown",
   "metadata": {},
   "source": [
    "Best model in notebook, achieves around 0.3 on validation."
   ]
  },
  {
   "cell_type": "code",
   "execution_count": null,
   "metadata": {
    "scrolled": true
   },
   "outputs": [],
   "source": [
    "#Training takes around 30min on my machine. 5000 classes  = 5000 seperate models in one-vs-rest scheme so not too efficient.\n",
    "model = OneVsRestClassifier(LinearSVC(tol = np.exp(-4), random_state=0, dual = False),n_jobs = -1).fit(x_train,y_train)"
   ]
  },
  {
   "cell_type": "code",
   "execution_count": null,
   "metadata": {},
   "outputs": [],
   "source": [
    "y_pred = model.predict(x_val)"
   ]
  },
  {
   "cell_type": "code",
   "execution_count": null,
   "metadata": {},
   "outputs": [],
   "source": [
    "score = label_ranking_average_precision_score(y_val,y_pred)\n",
    "score"
   ]
  },
  {
   "cell_type": "code",
   "execution_count": null,
   "metadata": {},
   "outputs": [],
   "source": [
    "np.savetxt(\"../public_data/svm.csv\", y_pred, delimiter=\",\")"
   ]
  },
  {
   "cell_type": "markdown",
   "metadata": {},
   "source": [
    "# Model 2 : Pegasos"
   ]
  },
  {
   "cell_type": "code",
   "execution_count": null,
   "metadata": {},
   "outputs": [],
   "source": [
    "\n",
    "def pegasos_fast(x_train,y_train, max_epoch, lam, watch_list=None, grad_checking=False, tfidf= False,min_loss = 0.01):\n",
    "    \"\"\"\n",
    "    Description\n",
    "    ==========\n",
    "    Implementation of Pegasos Algorithm \n",
    "\n",
    "    Input\n",
    "    =====\n",
    "    review_list: list of reviewInstance's\n",
    "    list of objects with labels and encoded input from reviews\n",
    "\n",
    "    max_epoch: int \n",
    "    stopping condition\n",
    "\n",
    "    lam: float \n",
    "    regularization parameter\n",
    "\n",
    "    watch_list: list or reviewInstance's\n",
    "    passed to accuracy_percent or magnitude_compare; default None\n",
    "\n",
    "    grad_checking: bool \n",
    "    numerical test of gradient of svm objective\n",
    "    \n",
    "    tfidf: bool\n",
    "    use tf-idf encoding of text in review_list\n",
    "\n",
    "    Output\n",
    "    ======\n",
    "    weights\n",
    "    \"\"\"\n",
    "\n",
    "    #Initialization\n",
    "    w = np.zeros(x_train.shape[1])\n",
    "    epoch = 0\n",
    "    t = 1.\n",
    "    samples = list(range(len(x_train)))\n",
    "    s = 1.\n",
    "\n",
    "    #Loop\n",
    "    # Use the util.increment and util.dotProduct functions in update\n",
    "    #while training_loss > min_loss:\n",
    "    while epoch <max_epoch:\n",
    "          \n",
    "        random.shuffle(samples)\n",
    "        for i in range(len(x_train)):\n",
    "            t +=1\n",
    "            lr = 1 / (t*lam)\n",
    "            margin = y_train[i]*s*np.dot(w,x_train[i,:])\n",
    "\n",
    "            scale = 1-lr*lam\n",
    "            s = s*scale\n",
    "            if s == 0:\n",
    "                s = 1\n",
    "                w = np.zeros(x_train.shape[1])\n",
    "                \n",
    "            if margin <1:\n",
    "                second_scale = (1/s)*lr*y_train[i]\n",
    "                w = w + x_train[i,:]*second_scale\n",
    "\n",
    "        epoch +=1\n",
    "        #temp_W = np.copy(w)\n",
    "        #temp_W = temp_W*s\n",
    "        #training_loss = pegasos_loss(x_train,y_train,temp_W)\n",
    "        #print(training_loss)    \n",
    "    w = w*s\n",
    "    return w"
   ]
  },
  {
   "cell_type": "code",
   "execution_count": null,
   "metadata": {},
   "outputs": [],
   "source": [
    "y_single= y_train.values[:,3]\n",
    "y_single[y_single==0] =-1\n",
    "\n",
    "x_single = x_train.values\n",
    "\n",
    "#pegasos_fast(x_single,y_single,4,0.1)"
   ]
  },
  {
   "cell_type": "code",
   "execution_count": null,
   "metadata": {},
   "outputs": [],
   "source": [
    "%prun pegasos_fast(x_single,y_single,4,0.1)"
   ]
  },
  {
   "cell_type": "code",
   "execution_count": null,
   "metadata": {},
   "outputs": [],
   "source": [
    "def pegasos_loss(x,y,weight):\n",
    "    loss = 0\n",
    "    for i in range(len(x)):     \n",
    "        prediction = svm_predict(x[i,:],weight)\n",
    "        \n",
    "        if prediction != y[i]:\n",
    "            loss+=1\n",
    "    return loss/len(x)"
   ]
  },
  {
   "cell_type": "code",
   "execution_count": null,
   "metadata": {},
   "outputs": [],
   "source": [
    "def svm_predict(review_X, weight):\n",
    "    if np.dot(review_X,weight)>0:\n",
    "        return 1\n",
    "    else:\n",
    "        return -1"
   ]
  },
  {
   "cell_type": "markdown",
   "metadata": {},
   "source": [
    "# Training Pegasos - multiclass"
   ]
  },
  {
   "cell_type": "code",
   "execution_count": null,
   "metadata": {},
   "outputs": [],
   "source": [
    "y_train_temp = y_train.values#[:,:1000]\n",
    "x_train_temp = x_train.values"
   ]
  },
  {
   "cell_type": "code",
   "execution_count": null,
   "metadata": {},
   "outputs": [],
   "source": [
    "w = np.zeros((x_train.shape[1],y_train.values.shape[1]))\n",
    "\n",
    "for i in range(y_train_temp.shape[1]):\n",
    "    if i % 50==0:\n",
    "        print(i)\n",
    "    temp_w = pegasos_fast(x_train_temp,y_train_temp[:,i],5,0.1)\n",
    "    w[:,i]=temp_w"
   ]
  },
  {
   "cell_type": "code",
   "execution_count": null,
   "metadata": {},
   "outputs": [],
   "source": [
    "def multi_class_predict(x,w):\n",
    "    pred = np.matmul(x,w)\n",
    "    return pred"
   ]
  },
  {
   "cell_type": "code",
   "execution_count": null,
   "metadata": {},
   "outputs": [],
   "source": [
    "y_pred = multi_class_predict(x_val.values,w)"
   ]
  },
  {
   "cell_type": "code",
   "execution_count": null,
   "metadata": {},
   "outputs": [],
   "source": [
    "score = label_ranking_average_precision_score(y_val.values[:,:y_train.values.shape[1]],y_pred)\n",
    "score"
   ]
  },
  {
   "cell_type": "code",
   "execution_count": null,
   "metadata": {},
   "outputs": [],
   "source": [
    "y_train.values.shape[1]"
   ]
  },
  {
   "cell_type": "markdown",
   "metadata": {},
   "source": [
    "# RF"
   ]
  },
  {
   "cell_type": "markdown",
   "metadata": {},
   "source": [
    "Memory explodes on local machine. Andrew ran on lab and it did not perform well."
   ]
  },
  {
   "cell_type": "code",
   "execution_count": null,
   "metadata": {},
   "outputs": [],
   "source": [
    "from sklearn.ensemble import RandomForestClassifier\n",
    "rf = RandomForestClassifier(max_samples = 5000,n_jobs=1)"
   ]
  },
  {
   "cell_type": "code",
   "execution_count": null,
   "metadata": {},
   "outputs": [],
   "source": [
    "rf.fit(x_train,y_train)"
   ]
  },
  {
   "cell_type": "code",
   "execution_count": null,
   "metadata": {},
   "outputs": [],
   "source": [
    "rf.predict(x_val)"
   ]
  },
  {
   "cell_type": "markdown",
   "metadata": {},
   "source": [
    "# KNN"
   ]
  },
  {
   "cell_type": "markdown",
   "metadata": {},
   "source": [
    "Not that good, best result around 0.2 on validation."
   ]
  },
  {
   "cell_type": "code",
   "execution_count": null,
   "metadata": {},
   "outputs": [],
   "source": [
    "neigh = KNeighborsClassifier(n_neighbors=10, metric = 'hamming')"
   ]
  },
  {
   "cell_type": "code",
   "execution_count": null,
   "metadata": {},
   "outputs": [],
   "source": [
    "neigh.fit(x_train,y_train)"
   ]
  },
  {
   "cell_type": "code",
   "execution_count": null,
   "metadata": {},
   "outputs": [],
   "source": [
    "y_pred = neigh.predict(x_val)"
   ]
  },
  {
   "cell_type": "code",
   "execution_count": null,
   "metadata": {},
   "outputs": [],
   "source": [
    "neigbhours = [3]\n",
    "metrics = ['jaccard','matching','dice','kulsinski','rogerstanimoto','russellrao']\n",
    "pred_scores = []\n",
    "\n",
    "for n in neigbhours:\n",
    "    for metric in metrics:\n",
    "        print(metric)\n",
    "        neigh = KNeighborsClassifier(n_neighbors=n, metric = metric)\n",
    "        neigh.fit(x_train,y_train)\n",
    "        y_pred = neigh.predict(x_val)\n",
    "        score = label_ranking_average_precision_score(y_val,y_pred)\n",
    "        print(score)\n",
    "        pred_scores.append(score)"
   ]
  },
  {
   "cell_type": "code",
   "execution_count": null,
   "metadata": {},
   "outputs": [],
   "source": [
    "pred_scores"
   ]
  },
  {
   "cell_type": "code",
   "execution_count": null,
   "metadata": {},
   "outputs": [],
   "source": [
    "pred_scores"
   ]
  },
  {
   "cell_type": "markdown",
   "metadata": {},
   "source": [
    "# best is 3 and jaccard"
   ]
  },
  {
   "cell_type": "code",
   "execution_count": null,
   "metadata": {},
   "outputs": [],
   "source": [
    "neigh = KNeighborsClassifier(n_neighbors=3, metric = 'jaccard')"
   ]
  },
  {
   "cell_type": "code",
   "execution_count": null,
   "metadata": {},
   "outputs": [],
   "source": [
    "neigh.fit(x_train,y_train)\n",
    "y_pred = neigh.predict(x_val)"
   ]
  },
  {
   "cell_type": "code",
   "execution_count": null,
   "metadata": {},
   "outputs": [],
   "source": [
    "score = label_ranking_average_precision_score(y_val,y_pred)\n",
    "score"
   ]
  },
  {
   "cell_type": "code",
   "execution_count": null,
   "metadata": {},
   "outputs": [],
   "source": [
    "np.savetxt(\"../public_data/knn.csv\", y_pred, delimiter=\",\")"
   ]
  },
  {
   "cell_type": "code",
   "execution_count": null,
   "metadata": {},
   "outputs": [],
   "source": [
    "y_pred = pd.read_csv(\"../public_data/knn.csv\", names=range(NUM_CLASSES))"
   ]
  },
  {
   "cell_type": "code",
   "execution_count": null,
   "metadata": {},
   "outputs": [],
   "source": [
    "y_pred.to_csv(\"../public_data/knn.csv\")"
   ]
  },
  {
   "cell_type": "markdown",
   "metadata": {},
   "source": [
    "# xgboost"
   ]
  },
  {
   "cell_type": "code",
   "execution_count": 4,
   "metadata": {},
   "outputs": [],
   "source": [
    "from xgboost import XGBClassifier\n",
    "from sklearn.multiclass import OneVsRestClassifier"
   ]
  },
  {
   "cell_type": "code",
   "execution_count": 5,
   "metadata": {},
   "outputs": [],
   "source": [
    "clf_multilabel = OneVsRestClassifier(XGBClassifier())"
   ]
  },
  {
   "cell_type": "code",
   "execution_count": null,
   "metadata": {},
   "outputs": [],
   "source": [
    "clf_multilabel.fit(x_train,y_train)"
   ]
  },
  {
   "cell_type": "code",
   "execution_count": null,
   "metadata": {},
   "outputs": [],
   "source": []
  }
 ],
 "metadata": {
  "kernelspec": {
   "display_name": "Python 3",
   "language": "python",
   "name": "python3"
  },
  "language_info": {
   "codemirror_mode": {
    "name": "ipython",
    "version": 3
   },
   "file_extension": ".py",
   "mimetype": "text/x-python",
   "name": "python",
   "nbconvert_exporter": "python",
   "pygments_lexer": "ipython3",
   "version": "3.6.1"
  }
 },
 "nbformat": 4,
 "nbformat_minor": 2
}
