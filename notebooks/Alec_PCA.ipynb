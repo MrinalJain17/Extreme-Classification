{
 "cells": [
  {
   "cell_type": "code",
   "execution_count": 1,
   "metadata": {},
   "outputs": [
    {
     "name": "stderr",
     "output_type": "stream",
     "text": [
      "/Applications/anaconda3/lib/python3.7/site-packages/tqdm/std.py:658: FutureWarning: The Panel class is removed from pandas. Accessing it from the top-level namespace will also be removed in the next version\n",
      "  from pandas import Panel\n"
     ]
    }
   ],
   "source": [
    "#some code from Exploring_PCA\n",
    "\n",
    "import numpy as np\n",
    "import pandas as pd\n",
    "import matplotlib.pyplot as plt\n",
    "from tqdm.auto import tqdm\n",
    "from sklearn.preprocessing import StandardScaler\n",
    "from sklearn.decomposition import PCA\n",
    "\n",
    "tqdm.pandas()\n",
    "\n",
    "%matplotlib inline\n",
    "\n",
    "SEED = 42\n",
    "\n",
    "NUM_FEATURES = 5000\n",
    "NUM_CLASSES = 3993\n",
    "\n",
    "features = pd.read_csv(\"../data/expanded/train_features.csv\", names=range(NUM_FEATURES))\n",
    "labels = pd.read_csv(\"../data/expanded/train_labels.csv\", names=range(NUM_CLASSES))"
   ]
  },
  {
   "cell_type": "markdown",
   "metadata": {},
   "source": [
    "All code in this part is taken from Exploring_PCA. Instead of 2500 components(which we know is enough), just tried 5000 components for conclusiveness sake. Takes a few minutes to run, just so we have a graph for every feature rather than half of the feature(maybe for the report?)"
   ]
  },
  {
   "cell_type": "code",
   "execution_count": 9,
   "metadata": {},
   "outputs": [],
   "source": [
    "scaler = StandardScaler(with_std=False)\n",
    "features_centered = scaler.fit_transform(features)\n",
    "\n",
    "n_components = len(features.columns)\n",
    "#use all features\n",
    "pca = PCA(n_components=n_components)\n",
    "features_reduced = pca.fit_transform(features_centered)\n",
    "features_reduced = pd.DataFrame(features_reduced)"
   ]
  },
  {
   "cell_type": "code",
   "execution_count": 10,
   "metadata": {},
   "outputs": [
    {
     "data": {
      "image/png": "[encoded data removed]",
      "text/plain": [
       "<Figure size 864x648 with 1 Axes>"
      ]
     },
     "metadata": {
      "needs_background": "light"
     },
     "output_type": "display_data"
    }
   ],
   "source": [
    "plt.figure(figsize=(12, 9))\n",
    "plt.plot(pca.explained_variance_ratio_.cumsum() * 100)\n",
    "plt.hlines([90, 95, 100], 0, n_components)\n",
    "plt.xlabel(\"PCA Components\")\n",
    "plt.ylabel(\"Explained Variance (cumulative)\")\n",
    "plt.show()"
   ]
  },
  {
   "cell_type": "code",
   "execution_count": 11,
   "metadata": {},
   "outputs": [
    {
     "data": {
      "text/plain": [
       "137"
      ]
     },
     "execution_count": 11,
     "metadata": {},
     "output_type": "execute_result"
    }
   ],
   "source": [
    "5000 - (pca.explained_variance_ratio_.cumsum()*100 >= 90).sum()"
   ]
  },
  {
   "cell_type": "markdown",
   "metadata": {},
   "source": [
    "We see that we only need 137 features to explain 90 percent of data variance, so reduce dimensionality to only 137 features, and then try a a baseline classifier."
   ]
  },
  {
   "cell_type": "code",
   "execution_count": 13,
   "metadata": {},
   "outputs": [],
   "source": [
    "scaler = StandardScaler(with_std=False)\n",
    "features_centered = scaler.fit_transform(features)\n",
    "\n",
    "n_components = 137\n",
    "reduced_pca = PCA(n_components = n_components)\n",
    "reduced_df = reduced_pca.fit_transform(features_centered)"
   ]
  },
  {
   "cell_type": "code",
   "execution_count": 14,
   "metadata": {},
   "outputs": [],
   "source": [
    "reduced_df  = pd.DataFrame(reduced_df)"
   ]
  },
  {
   "cell_type": "code",
   "execution_count": 15,
   "metadata": {},
   "outputs": [
    {
     "data": {
      "text/plain": [
       "(12409, 137)"
      ]
     },
     "execution_count": 15,
     "metadata": {},
     "output_type": "execute_result"
    }
   ],
   "source": [
    "reduced_df.shape"
   ]
  },
  {
   "cell_type": "markdown",
   "metadata": {},
   "source": [
    "Save reduced features in case need to work on it later in a different file."
   ]
  },
  {
   "cell_type": "code",
   "execution_count": 16,
   "metadata": {},
   "outputs": [],
   "source": [
    "reduced_df.to_csv(f\"../data/expanded/reduced_features.csv\", index=False, header=False)"
   ]
  },
  {
   "cell_type": "markdown",
   "metadata": {},
   "source": [
    "## Model Training\n",
    "\n",
    "Tried Baseline Model OvR classifier with logistic to see if there is equal performance with reduced time, however this time with a 70-30 train-test-split. Used SEED for the random seed.This code was written before the permananent validation set, so we just do this hypothetically"
   ]
  },
  {
   "cell_type": "code",
   "execution_count": 2,
   "metadata": {},
   "outputs": [],
   "source": [
    "reduced_df = pd.read_csv(f\"../data/expanded/reduced_features.csv\", names=range(181))"
   ]
  },
  {
   "cell_type": "code",
   "execution_count": 17,
   "metadata": {},
   "outputs": [],
   "source": [
    "from sklearn.model_selection import train_test_split\n",
    "from sklearn.multiclass import OneVsRestClassifier\n",
    "from sklearn.linear_model import LogisticRegression\n",
    "import time"
   ]
  },
  {
   "cell_type": "code",
   "execution_count": 18,
   "metadata": {},
   "outputs": [],
   "source": [
    "X_train, X_test, y_train, y_test = train_test_split(reduced_df, labels, test_size = 0.3, random_state = SEED)"
   ]
  },
  {
   "cell_type": "code",
   "execution_count": 19,
   "metadata": {},
   "outputs": [],
   "source": [
    "from warnings import filterwarnings\n",
    "filterwarnings('ignore')\n",
    "start_time = time.time()\n",
    "model = OneVsRestClassifier(LogisticRegression(random_state=SEED, n_jobs = -1)).fit(X_train,y_train)\n",
    "end_time = time.time()"
   ]
  },
  {
   "cell_type": "markdown",
   "metadata": {},
   "source": [
    "Remove convergance warnings(from Eelis's example, we know that it will not converge anyways)\n",
    "\n",
    "ran overnight"
   ]
  },
  {
   "cell_type": "code",
   "execution_count": 22,
   "metadata": {},
   "outputs": [
    {
     "data": {
      "text/plain": [
       "OneVsRestClassifier(estimator=LogisticRegression(C=1.0, class_weight=None,\n",
       "                                                 dual=False, fit_intercept=True,\n",
       "                                                 intercept_scaling=1,\n",
       "                                                 l1_ratio=None, max_iter=100,\n",
       "                                                 multi_class='auto', n_jobs=-1,\n",
       "                                                 penalty='l2', random_state=42,\n",
       "                                                 solver='lbfgs', tol=0.0001,\n",
       "                                                 verbose=0, warm_start=False),\n",
       "                    n_jobs=None)"
      ]
     },
     "execution_count": 22,
     "metadata": {},
     "output_type": "execute_result"
    }
   ],
   "source": [
    "model"
   ]
  },
  {
   "cell_type": "code",
   "execution_count": 45,
   "metadata": {},
   "outputs": [],
   "source": [
    "label_pred = model.predict(X_test.iloc[0,:].values.reshape(1, -1))"
   ]
  },
  {
   "cell_type": "code",
   "execution_count": 36,
   "metadata": {
    "collapsed": true,
    "jupyter": {
     "outputs_hidden": true
    }
   },
   "outputs": [
    {
     "data": {
      "text/plain": [
       "array([   0,    1,   15,   17,   18,   38,   41,   44,   45,   58,   59,\n",
       "         63,   67,   78,   81,   82,   85,   94,   98,   99,  108,  112,\n",
       "        118,  121,  122,  128,  135,  136,  138,  139,  141,  142,  150,\n",
       "        155,  156,  158,  161,  162,  163,  165,  170,  171,  176,  182,\n",
       "        183,  188,  194,  206,  207,  208,  210,  211,  215,  217,  222,\n",
       "        223,  228,  229,  237,  241,  245,  249,  250,  251,  256,  260,\n",
       "        265,  272,  273,  280,  292,  296,  299,  303,  306,  307,  309,\n",
       "        313,  314,  315,  319,  320,  334,  337,  339,  340,  343,  344,\n",
       "        346,  347,  349,  350,  356,  358,  360,  364,  367,  370,  374,\n",
       "        376,  377,  381,  394,  395,  396,  397,  399,  400,  407,  408,\n",
       "        414,  420,  422,  427,  436,  437,  440,  442,  443,  444,  447,\n",
       "        450,  455,  457,  458,  460,  470,  471,  472,  476,  477,  485,\n",
       "        486,  487,  491,  497,  499,  510,  520,  521,  522,  526,  530,\n",
       "        535,  547,  554,  555,  558,  560,  563,  564,  577,  578,  579,\n",
       "        581,  582,  584,  585,  587,  588,  591,  592,  595,  598,  600,\n",
       "        601,  602,  606,  614,  616,  617,  623,  625,  627,  642,  646,\n",
       "        647,  650,  657,  658,  660,  661,  664,  671,  673,  675,  676,\n",
       "        678,  679,  680,  690,  691,  692,  693,  696,  698,  716,  729,\n",
       "        731,  734,  742,  745,  746,  752,  759,  761,  772,  793,  796,\n",
       "        798,  800,  801,  804,  805,  810,  812,  813,  821,  828,  830,\n",
       "        839,  844,  845,  851,  862,  863,  865,  866,  872,  873,  881,\n",
       "        889,  890,  910,  912,  916,  919,  930,  937,  940,  941,  944,\n",
       "        945,  952,  961,  967,  973,  975,  981,  989,  995,  996, 1005,\n",
       "       1006, 1009, 1011, 1013, 1016, 1017, 1019, 1023, 1024, 1025, 1028,\n",
       "       1033, 1039, 1041, 1044, 1047, 1048, 1055, 1057, 1058, 1062, 1063,\n",
       "       1074, 1075, 1078, 1080, 1082, 1085, 1086, 1088, 1096, 1099, 1102,\n",
       "       1103, 1107, 1115, 1116, 1117, 1122, 1127, 1133, 1145, 1146, 1154,\n",
       "       1157, 1159, 1161, 1163, 1164, 1165, 1168, 1173, 1175, 1177, 1181,\n",
       "       1186, 1187, 1194, 1202, 1206, 1211, 1218, 1219, 1225, 1227, 1230,\n",
       "       1246, 1247, 1248, 1249, 1253, 1264, 1271, 1273, 1276, 1286, 1289,\n",
       "       1293, 1295, 1296, 1306, 1307, 1310, 1312, 1315, 1317, 1319, 1325,\n",
       "       1328, 1333, 1334, 1338, 1340, 1350, 1363, 1379, 1383, 1388, 1393,\n",
       "       1395, 1400, 1401, 1402, 1406, 1410, 1411, 1413, 1418, 1420, 1423,\n",
       "       1425, 1426, 1431, 1436, 1445, 1447, 1456, 1457, 1466, 1471, 1472,\n",
       "       1474, 1478, 1489, 1492, 1494, 1498, 1506, 1507, 1509, 1512, 1530,\n",
       "       1531, 1541, 1545, 1550, 1551, 1553, 1559, 1561, 1568, 1569, 1581,\n",
       "       1589, 1590, 1592, 1594, 1597, 1599, 1600, 1603, 1608, 1616, 1619,\n",
       "       1622, 1623, 1625, 1626, 1630, 1631, 1634, 1640, 1646, 1649, 1651,\n",
       "       1652, 1655, 1656, 1660, 1661, 1670, 1680, 1681, 1684, 1685, 1704,\n",
       "       1707, 1716, 1721, 1725, 1731, 1734, 1735, 1743, 1750, 1752, 1753,\n",
       "       1754, 1757, 1761, 1763, 1766, 1768, 1769, 1772, 1773, 1774, 1775,\n",
       "       1776, 1778, 1779, 1788, 1798, 1803, 1813, 1815, 1818, 1820, 1823,\n",
       "       1828, 1829, 1832, 1833, 1834, 1837, 1840, 1857, 1858, 1859, 1860,\n",
       "       1868, 1873, 1882, 1896, 1899, 1906, 1907, 1911, 1917, 1921, 1927,\n",
       "       1928, 1931, 1938, 1946, 1949, 1960, 1962, 1963, 1964, 1966, 1967,\n",
       "       1974, 1980, 1983, 1986, 1987, 1988, 1991, 1995, 2006, 2010, 2013,\n",
       "       2019, 2024, 2033, 2034, 2046, 2047, 2050, 2057, 2058, 2059, 2072,\n",
       "       2075, 2097, 2108, 2109, 2110, 2124, 2129, 2133, 2135, 2136, 2143,\n",
       "       2146, 2153, 2154, 2171, 2179, 2186, 2189, 2190, 2196, 2197, 2201,\n",
       "       2208, 2211, 2212, 2214, 2216, 2219, 2221, 2222, 2226, 2231, 2232,\n",
       "       2242, 2244, 2247, 2250, 2251, 2253, 2256, 2260, 2270, 2280, 2283,\n",
       "       2289, 2309, 2315, 2316, 2322, 2325, 2328, 2334, 2339, 2347, 2362,\n",
       "       2363, 2368, 2372, 2376, 2381, 2386, 2391, 2398, 2412, 2414, 2436,\n",
       "       2444, 2448, 2450, 2453, 2460, 2466, 2467, 2477, 2483, 2484, 2491,\n",
       "       2496, 2498, 2521, 2522, 2526, 2530, 2531, 2535, 2542, 2547, 2550,\n",
       "       2554, 2557, 2566, 2568, 2573, 2575, 2582, 2586, 2589, 2592, 2594,\n",
       "       2599, 2612, 2613, 2618, 2619, 2620, 2627, 2630, 2637, 2639, 2642,\n",
       "       2643, 2648, 2658, 2661, 2665, 2669, 2676, 2679, 2680, 2686, 2693,\n",
       "       2698, 2706, 2707, 2717, 2724, 2725, 2726, 2737, 2748, 2751, 2754,\n",
       "       2757, 2765, 2773, 2775, 2776, 2782, 2783, 2784, 2785, 2786, 2798,\n",
       "       2799, 2802, 2809, 2817, 2825, 2830, 2835, 2847, 2859, 2860, 2864,\n",
       "       2878, 2880, 2882, 2886, 2887, 2888, 2890, 2892, 2896, 2899, 2902,\n",
       "       2908, 2909, 2910, 2911, 2912, 2919, 2925, 2931, 2932, 2934, 2939,\n",
       "       2947, 2968, 2982, 2996, 2997, 3003, 3010, 3011, 3014, 3017, 3019,\n",
       "       3021, 3022, 3029, 3033, 3035, 3039, 3043, 3053, 3062, 3074, 3075,\n",
       "       3080, 3083, 3086, 3089, 3091, 3096, 3102, 3108, 3109, 3110, 3116,\n",
       "       3125, 3140, 3145, 3151, 3152, 3153, 3158, 3160, 3161, 3162, 3175,\n",
       "       3180, 3181, 3186, 3188, 3192, 3195, 3213, 3222, 3224, 3229, 3237,\n",
       "       3239, 3255, 3260, 3274, 3275, 3284, 3287, 3289, 3292, 3301, 3304,\n",
       "       3305, 3307, 3316, 3317, 3318, 3319, 3320, 3328, 3333, 3334, 3337,\n",
       "       3339, 3347, 3350, 3353, 3354, 3356, 3362, 3363, 3375, 3380, 3390,\n",
       "       3406, 3408, 3413, 3422, 3429, 3433, 3439, 3441, 3453, 3458, 3460,\n",
       "       3467, 3476, 3486, 3489, 3493, 3497, 3501, 3506, 3517, 3518, 3528,\n",
       "       3529, 3538, 3540, 3547, 3549, 3558, 3562, 3583, 3588, 3596, 3600,\n",
       "       3606, 3609, 3617, 3621, 3622, 3624, 3634, 3644, 3653, 3656, 3658,\n",
       "       3660, 3661, 3665, 3667, 3668, 3671, 3675, 3683, 3685, 3688, 3705,\n",
       "       3714, 3715, 3735, 3736, 3738, 3744, 3757, 3764, 3801, 3802, 3803,\n",
       "       3804, 3810, 3815, 3829, 3839, 3861, 3873, 3874, 3876, 3879, 3886,\n",
       "       3887, 3888, 3897, 3907, 3920, 3923, 3936, 3940, 3946, 3960, 3964,\n",
       "       3987, 3990])"
      ]
     },
     "execution_count": 36,
     "metadata": {},
     "output_type": "execute_result"
    }
   ],
   "source": [
    "np.nonzero(label_pred)[1]"
   ]
  },
  {
   "cell_type": "code",
   "execution_count": 35,
   "metadata": {},
   "outputs": [
    {
     "data": {
      "text/plain": [
       "(array([0, 0, 0, 0, 0, 0]), array([ 115,  617,  678,  731, 1019, 1055]))"
      ]
     },
     "execution_count": 35,
     "metadata": {},
     "output_type": "execute_result"
    }
   ],
   "source": [
    "np.nonzero(y_test.iloc[0,:].values.reshape(1, -1))"
   ]
  },
  {
   "cell_type": "code",
   "execution_count": 42,
   "metadata": {},
   "outputs": [],
   "source": [
    "label = []\n",
    "for x in np.nonzero(label_pred)[1]:\n",
    "    if x in np.nonzero(y_test.iloc[0,:].values.reshape(1, -1))[1]:\n",
    "        label.append(x)"
   ]
  },
  {
   "cell_type": "code",
   "execution_count": 43,
   "metadata": {},
   "outputs": [
    {
     "data": {
      "text/plain": [
       "[617, 678, 731, 1019, 1055]"
      ]
     },
     "execution_count": 43,
     "metadata": {},
     "output_type": "execute_result"
    }
   ],
   "source": [
    "label"
   ]
  },
  {
   "cell_type": "code",
   "execution_count": 48,
   "metadata": {},
   "outputs": [
    {
     "data": {
      "text/plain": [
       "(array([], dtype=int64), array([], dtype=int64))"
      ]
     },
     "execution_count": 48,
     "metadata": {},
     "output_type": "execute_result"
    }
   ],
   "source": [
    "np.nonzero(model.predict(X_test.iloc[1,:].values.reshape(1, -1)))"
   ]
  },
  {
   "cell_type": "code",
   "execution_count": 49,
   "metadata": {},
   "outputs": [
    {
     "data": {
      "text/plain": [
       "(array([0, 0, 0, 0, 0, 0, 0, 0, 0, 0]),\n",
       " array([ 232,  300,  490,  496,  509,  813, 1322, 1993, 2237, 3670]))"
      ]
     },
     "execution_count": 49,
     "metadata": {},
     "output_type": "execute_result"
    }
   ],
   "source": [
    "np.nonzero(model.predict(X_test.iloc[2,:].values.reshape(1, -1)))"
   ]
  },
  {
   "cell_type": "code",
   "execution_count": 53,
   "metadata": {},
   "outputs": [
    {
     "data": {
      "text/plain": [
       "array([1308, 1337, 1338, 1352, 1566, 1579, 1580])"
      ]
     },
     "execution_count": 53,
     "metadata": {},
     "output_type": "execute_result"
    }
   ],
   "source": [
    "np.nonzero(y_test.iloc[2,:].values.reshape(1, -1))[1]"
   ]
  },
  {
   "cell_type": "code",
   "execution_count": 69,
   "metadata": {},
   "outputs": [],
   "source": [
    "label_list= []\n",
    "for i in range(100):\n",
    "    if(np.nonzero(model.predict(X_test.iloc[i,:].values.reshape(1, -1)))[1] != []):\n",
    "        label_list.append(True)"
   ]
  },
  {
   "cell_type": "code",
   "execution_count": 70,
   "metadata": {},
   "outputs": [
    {
     "data": {
      "text/plain": [
       "43"
      ]
     },
     "execution_count": 70,
     "metadata": {},
     "output_type": "execute_result"
    }
   ],
   "source": [
    "sum(label_list)"
   ]
  },
  {
   "cell_type": "markdown",
   "metadata": {},
   "source": [
    "Conclusions made: Need more than 90 percent of variance. Although this could also be an effect of Logistic being a little too simple, we only have predictions for 43 instances in the validation set out of 100 instances, which can also not be correct. \n",
    "\n",
    "-Need to find a way to filter down predictions\n",
    "\n",
    "-possibly explore more variance, or same variance with stronger model"
   ]
  },
  {
   "cell_type": "code",
   "execution_count": 1,
   "metadata": {},
   "outputs": [],
   "source": [
    "from sklearn.metrics import label_ranking_average_precision_score \n",
    "import numpy as np "
   ]
  },
  {
   "cell_type": "code",
   "execution_count": 2,
   "metadata": {},
   "outputs": [],
   "source": [
    "y_true = np.array([[1, 0, 0],  \n",
    "                   [1, 0, 1],  \n",
    "                   [1, 1, 0]]) \n",
    "y_score = np.array([[0.75, 0.5, 1],  \n",
    "                    [1, 0.2, 0.1], \n",
    "                    [0.9, 0.7, 0.6]]) "
   ]
  },
  {
   "cell_type": "code",
   "execution_count": 3,
   "metadata": {},
   "outputs": [
    {
     "name": "stdout",
     "output_type": "stream",
     "text": [
      "0.7777777777777777\n"
     ]
    }
   ],
   "source": [
    "print(label_ranking_average_precision_score( \n",
    "    y_true, y_score)) "
   ]
  },
  {
   "cell_type": "code",
   "execution_count": 6,
   "metadata": {},
   "outputs": [],
   "source": [
    "y_true = np.array([[1, 0, 0,0],  \n",
    "                   [1, 0, 1,0],  \n",
    "                   [1, 1, 0,0]]) \n",
    "y_score = np.array([[0.75, 0.5, 1,0],  \n",
    "                    [1, 0.2, 0.1,1], \n",
    "                    [0.9, 0.7, 0.6,0]]) "
   ]
  },
  {
   "cell_type": "code",
   "execution_count": 7,
   "metadata": {},
   "outputs": [
    {
     "name": "stdout",
     "output_type": "stream",
     "text": [
      "0.6666666666666666\n"
     ]
    }
   ],
   "source": [
    "print(label_ranking_average_precision_score( \n",
    "    y_true, y_score)) "
   ]
  },
  {
   "cell_type": "code",
   "execution_count": null,
   "metadata": {},
   "outputs": [],
   "source": []
  }
 ],
 "metadata": {
  "kernelspec": {
   "display_name": "Python 3",
   "language": "python",
   "name": "python3"
  },
  "language_info": {
   "codemirror_mode": {
    "name": "ipython",
    "version": 3
   },
   "file_extension": ".py",
   "mimetype": "text/x-python",
   "name": "python",
   "nbconvert_exporter": "python",
   "pygments_lexer": "ipython3",
   "version": "3.7.6"
  }
 },
 "nbformat": 4,
 "nbformat_minor": 4
}
