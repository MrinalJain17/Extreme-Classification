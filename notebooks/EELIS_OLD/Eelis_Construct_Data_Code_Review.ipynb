{
 "cells": [
  {
   "cell_type": "code",
   "execution_count": 21,
   "metadata": {},
   "outputs": [],
   "source": [
    "import pandas as pd\n",
    "import numpy as np\n",
    "from pathlib import Path\n",
    "\n",
    "from sklearn.preprocessing import MultiLabelBinarizer"
   ]
  },
  {
   "cell_type": "code",
   "execution_count": 2,
   "metadata": {},
   "outputs": [],
   "source": [
    "#Getting rid of cases that have no labels.Part of data cleaning essentially. Could try to do something fancy with missing\n",
    "#label but they are only 20 cases from like 20k so no point in spending time on that IMO.\n",
    "train_skiprows = [\n",
    "    94,\n",
    "    253,\n",
    "    510,\n",
    "    1528,\n",
    "    1940,\n",
    "    1954,\n",
    "    4030,\n",
    "    4427,\n",
    "    4644,\n",
    "    4728,\n",
    "    5232,\n",
    "    5763,\n",
    "    6296,\n",
    "    6334,\n",
    "    6704,\n",
    "    7084,\n",
    "    9478,\n",
    "    9676,\n",
    "    10000,\n",
    "    10489,\n",
    "    10737,\n",
    "    10911,\n",
    "    11675,\n",
    "    12281,\n",
    "    12600,\n",
    "    13148,\n",
    "    14168,\n",
    "    14723,\n",
    "]\n"
   ]
  },
  {
   "cell_type": "code",
   "execution_count": 22,
   "metadata": {},
   "outputs": [],
   "source": [
    "#Read data. Csv so seperate with ','.Skip the rows that dont have columns.\n",
    "raw_data = pd.read_csv('../data/raw/train.csv',sep = ',',skiprows=train_skiprows)"
   ]
  },
  {
   "cell_type": "code",
   "execution_count": 23,
   "metadata": {},
   "outputs": [],
   "source": [
    "#Put labels into a list (one big string atm) with split and covert them to integers.\n",
    "raw_data[\"labels\"] = (raw_data[\"labels\"].str.split(\",\").apply(lambda x: list(map(int, x))))"
   ]
  },
  {
   "cell_type": "code",
   "execution_count": 24,
   "metadata": {},
   "outputs": [
    {
     "data": {
      "text/html": [
       "<div>\n",
       "<style scoped>\n",
       "    .dataframe tbody tr th:only-of-type {\n",
       "        vertical-align: middle;\n",
       "    }\n",
       "\n",
       "    .dataframe tbody tr th {\n",
       "        vertical-align: top;\n",
       "    }\n",
       "\n",
       "    .dataframe thead th {\n",
       "        text-align: right;\n",
       "    }\n",
       "</style>\n",
       "<table border=\"1\" class=\"dataframe\">\n",
       "  <thead>\n",
       "    <tr style=\"text-align: right;\">\n",
       "      <th></th>\n",
       "      <th>ex_id</th>\n",
       "      <th>labels</th>\n",
       "      <th>features</th>\n",
       "    </tr>\n",
       "  </thead>\n",
       "  <tbody>\n",
       "    <tr>\n",
       "      <th>0</th>\n",
       "      <td>0</td>\n",
       "      <td>[446, 521, 1149, 1249, 1265, 1482]</td>\n",
       "      <td>0:0.084556 1:0.138594 2:0.094304 3:0.195764 4:...</td>\n",
       "    </tr>\n",
       "    <tr>\n",
       "      <th>1</th>\n",
       "      <td>1</td>\n",
       "      <td>[78, 80, 85, 86]</td>\n",
       "      <td>0:0.050734 1:0.762265 2:0.754431 3:0.065255 4:...</td>\n",
       "    </tr>\n",
       "    <tr>\n",
       "      <th>2</th>\n",
       "      <td>2</td>\n",
       "      <td>[457, 577, 579, 640, 939, 1158]</td>\n",
       "      <td>0:0.101468 1:0.138594 2:0.377215 3:0.130509 4:...</td>\n",
       "    </tr>\n",
       "    <tr>\n",
       "      <th>3</th>\n",
       "      <td>3</td>\n",
       "      <td>[172, 654, 693, 1704]</td>\n",
       "      <td>0:0.186024 1:0.346484 2:0.141456 3:0.195764 4:...</td>\n",
       "    </tr>\n",
       "    <tr>\n",
       "      <th>4</th>\n",
       "      <td>4</td>\n",
       "      <td>[403, 508, 1017, 1052, 1731, 3183]</td>\n",
       "      <td>0:0.135290 1:0.277187 2:0.141456 3:0.065255 4:...</td>\n",
       "    </tr>\n",
       "  </tbody>\n",
       "</table>\n",
       "</div>"
      ],
      "text/plain": [
       "   ex_id                              labels  \\\n",
       "0      0  [446, 521, 1149, 1249, 1265, 1482]   \n",
       "1      1                    [78, 80, 85, 86]   \n",
       "2      2     [457, 577, 579, 640, 939, 1158]   \n",
       "3      3               [172, 654, 693, 1704]   \n",
       "4      4  [403, 508, 1017, 1052, 1731, 3183]   \n",
       "\n",
       "                                            features  \n",
       "0  0:0.084556 1:0.138594 2:0.094304 3:0.195764 4:...  \n",
       "1  0:0.050734 1:0.762265 2:0.754431 3:0.065255 4:...  \n",
       "2  0:0.101468 1:0.138594 2:0.377215 3:0.130509 4:...  \n",
       "3  0:0.186024 1:0.346484 2:0.141456 3:0.195764 4:...  \n",
       "4  0:0.135290 1:0.277187 2:0.141456 3:0.065255 4:...  "
      ]
     },
     "execution_count": 24,
     "metadata": {},
     "output_type": "execute_result"
    }
   ],
   "source": [
    "raw_data.head()"
   ]
  },
  {
   "cell_type": "code",
   "execution_count": 25,
   "metadata": {},
   "outputs": [],
   "source": [
    "#Convert features (a string atm) into a dictionary where key is a integer and the value is a float.\n",
    "#First split converts each row into a list, then within each list we loop the elements and seperate by : for which the first \n",
    "#value is the key and the second is the value.\n",
    "raw_data[\"features\"] = (raw_data[\"features\"].str.split(\" \").apply(lambda x: {int(i.split(\":\")[0])\n",
    "                                                                             : float(i.split(\":\")[1]) for i in x}))"
   ]
  },
  {
   "cell_type": "code",
   "execution_count": 7,
   "metadata": {},
   "outputs": [
    {
     "data": {
      "text/html": [
       "<div>\n",
       "<style scoped>\n",
       "    .dataframe tbody tr th:only-of-type {\n",
       "        vertical-align: middle;\n",
       "    }\n",
       "\n",
       "    .dataframe tbody tr th {\n",
       "        vertical-align: top;\n",
       "    }\n",
       "\n",
       "    .dataframe thead th {\n",
       "        text-align: right;\n",
       "    }\n",
       "</style>\n",
       "<table border=\"1\" class=\"dataframe\">\n",
       "  <thead>\n",
       "    <tr style=\"text-align: right;\">\n",
       "      <th></th>\n",
       "      <th>ex_id</th>\n",
       "      <th>labels</th>\n",
       "      <th>features</th>\n",
       "    </tr>\n",
       "  </thead>\n",
       "  <tbody>\n",
       "    <tr>\n",
       "      <th>0</th>\n",
       "      <td>0</td>\n",
       "      <td>[446, 521, 1149, 1249, 1265, 1482]</td>\n",
       "      <td>{0: 0.084556, 1: 0.138594, 2: 0.094304, 3: 0.1...</td>\n",
       "    </tr>\n",
       "    <tr>\n",
       "      <th>1</th>\n",
       "      <td>1</td>\n",
       "      <td>[78, 80, 85, 86]</td>\n",
       "      <td>{0: 0.050734, 1: 0.762265, 2: 0.754431, 3: 0.0...</td>\n",
       "    </tr>\n",
       "    <tr>\n",
       "      <th>2</th>\n",
       "      <td>2</td>\n",
       "      <td>[457, 577, 579, 640, 939, 1158]</td>\n",
       "      <td>{0: 0.101468, 1: 0.138594, 2: 0.377215, 3: 0.1...</td>\n",
       "    </tr>\n",
       "    <tr>\n",
       "      <th>3</th>\n",
       "      <td>3</td>\n",
       "      <td>[172, 654, 693, 1704]</td>\n",
       "      <td>{0: 0.186024, 1: 0.346484, 2: 0.141456, 3: 0.1...</td>\n",
       "    </tr>\n",
       "    <tr>\n",
       "      <th>4</th>\n",
       "      <td>4</td>\n",
       "      <td>[403, 508, 1017, 1052, 1731, 3183]</td>\n",
       "      <td>{0: 0.13529, 1: 0.277187, 2: 0.141456, 3: 0.06...</td>\n",
       "    </tr>\n",
       "  </tbody>\n",
       "</table>\n",
       "</div>"
      ],
      "text/plain": [
       "   ex_id                              labels  \\\n",
       "0      0  [446, 521, 1149, 1249, 1265, 1482]   \n",
       "1      1                    [78, 80, 85, 86]   \n",
       "2      2     [457, 577, 579, 640, 939, 1158]   \n",
       "3      3               [172, 654, 693, 1704]   \n",
       "4      4  [403, 508, 1017, 1052, 1731, 3183]   \n",
       "\n",
       "                                            features  \n",
       "0  {0: 0.084556, 1: 0.138594, 2: 0.094304, 3: 0.1...  \n",
       "1  {0: 0.050734, 1: 0.762265, 2: 0.754431, 3: 0.0...  \n",
       "2  {0: 0.101468, 1: 0.138594, 2: 0.377215, 3: 0.1...  \n",
       "3  {0: 0.186024, 1: 0.346484, 2: 0.141456, 3: 0.1...  \n",
       "4  {0: 0.13529, 1: 0.277187, 2: 0.141456, 3: 0.06...  "
      ]
     },
     "execution_count": 7,
     "metadata": {},
     "output_type": "execute_result"
    }
   ],
   "source": [
    "raw_data.head()"
   ]
  },
  {
   "cell_type": "code",
   "execution_count": 26,
   "metadata": {},
   "outputs": [],
   "source": [
    "#Converts the dictionary corresponding to each row into a list that has the feature keys in one list and the values in another\n",
    "raw_data[\"features\"] = raw_data[\"features\"].apply(lambda x: [list(x.keys()), list(x.values())])"
   ]
  },
  {
   "cell_type": "code",
   "execution_count": 30,
   "metadata": {},
   "outputs": [
    {
     "data": {
      "text/plain": [
       "0               [446, 521, 1149, 1249, 1265, 1482]\n",
       "1                                 [78, 80, 85, 86]\n",
       "2                  [457, 577, 579, 640, 939, 1158]\n",
       "3                            [172, 654, 693, 1704]\n",
       "4               [403, 508, 1017, 1052, 1731, 3183]\n",
       "                           ...                    \n",
       "15506              [592, 595, 617, 694, 724, 1099]\n",
       "15507    [64, 180, 342, 418, 903, 941, 1997, 2345]\n",
       "15508                              [284, 314, 343]\n",
       "15509             [165, 260, 317, 683, 1218, 1501]\n",
       "15510                         [203, 204, 681, 686]\n",
       "Name: labels, Length: 15511, dtype: object"
      ]
     },
     "execution_count": 30,
     "metadata": {},
     "output_type": "execute_result"
    }
   ],
   "source": [
    "raw_data[\"labels\"]"
   ]
  },
  {
   "cell_type": "code",
   "execution_count": 31,
   "metadata": {},
   "outputs": [],
   "source": [
    "\n",
    "#test = MultiLabelBinarizer().fit_transform(raw_data[\"labels\"])"
   ]
  },
  {
   "cell_type": "code",
   "execution_count": 9,
   "metadata": {},
   "outputs": [],
   "source": [
    "NUM_FEATURES = 5000\n",
    "NUM_CLASSES = 3993\n",
    "\n",
    "#Create the two sparse matrices, one for the features and one for the classes.\n",
    "temp = np.zeros((raw_data.shape[0], NUM_FEATURES))\n",
    "features = pd.DataFrame(temp)\n",
    "\n",
    "temp = np.zeros((raw_data.shape[0], NUM_CLASSES))\n",
    "labels = pd.DataFrame(temp)"
   ]
  },
  {
   "cell_type": "code",
   "execution_count": 10,
   "metadata": {},
   "outputs": [
    {
     "data": {
      "text/html": [
       "<div>\n",
       "<style scoped>\n",
       "    .dataframe tbody tr th:only-of-type {\n",
       "        vertical-align: middle;\n",
       "    }\n",
       "\n",
       "    .dataframe tbody tr th {\n",
       "        vertical-align: top;\n",
       "    }\n",
       "\n",
       "    .dataframe thead th {\n",
       "        text-align: right;\n",
       "    }\n",
       "</style>\n",
       "<table border=\"1\" class=\"dataframe\">\n",
       "  <thead>\n",
       "    <tr style=\"text-align: right;\">\n",
       "      <th></th>\n",
       "      <th>ex_id</th>\n",
       "      <th>labels</th>\n",
       "      <th>features</th>\n",
       "    </tr>\n",
       "  </thead>\n",
       "  <tbody>\n",
       "    <tr>\n",
       "      <th>0</th>\n",
       "      <td>0</td>\n",
       "      <td>[446, 521, 1149, 1249, 1265, 1482]</td>\n",
       "      <td>[[0, 1, 2, 3, 4, 5, 6, 7, 8, 10, 11, 12, 19, 2...</td>\n",
       "    </tr>\n",
       "    <tr>\n",
       "      <th>1</th>\n",
       "      <td>1</td>\n",
       "      <td>[78, 80, 85, 86]</td>\n",
       "      <td>[[0, 1, 2, 3, 4, 6, 10, 11, 13, 15, 16, 18, 21...</td>\n",
       "    </tr>\n",
       "    <tr>\n",
       "      <th>2</th>\n",
       "      <td>2</td>\n",
       "      <td>[457, 577, 579, 640, 939, 1158]</td>\n",
       "      <td>[[0, 1, 2, 3, 4, 5, 6, 7, 8, 9, 10, 11, 12, 13...</td>\n",
       "    </tr>\n",
       "    <tr>\n",
       "      <th>3</th>\n",
       "      <td>3</td>\n",
       "      <td>[172, 654, 693, 1704]</td>\n",
       "      <td>[[0, 1, 2, 3, 4, 5, 6, 7, 8, 9, 10, 11, 12, 13...</td>\n",
       "    </tr>\n",
       "    <tr>\n",
       "      <th>4</th>\n",
       "      <td>4</td>\n",
       "      <td>[403, 508, 1017, 1052, 1731, 3183]</td>\n",
       "      <td>[[0, 1, 2, 3, 4, 5, 6, 7, 8, 9, 10, 12, 13, 14...</td>\n",
       "    </tr>\n",
       "  </tbody>\n",
       "</table>\n",
       "</div>"
      ],
      "text/plain": [
       "   ex_id                              labels  \\\n",
       "0      0  [446, 521, 1149, 1249, 1265, 1482]   \n",
       "1      1                    [78, 80, 85, 86]   \n",
       "2      2     [457, 577, 579, 640, 939, 1158]   \n",
       "3      3               [172, 654, 693, 1704]   \n",
       "4      4  [403, 508, 1017, 1052, 1731, 3183]   \n",
       "\n",
       "                                            features  \n",
       "0  [[0, 1, 2, 3, 4, 5, 6, 7, 8, 10, 11, 12, 19, 2...  \n",
       "1  [[0, 1, 2, 3, 4, 6, 10, 11, 13, 15, 16, 18, 21...  \n",
       "2  [[0, 1, 2, 3, 4, 5, 6, 7, 8, 9, 10, 11, 12, 13...  \n",
       "3  [[0, 1, 2, 3, 4, 5, 6, 7, 8, 9, 10, 11, 12, 13...  \n",
       "4  [[0, 1, 2, 3, 4, 5, 6, 7, 8, 9, 10, 12, 13, 14...  "
      ]
     },
     "execution_count": 10,
     "metadata": {},
     "output_type": "execute_result"
    }
   ],
   "source": [
    "raw_data.head()"
   ]
  },
  {
   "cell_type": "code",
   "execution_count": 11,
   "metadata": {},
   "outputs": [],
   "source": [
    "#Puts the weight of each feature per example into the empty sparse matrix.\n",
    "def create_features(row):\n",
    "    features.loc[row.name, row[\"features\"][0]] = row[\"features\"][1]\n",
    "\n",
    "#Puts a 1 on each row of the matrix that has label at that column.\n",
    "def create_labels(row):\n",
    "    labels.loc[row.name, row[\"labels\"]] = 1"
   ]
  },
  {
   "cell_type": "code",
   "execution_count": 12,
   "metadata": {},
   "outputs": [
    {
     "data": {
      "text/plain": [
       "0        None\n",
       "1        None\n",
       "2        None\n",
       "3        None\n",
       "4        None\n",
       "         ... \n",
       "15506    None\n",
       "15507    None\n",
       "15508    None\n",
       "15509    None\n",
       "15510    None\n",
       "Length: 15511, dtype: object"
      ]
     },
     "execution_count": 12,
     "metadata": {},
     "output_type": "execute_result"
    }
   ],
   "source": [
    "raw_data.apply(lambda x: create_features(x), axis=1)"
   ]
  },
  {
   "cell_type": "code",
   "execution_count": 13,
   "metadata": {},
   "outputs": [
    {
     "data": {
      "text/plain": [
       "0        None\n",
       "1        None\n",
       "2        None\n",
       "3        None\n",
       "4        None\n",
       "         ... \n",
       "15506    None\n",
       "15507    None\n",
       "15508    None\n",
       "15509    None\n",
       "15510    None\n",
       "Length: 15511, dtype: object"
      ]
     },
     "execution_count": 13,
     "metadata": {},
     "output_type": "execute_result"
    }
   ],
   "source": [
    "raw_data.apply(lambda x: create_labels(x), axis=1)"
   ]
  },
  {
   "cell_type": "code",
   "execution_count": 14,
   "metadata": {},
   "outputs": [],
   "source": [
    "Path(\"../data/expanded\").mkdir(parents=True, exist_ok=True)"
   ]
  },
  {
   "cell_type": "code",
   "execution_count": 15,
   "metadata": {},
   "outputs": [
    {
     "name": "stdout",
     "output_type": "stream",
     "text": [
      "Saved dataframes as train_features.csv and train_labels.csv\n"
     ]
    }
   ],
   "source": [
    "file_prefix = \"train\"\n",
    "features.to_csv( f\"../data/expanded/{file_prefix}_features.csv\", index=False, header=False)\n",
    "labels.to_csv(f\"../data/expanded/{file_prefix}_labels.csv\", index=False, header=False)\n",
    "print(f\"Saved dataframes as {file_prefix}_features.csv and {file_prefix}_labels.csv\")"
   ]
  },
  {
   "cell_type": "code",
   "execution_count": 20,
   "metadata": {},
   "outputs": [
    {
     "data": {
      "text/html": [
       "<div>\n",
       "<style scoped>\n",
       "    .dataframe tbody tr th:only-of-type {\n",
       "        vertical-align: middle;\n",
       "    }\n",
       "\n",
       "    .dataframe tbody tr th {\n",
       "        vertical-align: top;\n",
       "    }\n",
       "\n",
       "    .dataframe thead th {\n",
       "        text-align: right;\n",
       "    }\n",
       "</style>\n",
       "<table border=\"1\" class=\"dataframe\">\n",
       "  <thead>\n",
       "    <tr style=\"text-align: right;\">\n",
       "      <th></th>\n",
       "      <th>0</th>\n",
       "      <th>1</th>\n",
       "      <th>2</th>\n",
       "      <th>3</th>\n",
       "      <th>4</th>\n",
       "      <th>5</th>\n",
       "      <th>6</th>\n",
       "      <th>7</th>\n",
       "      <th>8</th>\n",
       "      <th>9</th>\n",
       "      <th>...</th>\n",
       "      <th>4990</th>\n",
       "      <th>4991</th>\n",
       "      <th>4992</th>\n",
       "      <th>4993</th>\n",
       "      <th>4994</th>\n",
       "      <th>4995</th>\n",
       "      <th>4996</th>\n",
       "      <th>4997</th>\n",
       "      <th>4998</th>\n",
       "      <th>4999</th>\n",
       "    </tr>\n",
       "  </thead>\n",
       "  <tbody>\n",
       "    <tr>\n",
       "      <th>0</th>\n",
       "      <td>0.084556</td>\n",
       "      <td>0.138594</td>\n",
       "      <td>0.094304</td>\n",
       "      <td>0.195764</td>\n",
       "      <td>0.612552</td>\n",
       "      <td>0.106491</td>\n",
       "      <td>0.137765</td>\n",
       "      <td>0.145839</td>\n",
       "      <td>0.304610</td>\n",
       "      <td>0.000000</td>\n",
       "      <td>...</td>\n",
       "      <td>0.0</td>\n",
       "      <td>0.0</td>\n",
       "      <td>0.0</td>\n",
       "      <td>0.0</td>\n",
       "      <td>0.0</td>\n",
       "      <td>0.0</td>\n",
       "      <td>0.0</td>\n",
       "      <td>0.0</td>\n",
       "      <td>0.0</td>\n",
       "      <td>0.0</td>\n",
       "    </tr>\n",
       "    <tr>\n",
       "      <th>1</th>\n",
       "      <td>0.050734</td>\n",
       "      <td>0.762265</td>\n",
       "      <td>0.754431</td>\n",
       "      <td>0.065255</td>\n",
       "      <td>0.350030</td>\n",
       "      <td>0.000000</td>\n",
       "      <td>0.137765</td>\n",
       "      <td>0.000000</td>\n",
       "      <td>0.000000</td>\n",
       "      <td>0.000000</td>\n",
       "      <td>...</td>\n",
       "      <td>0.0</td>\n",
       "      <td>0.0</td>\n",
       "      <td>0.0</td>\n",
       "      <td>0.0</td>\n",
       "      <td>0.0</td>\n",
       "      <td>0.0</td>\n",
       "      <td>0.0</td>\n",
       "      <td>0.0</td>\n",
       "      <td>0.0</td>\n",
       "      <td>0.0</td>\n",
       "    </tr>\n",
       "    <tr>\n",
       "      <th>2</th>\n",
       "      <td>0.101468</td>\n",
       "      <td>0.138594</td>\n",
       "      <td>0.377215</td>\n",
       "      <td>0.130509</td>\n",
       "      <td>0.175015</td>\n",
       "      <td>0.745434</td>\n",
       "      <td>0.137765</td>\n",
       "      <td>1.020873</td>\n",
       "      <td>1.218441</td>\n",
       "      <td>0.309297</td>\n",
       "      <td>...</td>\n",
       "      <td>0.0</td>\n",
       "      <td>0.0</td>\n",
       "      <td>0.0</td>\n",
       "      <td>0.0</td>\n",
       "      <td>0.0</td>\n",
       "      <td>0.0</td>\n",
       "      <td>0.0</td>\n",
       "      <td>0.0</td>\n",
       "      <td>0.0</td>\n",
       "      <td>0.0</td>\n",
       "    </tr>\n",
       "    <tr>\n",
       "      <th>3</th>\n",
       "      <td>0.186024</td>\n",
       "      <td>0.346484</td>\n",
       "      <td>0.141456</td>\n",
       "      <td>0.195764</td>\n",
       "      <td>0.262522</td>\n",
       "      <td>0.425962</td>\n",
       "      <td>0.551062</td>\n",
       "      <td>0.437517</td>\n",
       "      <td>0.609220</td>\n",
       "      <td>0.618594</td>\n",
       "      <td>...</td>\n",
       "      <td>0.0</td>\n",
       "      <td>0.0</td>\n",
       "      <td>0.0</td>\n",
       "      <td>0.0</td>\n",
       "      <td>0.0</td>\n",
       "      <td>0.0</td>\n",
       "      <td>0.0</td>\n",
       "      <td>0.0</td>\n",
       "      <td>0.0</td>\n",
       "      <td>0.0</td>\n",
       "    </tr>\n",
       "    <tr>\n",
       "      <th>4</th>\n",
       "      <td>0.135290</td>\n",
       "      <td>0.277187</td>\n",
       "      <td>0.141456</td>\n",
       "      <td>0.065255</td>\n",
       "      <td>1.137597</td>\n",
       "      <td>0.106491</td>\n",
       "      <td>0.137765</td>\n",
       "      <td>0.583356</td>\n",
       "      <td>0.152305</td>\n",
       "      <td>0.154649</td>\n",
       "      <td>...</td>\n",
       "      <td>0.0</td>\n",
       "      <td>0.0</td>\n",
       "      <td>0.0</td>\n",
       "      <td>0.0</td>\n",
       "      <td>0.0</td>\n",
       "      <td>0.0</td>\n",
       "      <td>0.0</td>\n",
       "      <td>0.0</td>\n",
       "      <td>0.0</td>\n",
       "      <td>0.0</td>\n",
       "    </tr>\n",
       "  </tbody>\n",
       "</table>\n",
       "<p>5 rows × 5000 columns</p>\n",
       "</div>"
      ],
      "text/plain": [
       "       0         1         2         3         4         5         6     \\\n",
       "0  0.084556  0.138594  0.094304  0.195764  0.612552  0.106491  0.137765   \n",
       "1  0.050734  0.762265  0.754431  0.065255  0.350030  0.000000  0.137765   \n",
       "2  0.101468  0.138594  0.377215  0.130509  0.175015  0.745434  0.137765   \n",
       "3  0.186024  0.346484  0.141456  0.195764  0.262522  0.425962  0.551062   \n",
       "4  0.135290  0.277187  0.141456  0.065255  1.137597  0.106491  0.137765   \n",
       "\n",
       "       7         8         9     ...  4990  4991  4992  4993  4994  4995  \\\n",
       "0  0.145839  0.304610  0.000000  ...   0.0   0.0   0.0   0.0   0.0   0.0   \n",
       "1  0.000000  0.000000  0.000000  ...   0.0   0.0   0.0   0.0   0.0   0.0   \n",
       "2  1.020873  1.218441  0.309297  ...   0.0   0.0   0.0   0.0   0.0   0.0   \n",
       "3  0.437517  0.609220  0.618594  ...   0.0   0.0   0.0   0.0   0.0   0.0   \n",
       "4  0.583356  0.152305  0.154649  ...   0.0   0.0   0.0   0.0   0.0   0.0   \n",
       "\n",
       "   4996  4997  4998  4999  \n",
       "0   0.0   0.0   0.0   0.0  \n",
       "1   0.0   0.0   0.0   0.0  \n",
       "2   0.0   0.0   0.0   0.0  \n",
       "3   0.0   0.0   0.0   0.0  \n",
       "4   0.0   0.0   0.0   0.0  \n",
       "\n",
       "[5 rows x 5000 columns]"
      ]
     },
     "execution_count": 20,
     "metadata": {},
     "output_type": "execute_result"
    }
   ],
   "source": [
    "features.head()"
   ]
  },
  {
   "cell_type": "code",
   "execution_count": 12,
   "metadata": {},
   "outputs": [],
   "source": [
    "test = 'five'"
   ]
  },
  {
   "cell_type": "code",
   "execution_count": 13,
   "metadata": {},
   "outputs": [
    {
     "name": "stdout",
     "output_type": "stream",
     "text": [
      "ss\n"
     ]
    }
   ],
   "source": [
    "while type(test) is not int:\n",
    "    print(\"ss\")\n",
    "    test = 5"
   ]
  },
  {
   "cell_type": "code",
   "execution_count": 14,
   "metadata": {},
   "outputs": [],
   "source": [
    "s = '5'"
   ]
  },
  {
   "cell_type": "code",
   "execution_count": 15,
   "metadata": {},
   "outputs": [
    {
     "data": {
      "text/plain": [
       "True"
      ]
     },
     "execution_count": 15,
     "metadata": {},
     "output_type": "execute_result"
    }
   ],
   "source": [
    "s.isdigit()"
   ]
  },
  {
   "cell_type": "code",
   "execution_count": null,
   "metadata": {},
   "outputs": [],
   "source": []
  }
 ],
 "metadata": {
  "kernelspec": {
   "display_name": "Python 3",
   "language": "python",
   "name": "python3"
  },
  "language_info": {
   "codemirror_mode": {
    "name": "ipython",
    "version": 3
   },
   "file_extension": ".py",
   "mimetype": "text/x-python",
   "name": "python",
   "nbconvert_exporter": "python",
   "pygments_lexer": "ipython3",
   "version": "3.6.1"
  }
 },
 "nbformat": 4,
 "nbformat_minor": 2
}
