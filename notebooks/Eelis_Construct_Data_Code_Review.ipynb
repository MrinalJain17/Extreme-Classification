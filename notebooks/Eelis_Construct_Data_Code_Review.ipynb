{
 "cells": [
  {
   "cell_type": "code",
   "execution_count": 1,
   "metadata": {},
   "outputs": [],
   "source": [
    "import pandas as pd\n",
    "import numpy as np\n",
    "from pathlib import Path"
   ]
  },
  {
   "cell_type": "code",
   "execution_count": 2,
   "metadata": {},
   "outputs": [],
   "source": [
    "#Getting rid of cases that have no labels.Part of data cleaning essentially. Could try to do something fancy with missing\n",
    "#label but they are only 20 cases from like 20k so no point in spending time on that IMO.\n",
    "train_skiprows = [\n",
    "    94,\n",
    "    253,\n",
    "    510,\n",
    "    1528,\n",
    "    1940,\n",
    "    1954,\n",
    "    4030,\n",
    "    4427,\n",
    "    4644,\n",
    "    4728,\n",
    "    5232,\n",
    "    5763,\n",
    "    6296,\n",
    "    6334,\n",
    "    6704,\n",
    "    7084,\n",
    "    9478,\n",
    "    9676,\n",
    "    10000,\n",
    "    10489,\n",
    "    10737,\n",
    "    10911,\n",
    "    11675,\n",
    "    12281,\n",
    "    12600,\n",
    "    13148,\n",
    "    14168,\n",
    "    14723,\n",
    "]\n"
   ]
  },
  {
   "cell_type": "code",
   "execution_count": 3,
   "metadata": {},
   "outputs": [],
   "source": [
    "#Read data. Csv so seperate with ','.Skip the rows that dont have columns.\n",
    "raw_data = pd.read_csv('../data/raw/train.csv',sep = ',',skiprows=train_skiprows)"
   ]
  },
  {
   "cell_type": "code",
   "execution_count": 4,
   "metadata": {},
   "outputs": [],
   "source": [
    "#Put labels into a list (one big string atm) with split and covert them to integers.\n",
    "raw_data[\"labels\"] = (raw_data[\"labels\"].str.split(\",\").apply(lambda x: list(map(int, x))))"
   ]
  },
  {
   "cell_type": "code",
   "execution_count": 5,
   "metadata": {},
   "outputs": [
    {
     "data": {
      "text/html": [
       "<div>\n",
       "<style scoped>\n",
       "    .dataframe tbody tr th:only-of-type {\n",
       "        vertical-align: middle;\n",
       "    }\n",
       "\n",
       "    .dataframe tbody tr th {\n",
       "        vertical-align: top;\n",
       "    }\n",
       "\n",
       "    .dataframe thead th {\n",
       "        text-align: right;\n",
       "    }\n",
       "</style>\n",
       "<table border=\"1\" class=\"dataframe\">\n",
       "  <thead>\n",
       "    <tr style=\"text-align: right;\">\n",
       "      <th></th>\n",
       "      <th>ex_id</th>\n",
       "      <th>labels</th>\n",
       "      <th>features</th>\n",
       "    </tr>\n",
       "  </thead>\n",
       "  <tbody>\n",
       "    <tr>\n",
       "      <th>0</th>\n",
       "      <td>0</td>\n",
       "      <td>[446, 521, 1149, 1249, 1265, 1482]</td>\n",
       "      <td>0:0.084556 1:0.138594 2:0.094304 3:0.195764 4:...</td>\n",
       "    </tr>\n",
       "    <tr>\n",
       "      <th>1</th>\n",
       "      <td>1</td>\n",
       "      <td>[78, 80, 85, 86]</td>\n",
       "      <td>0:0.050734 1:0.762265 2:0.754431 3:0.065255 4:...</td>\n",
       "    </tr>\n",
       "    <tr>\n",
       "      <th>2</th>\n",
       "      <td>2</td>\n",
       "      <td>[457, 577, 579, 640, 939, 1158]</td>\n",
       "      <td>0:0.101468 1:0.138594 2:0.377215 3:0.130509 4:...</td>\n",
       "    </tr>\n",
       "    <tr>\n",
       "      <th>3</th>\n",
       "      <td>3</td>\n",
       "      <td>[172, 654, 693, 1704]</td>\n",
       "      <td>0:0.186024 1:0.346484 2:0.141456 3:0.195764 4:...</td>\n",
       "    </tr>\n",
       "    <tr>\n",
       "      <th>4</th>\n",
       "      <td>4</td>\n",
       "      <td>[403, 508, 1017, 1052, 1731, 3183]</td>\n",
       "      <td>0:0.135290 1:0.277187 2:0.141456 3:0.065255 4:...</td>\n",
       "    </tr>\n",
       "  </tbody>\n",
       "</table>\n",
       "</div>"
      ],
      "text/plain": [
       "   ex_id                              labels  \\\n",
       "0      0  [446, 521, 1149, 1249, 1265, 1482]   \n",
       "1      1                    [78, 80, 85, 86]   \n",
       "2      2     [457, 577, 579, 640, 939, 1158]   \n",
       "3      3               [172, 654, 693, 1704]   \n",
       "4      4  [403, 508, 1017, 1052, 1731, 3183]   \n",
       "\n",
       "                                            features  \n",
       "0  0:0.084556 1:0.138594 2:0.094304 3:0.195764 4:...  \n",
       "1  0:0.050734 1:0.762265 2:0.754431 3:0.065255 4:...  \n",
       "2  0:0.101468 1:0.138594 2:0.377215 3:0.130509 4:...  \n",
       "3  0:0.186024 1:0.346484 2:0.141456 3:0.195764 4:...  \n",
       "4  0:0.135290 1:0.277187 2:0.141456 3:0.065255 4:...  "
      ]
     },
     "execution_count": 5,
     "metadata": {},
     "output_type": "execute_result"
    }
   ],
   "source": [
    "raw_data.head()"
   ]
  },
  {
   "cell_type": "code",
   "execution_count": 6,
   "metadata": {},
   "outputs": [],
   "source": [
    "#Convert features (a string atm) into a dictionary where key is a integer and the value is a float.\n",
    "#First split converts each row into a list, then within each list we loop the elements and seperate by : for which the first \n",
    "#value is the key and the second is the value.\n",
    "raw_data[\"features\"] = (raw_data[\"features\"].str.split(\" \").apply(lambda x: {int(i.split(\":\")[0])\n",
    "                                                                             : float(i.split(\":\")[1]) for i in x}))"
   ]
  },
  {
   "cell_type": "code",
   "execution_count": 7,
   "metadata": {},
   "outputs": [
    {
     "data": {
      "text/html": [
       "<div>\n",
       "<style scoped>\n",
       "    .dataframe tbody tr th:only-of-type {\n",
       "        vertical-align: middle;\n",
       "    }\n",
       "\n",
       "    .dataframe tbody tr th {\n",
       "        vertical-align: top;\n",
       "    }\n",
       "\n",
       "    .dataframe thead th {\n",
       "        text-align: right;\n",
       "    }\n",
       "</style>\n",
       "<table border=\"1\" class=\"dataframe\">\n",
       "  <thead>\n",
       "    <tr style=\"text-align: right;\">\n",
       "      <th></th>\n",
       "      <th>ex_id</th>\n",
       "      <th>labels</th>\n",
       "      <th>features</th>\n",
       "    </tr>\n",
       "  </thead>\n",
       "  <tbody>\n",
       "    <tr>\n",
       "      <th>0</th>\n",
       "      <td>0</td>\n",
       "      <td>[446, 521, 1149, 1249, 1265, 1482]</td>\n",
       "      <td>{0: 0.084556, 1: 0.138594, 2: 0.094304, 3: 0.1...</td>\n",
       "    </tr>\n",
       "    <tr>\n",
       "      <th>1</th>\n",
       "      <td>1</td>\n",
       "      <td>[78, 80, 85, 86]</td>\n",
       "      <td>{0: 0.050734, 1: 0.762265, 2: 0.754431, 3: 0.0...</td>\n",
       "    </tr>\n",
       "    <tr>\n",
       "      <th>2</th>\n",
       "      <td>2</td>\n",
       "      <td>[457, 577, 579, 640, 939, 1158]</td>\n",
       "      <td>{0: 0.101468, 1: 0.138594, 2: 0.377215, 3: 0.1...</td>\n",
       "    </tr>\n",
       "    <tr>\n",
       "      <th>3</th>\n",
       "      <td>3</td>\n",
       "      <td>[172, 654, 693, 1704]</td>\n",
       "      <td>{0: 0.186024, 1: 0.346484, 2: 0.141456, 3: 0.1...</td>\n",
       "    </tr>\n",
       "    <tr>\n",
       "      <th>4</th>\n",
       "      <td>4</td>\n",
       "      <td>[403, 508, 1017, 1052, 1731, 3183]</td>\n",
       "      <td>{0: 0.13529, 1: 0.277187, 2: 0.141456, 3: 0.06...</td>\n",
       "    </tr>\n",
       "  </tbody>\n",
       "</table>\n",
       "</div>"
      ],
      "text/plain": [
       "   ex_id                              labels  \\\n",
       "0      0  [446, 521, 1149, 1249, 1265, 1482]   \n",
       "1      1                    [78, 80, 85, 86]   \n",
       "2      2     [457, 577, 579, 640, 939, 1158]   \n",
       "3      3               [172, 654, 693, 1704]   \n",
       "4      4  [403, 508, 1017, 1052, 1731, 3183]   \n",
       "\n",
       "                                            features  \n",
       "0  {0: 0.084556, 1: 0.138594, 2: 0.094304, 3: 0.1...  \n",
       "1  {0: 0.050734, 1: 0.762265, 2: 0.754431, 3: 0.0...  \n",
       "2  {0: 0.101468, 1: 0.138594, 2: 0.377215, 3: 0.1...  \n",
       "3  {0: 0.186024, 1: 0.346484, 2: 0.141456, 3: 0.1...  \n",
       "4  {0: 0.13529, 1: 0.277187, 2: 0.141456, 3: 0.06...  "
      ]
     },
     "execution_count": 7,
     "metadata": {},
     "output_type": "execute_result"
    }
   ],
   "source": [
    "raw_data.head()"
   ]
  },
  {
   "cell_type": "code",
   "execution_count": 8,
   "metadata": {},
   "outputs": [],
   "source": [
    "#Converts the dictionary corresponding to each row into a list that has the feature keys in one list and the values in another\n",
    "raw_data[\"features\"] = raw_data[\"features\"].apply(lambda x: [list(x.keys()), list(x.values())])"
   ]
  },
  {
   "cell_type": "code",
   "execution_count": 9,
   "metadata": {},
   "outputs": [],
   "source": [
    "NUM_FEATURES = 5000\n",
    "NUM_CLASSES = 3993\n",
    "\n",
    "#Create the two sparse matrices, one for the features and one for the classes.\n",
    "temp = np.zeros((raw_data.shape[0], NUM_FEATURES))\n",
    "features = pd.DataFrame(temp)\n",
    "\n",
    "temp = np.zeros((raw_data.shape[0], NUM_CLASSES))\n",
    "labels = pd.DataFrame(temp)"
   ]
  },
  {
   "cell_type": "code",
   "execution_count": 10,
   "metadata": {},
   "outputs": [
    {
     "data": {
      "text/html": [
       "<div>\n",
       "<style scoped>\n",
       "    .dataframe tbody tr th:only-of-type {\n",
       "        vertical-align: middle;\n",
       "    }\n",
       "\n",
       "    .dataframe tbody tr th {\n",
       "        vertical-align: top;\n",
       "    }\n",
       "\n",
       "    .dataframe thead th {\n",
       "        text-align: right;\n",
       "    }\n",
       "</style>\n",
       "<table border=\"1\" class=\"dataframe\">\n",
       "  <thead>\n",
       "    <tr style=\"text-align: right;\">\n",
       "      <th></th>\n",
       "      <th>ex_id</th>\n",
       "      <th>labels</th>\n",
       "      <th>features</th>\n",
       "    </tr>\n",
       "  </thead>\n",
       "  <tbody>\n",
       "    <tr>\n",
       "      <th>0</th>\n",
       "      <td>0</td>\n",
       "      <td>[446, 521, 1149, 1249, 1265, 1482]</td>\n",
       "      <td>[[0, 1, 2, 3, 4, 5, 6, 7, 8, 10, 11, 12, 19, 2...</td>\n",
       "    </tr>\n",
       "    <tr>\n",
       "      <th>1</th>\n",
       "      <td>1</td>\n",
       "      <td>[78, 80, 85, 86]</td>\n",
       "      <td>[[0, 1, 2, 3, 4, 6, 10, 11, 13, 15, 16, 18, 21...</td>\n",
       "    </tr>\n",
       "    <tr>\n",
       "      <th>2</th>\n",
       "      <td>2</td>\n",
       "      <td>[457, 577, 579, 640, 939, 1158]</td>\n",
       "      <td>[[0, 1, 2, 3, 4, 5, 6, 7, 8, 9, 10, 11, 12, 13...</td>\n",
       "    </tr>\n",
       "    <tr>\n",
       "      <th>3</th>\n",
       "      <td>3</td>\n",
       "      <td>[172, 654, 693, 1704]</td>\n",
       "      <td>[[0, 1, 2, 3, 4, 5, 6, 7, 8, 9, 10, 11, 12, 13...</td>\n",
       "    </tr>\n",
       "    <tr>\n",
       "      <th>4</th>\n",
       "      <td>4</td>\n",
       "      <td>[403, 508, 1017, 1052, 1731, 3183]</td>\n",
       "      <td>[[0, 1, 2, 3, 4, 5, 6, 7, 8, 9, 10, 12, 13, 14...</td>\n",
       "    </tr>\n",
       "  </tbody>\n",
       "</table>\n",
       "</div>"
      ],
      "text/plain": [
       "   ex_id                              labels  \\\n",
       "0      0  [446, 521, 1149, 1249, 1265, 1482]   \n",
       "1      1                    [78, 80, 85, 86]   \n",
       "2      2     [457, 577, 579, 640, 939, 1158]   \n",
       "3      3               [172, 654, 693, 1704]   \n",
       "4      4  [403, 508, 1017, 1052, 1731, 3183]   \n",
       "\n",
       "                                            features  \n",
       "0  [[0, 1, 2, 3, 4, 5, 6, 7, 8, 10, 11, 12, 19, 2...  \n",
       "1  [[0, 1, 2, 3, 4, 6, 10, 11, 13, 15, 16, 18, 21...  \n",
       "2  [[0, 1, 2, 3, 4, 5, 6, 7, 8, 9, 10, 11, 12, 13...  \n",
       "3  [[0, 1, 2, 3, 4, 5, 6, 7, 8, 9, 10, 11, 12, 13...  \n",
       "4  [[0, 1, 2, 3, 4, 5, 6, 7, 8, 9, 10, 12, 13, 14...  "
      ]
     },
     "execution_count": 10,
     "metadata": {},
     "output_type": "execute_result"
    }
   ],
   "source": [
    "raw_data.head()"
   ]
  },
  {
   "cell_type": "code",
   "execution_count": 11,
   "metadata": {},
   "outputs": [],
   "source": [
    "#Puts the weight of each feature per example into the empty sparse matrix.\n",
    "def create_features(row):\n",
    "    features.loc[row.name, row[\"features\"][0]] = row[\"features\"][1]\n",
    "\n",
    "#Puts a 1 on each row of the matrix that has label at that column.\n",
    "def create_labels(row):\n",
    "    labels.loc[row.name, row[\"labels\"]] = 1"
   ]
  },
  {
   "cell_type": "code",
   "execution_count": 12,
   "metadata": {},
   "outputs": [
    {
     "data": {
      "text/plain": [
       "0        None\n",
       "1        None\n",
       "2        None\n",
       "3        None\n",
       "4        None\n",
       "         ... \n",
       "15506    None\n",
       "15507    None\n",
       "15508    None\n",
       "15509    None\n",
       "15510    None\n",
       "Length: 15511, dtype: object"
      ]
     },
     "execution_count": 12,
     "metadata": {},
     "output_type": "execute_result"
    }
   ],
   "source": [
    "raw_data.apply(lambda x: create_features(x), axis=1)"
   ]
  },
  {
   "cell_type": "code",
   "execution_count": null,
   "metadata": {},
   "outputs": [],
   "source": [
    "raw_data.apply(lambda x: create_labels(x), axis=1)"
   ]
  },
  {
   "cell_type": "code",
   "execution_count": null,
   "metadata": {},
   "outputs": [],
   "source": [
    "Path(\"../data/expanded\").mkdir(parents=True, exist_ok=True)"
   ]
  },
  {
   "cell_type": "code",
   "execution_count": null,
   "metadata": {},
   "outputs": [],
   "source": [
    "file_prefix = \"train\"\n",
    "features.to_csv( f\"../data/expanded/{file_prefix}_features.csv\", index=False, header=False)\n",
    "labels.to_csv(f\"../data/expanded/{file_prefix}_labels.csv\", index=False, header=False)\n",
    "print(f\"Saved dataframes as {file_prefix}_features.csv and {file_prefix}_labels.csv\")"
   ]
  },
  {
   "cell_type": "code",
   "execution_count": null,
   "metadata": {},
   "outputs": [],
   "source": []
  }
 ],
 "metadata": {
  "kernelspec": {
   "display_name": "Python 3",
   "language": "python",
   "name": "python3"
  },
  "language_info": {
   "codemirror_mode": {
    "name": "ipython",
    "version": 3
   },
   "file_extension": ".py",
   "mimetype": "text/x-python",
   "name": "python",
   "nbconvert_exporter": "python",
   "pygments_lexer": "ipython3",
   "version": "3.6.1"
  }
 },
 "nbformat": 4,
 "nbformat_minor": 2
}
