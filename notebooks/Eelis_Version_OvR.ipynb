{
 "cells": [
  {
   "cell_type": "markdown",
   "metadata": {},
   "source": [
    "# OvR"
   ]
  },
  {
   "cell_type": "markdown",
   "metadata": {},
   "source": [
    "This notebook tries to create a baseline for the task. Noteworthy points:\n",
    "\n",
    "-Using LRAP loss metric in cross-validation in Model 2. \n",
    "\n",
    "-Best score is around 0.3 in Model 2. It seems low but I feel this task is quite difficult so maybe very high scores are difficult.\n",
    "\n",
    "-Balancing cross-validation using n_jobs and pre_dispatch in order to preserve maximum CPU usage but prevent memory from blowing up."
   ]
  },
  {
   "cell_type": "code",
   "execution_count": 54,
   "metadata": {},
   "outputs": [],
   "source": [
    "import pandas as pd\n",
    "import numpy as np\n",
    "from sklearn.multiclass import OneVsRestClassifier\n",
    "from sklearn.svm import LinearSVC\n",
    "from sklearn.svm import SVC\n",
    "from sklearn.model_selection import GridSearchCV\n",
    "from sklearn.preprocessing import StandardScaler\n",
    "from sklearn.decomposition import PCA\n",
    "from sklearn.utils import shuffle\n",
    "from sklearn.metrics import label_ranking_average_precision_score,make_scorer"
   ]
  },
  {
   "cell_type": "markdown",
   "metadata": {},
   "source": [
    "# Pre-process"
   ]
  },
  {
   "cell_type": "code",
   "execution_count": 26,
   "metadata": {},
   "outputs": [],
   "source": [
    "#Load the previously transformed data.\n",
    "NUM_FEATURES = 5000\n",
    "NUM_CLASSES = 3993\n",
    "features = pd.read_csv(\"../data/expanded/train_features.csv\", names=range(NUM_FEATURES))\n",
    "labels = pd.read_csv(\"../data/expanded/train_labels.csv\", names=range(NUM_CLASSES))"
   ]
  },
  {
   "cell_type": "code",
   "execution_count": 105,
   "metadata": {},
   "outputs": [],
   "source": [
    "#Split into test and train\n",
    "X_train,y_train = features.iloc[:10000,:],labels.iloc[:10000,:]\n",
    "X_test,y_test = features.iloc[1000:,:],labels.iloc[1000:,:]"
   ]
  },
  {
   "cell_type": "code",
   "execution_count": 106,
   "metadata": {},
   "outputs": [],
   "source": [
    "#Shuffle data randomly\n",
    "X_train,y_train = shuffle(X_train,y_train,random_state = 5)"
   ]
  },
  {
   "cell_type": "code",
   "execution_count": 10,
   "metadata": {},
   "outputs": [],
   "source": [
    "# Centering the data (by just subtracting the mean)\n",
    "#scaler = StandardScaler()\n",
    "#X_train = scaler.fit_transform(X_train)"
   ]
  },
  {
   "cell_type": "code",
   "execution_count": 11,
   "metadata": {},
   "outputs": [],
   "source": [
    "# Arbitarily chosen (for now). THIS IS A HYPER-PARAMETER!\n",
    "#n_components = 40\n",
    "\n",
    "#pca = PCA(n_components=n_components)\n",
    "#X_train = pca.fit_transform(X_train)\n",
    "#X_train = pd.DataFrame(X_train)\n",
    "\n",
    "#Apply equivalent transformation to test data.\n",
    "#X_test = scaler.transform(X_test)\n",
    "#X_test = pca.transform(X_test)"
   ]
  },
  {
   "cell_type": "markdown",
   "metadata": {},
   "source": [
    "# Model 1"
   ]
  },
  {
   "cell_type": "code",
   "execution_count": 42,
   "metadata": {},
   "outputs": [],
   "source": [
    "#Training takes around 30min on my machine. 5000 classes  = 5000 seperate models in one-vs-rest scheme so not too efficient.\n",
    "model = OneVsRestClassifier(LinearSVC(loss = 'hinge',tol = np.exp(-3), random_state=0),n_jobs = -1).fit(X_train,y_train)"
   ]
  },
  {
   "cell_type": "code",
   "execution_count": 43,
   "metadata": {},
   "outputs": [],
   "source": [
    "y_pred = model.predict(X_test.iloc[:100,:])\n",
    "#np.nonzero(y_pred)"
   ]
  },
  {
   "cell_type": "code",
   "execution_count": 45,
   "metadata": {},
   "outputs": [
    {
     "data": {
      "text/plain": [
       "0.11932993611836587"
      ]
     },
     "execution_count": 45,
     "metadata": {},
     "output_type": "execute_result"
    }
   ],
   "source": [
    "score = label_ranking_average_precision_score(y_test.iloc[:100,:], y_pred)\n",
    "score"
   ]
  },
  {
   "cell_type": "code",
   "execution_count": 46,
   "metadata": {},
   "outputs": [
    {
     "data": {
      "text/plain": [
       "(array([   3,    8,  172,  891, 1812], dtype=int64),)"
      ]
     },
     "execution_count": 46,
     "metadata": {},
     "output_type": "execute_result"
    }
   ],
   "source": [
    "np.nonzero(y_pred[0,:])\n"
   ]
  },
  {
   "cell_type": "code",
   "execution_count": 47,
   "metadata": {},
   "outputs": [
    {
     "data": {
      "text/plain": [
       "(array([  3,   8, 658, 891, 902], dtype=int64),)"
      ]
     },
     "execution_count": 47,
     "metadata": {},
     "output_type": "execute_result"
    }
   ],
   "source": [
    "np.nonzero(y_test.iloc[0,:].values)"
   ]
  },
  {
   "cell_type": "markdown",
   "metadata": {},
   "source": [
    "# Model 2"
   ]
  },
  {
   "cell_type": "code",
   "execution_count": 93,
   "metadata": {},
   "outputs": [],
   "source": [
    "#Training takes around 30min on my machine. 5000 classes  = 5000 seperate models in one-vs-rest scheme so not too efficient.\n",
    "\n",
    "model = OneVsRestClassifier(LinearSVC(tol = np.exp(-3), random_state=0),n_jobs = -1).fit(X_train,y_train)"
   ]
  },
  {
   "cell_type": "code",
   "execution_count": 110,
   "metadata": {},
   "outputs": [
    {
     "data": {
      "text/plain": [
       "GridSearchCV(cv=2, error_score='raise-deprecating',\n",
       "             estimator=OneVsRestClassifier(estimator=LinearSVC(C=1.0,\n",
       "                                                               class_weight=None,\n",
       "                                                               dual=True,\n",
       "                                                               fit_intercept=True,\n",
       "                                                               intercept_scaling=1,\n",
       "                                                               loss='squared_hinge',\n",
       "                                                               max_iter=1000,\n",
       "                                                               multi_class='ovr',\n",
       "                                                               penalty='l2',\n",
       "                                                               random_state=0,\n",
       "                                                               tol=0.049787068367863944,\n",
       "                                                               verbose=0),\n",
       "                                           n_jobs=-1),\n",
       "             iid='warn', n_jobs=-1,\n",
       "             param_grid={'estimator__C': [0.001, 0.01, 0.1, 1],\n",
       "                         'estimator__loss': ['hinge', 'squared_hinge']},\n",
       "             pre_dispatch=1, refit=True, return_train_score=False,\n",
       "             scoring=make_scorer(label_ranking_average_precision_score),\n",
       "             verbose=0)"
      ]
     },
     "execution_count": 110,
     "metadata": {},
     "output_type": "execute_result"
    }
   ],
   "source": [
    "#classifier = OneVsRestClassifier(SVC(tol = np.exp(-3), random_state=0))\n",
    "model = OneVsRestClassifier(LinearSVC(tol = np.exp(-3), random_state=0),n_jobs =-1)\n",
    "custom_scorer = make_scorer(label_ranking_average_precision_score)\n",
    "\n",
    "parameters = {\n",
    "    \"estimator__loss\":['hinge','squared_hinge'],\n",
    "    \"estimator__C\": [0.001,0.01,0.1,1]}\n",
    "     \n",
    "\n",
    "grid = GridSearchCV(model, param_grid=parameters,\n",
    "                             scoring=custom_scorer,cv=2,n_jobs = -1,pre_dispatch = 1)\n",
    "            \n",
    "\n",
    "grid.fit(X_train,y_train)"
   ]
  },
  {
   "cell_type": "code",
   "execution_count": 114,
   "metadata": {},
   "outputs": [
    {
     "data": {
      "text/plain": [
       "{'mean_fit_time': array([255.69439769, 254.15666366, 247.67789364, 240.46170056,\n",
       "        240.99707687, 240.7784766 , 241.14050972, 241.06294298]),\n",
       " 'std_fit_time': array([3.15262604, 1.25932622, 8.22004986, 1.80250061, 2.17292058,\n",
       "        1.54014885, 1.3164922 , 0.59134769]),\n",
       " 'mean_score_time': array([146.48480499, 146.62636364, 142.61903417, 135.33090889,\n",
       "        134.67668939, 135.19280529, 135.29620957, 134.75686789]),\n",
       " 'std_score_time': array([0.84751546, 0.7098552 , 8.3423568 , 0.53756869, 1.42698932,\n",
       "        0.47986221, 0.78837252, 0.01386571]),\n",
       " 'param_estimator__C': masked_array(data=[0.001, 0.001, 0.01, 0.01, 0.1, 0.1, 1, 1],\n",
       "              mask=[False, False, False, False, False, False, False, False],\n",
       "        fill_value='?',\n",
       "             dtype=object),\n",
       " 'param_estimator__loss': masked_array(data=['hinge', 'squared_hinge', 'hinge', 'squared_hinge',\n",
       "                    'hinge', 'squared_hinge', 'hinge', 'squared_hinge'],\n",
       "              mask=[False, False, False, False, False, False, False, False],\n",
       "        fill_value='?',\n",
       "             dtype=object),\n",
       " 'params': [{'estimator__C': 0.001, 'estimator__loss': 'hinge'},\n",
       "  {'estimator__C': 0.001, 'estimator__loss': 'squared_hinge'},\n",
       "  {'estimator__C': 0.01, 'estimator__loss': 'hinge'},\n",
       "  {'estimator__C': 0.01, 'estimator__loss': 'squared_hinge'},\n",
       "  {'estimator__C': 0.1, 'estimator__loss': 'hinge'},\n",
       "  {'estimator__C': 0.1, 'estimator__loss': 'squared_hinge'},\n",
       "  {'estimator__C': 1, 'estimator__loss': 'hinge'},\n",
       "  {'estimator__C': 1, 'estimator__loss': 'squared_hinge'}],\n",
       " 'split0_test_score': array([0.23878143, 0.25368238, 0.25315388, 0.25661189, 0.23379514,\n",
       "        0.23746344, 0.21686039, 0.22043238]),\n",
       " 'split1_test_score': array([0.18861008, 0.18752885, 0.22435316, 0.22039182, 0.22254131,\n",
       "        0.22392531, 0.21493135, 0.21642887]),\n",
       " 'mean_test_score': array([0.21369576, 0.22060562, 0.23875352, 0.23850185, 0.22816823,\n",
       "        0.23069437, 0.21589587, 0.21843063]),\n",
       " 'std_test_score': array([0.02508567, 0.03307677, 0.01440036, 0.01811003, 0.00562692,\n",
       "        0.00676906, 0.00096452, 0.00200175]),\n",
       " 'rank_test_score': array([8, 5, 1, 2, 4, 3, 7, 6])}"
      ]
     },
     "execution_count": 114,
     "metadata": {},
     "output_type": "execute_result"
    }
   ],
   "source": [
    "grid.cv_results_"
   ]
  },
  {
   "cell_type": "code",
   "execution_count": 115,
   "metadata": {},
   "outputs": [
    {
     "data": {
      "text/plain": [
       "{'estimator__C': 0.01, 'estimator__loss': 'hinge'}"
      ]
     },
     "execution_count": 115,
     "metadata": {},
     "output_type": "execute_result"
    }
   ],
   "source": [
    "grid.best_params_"
   ]
  },
  {
   "cell_type": "code",
   "execution_count": 116,
   "metadata": {},
   "outputs": [
    {
     "data": {
      "text/plain": [
       "0.23875351847880935"
      ]
     },
     "execution_count": 116,
     "metadata": {},
     "output_type": "execute_result"
    }
   ],
   "source": [
    "grid.best_score_"
   ]
  },
  {
   "cell_type": "code",
   "execution_count": null,
   "metadata": {},
   "outputs": [],
   "source": []
  }
 ],
 "metadata": {
  "kernelspec": {
   "display_name": "Python 3",
   "language": "python",
   "name": "python3"
  },
  "language_info": {
   "codemirror_mode": {
    "name": "ipython",
    "version": 3
   },
   "file_extension": ".py",
   "mimetype": "text/x-python",
   "name": "python",
   "nbconvert_exporter": "python",
   "pygments_lexer": "ipython3",
   "version": "3.6.1"
  }
 },
 "nbformat": 4,
 "nbformat_minor": 2
}
