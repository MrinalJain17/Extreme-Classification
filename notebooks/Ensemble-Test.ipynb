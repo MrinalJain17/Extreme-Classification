{
 "cells": [
  {
   "cell_type": "code",
   "execution_count": 1,
   "metadata": {},
   "outputs": [],
   "source": [
    "import pandas as pd\n",
    "import numpy as np\n",
    "from sklearn.metrics import label_ranking_average_precision_score"
   ]
  },
  {
   "cell_type": "code",
   "execution_count": 2,
   "metadata": {},
   "outputs": [],
   "source": [
    "NUM_FEATURES = 5000\n",
    "NUM_CLASSES = 3993"
   ]
  },
  {
   "cell_type": "code",
   "execution_count": null,
   "metadata": {},
   "outputs": [],
   "source": [
    "#Tree\n",
    "y_rf = pd.read_csv(\"../public_data/submission1/saved_rf_probabilities.csv\", names=range(NUM_CLASSES),header= 0)"
   ]
  },
  {
   "cell_type": "code",
   "execution_count": 3,
   "metadata": {},
   "outputs": [],
   "source": [
    "#KNN\n",
    "y_knn = pd.read_csv(\"../public_data/submission1/knn.csv\", names=range(NUM_CLASSES))"
   ]
  },
  {
   "cell_type": "code",
   "execution_count": 4,
   "metadata": {},
   "outputs": [],
   "source": [
    "#SVM\n",
    "y_svm = pd.read_csv(\"../public_data/submission1/svm.csv\", names=range(NUM_CLASSES))"
   ]
  },
  {
   "cell_type": "code",
   "execution_count": 5,
   "metadata": {},
   "outputs": [],
   "source": [
    "#NN\n",
    "y_nn = pd.read_csv(\"../public_data/submission1/final_test_predictions_nn_ensemble.csv\", names=range(NUM_CLASSES))"
   ]
  },
  {
   "cell_type": "markdown",
   "metadata": {},
   "source": [
    "# Convex combination"
   ]
  },
  {
   "cell_type": "code",
   "execution_count": 18,
   "metadata": {},
   "outputs": [
    {
     "data": {
      "text/plain": [
       "array([[2.7990e-05, 9.1305e-05, 8.6607e-04, ..., 1.6416e-05, 1.2510e-05,\n",
       "        1.7595e-05],\n",
       "       [8.8470e-06, 1.1610e-05, 1.6146e-05, ..., 1.2393e-05, 6.9750e-06,\n",
       "        1.4850e-05],\n",
       "       [1.7190e-05, 1.1250e-05, 1.6470e-05, ..., 9.9000e-06, 5.3640e-06,\n",
       "        7.6140e-06],\n",
       "       ...,\n",
       "       [3.3930e-05, 1.1763e-04, 1.2303e-04, ..., 1.2825e-05, 1.5570e-05,\n",
       "        1.5120e-05],\n",
       "       [1.0530e-03, 3.6585e-05, 2.9610e-05, ..., 2.9160e-05, 1.1736e-04,\n",
       "        2.1330e-04],\n",
       "       [2.3850e-05, 3.2976e-04, 2.1510e-05, ..., 1.2177e-05, 1.8000e-05,\n",
       "        1.3950e-05]])"
      ]
     },
     "execution_count": 18,
     "metadata": {},
     "output_type": "execute_result"
    }
   ],
   "source": [
    "#Use best combination found across models.\n",
    "#ensemble = 0.83*y_nn.values + 0.14*y_rf.values + 0.02*y_svm.values + 0.01*y_knn.values\n",
    "ensemble = 0.9*y_nn.values + 0.055*y_svm.values + 0.045*y_knn.values\n",
    "ensemble"
   ]
  },
  {
   "cell_type": "code",
   "execution_count": 19,
   "metadata": {},
   "outputs": [
    {
     "data": {
      "text/plain": [
       "array([[2.7990e-05, 9.1300e-05, 8.6607e-04, ..., 1.6420e-05, 1.2510e-05,\n",
       "        1.7600e-05],\n",
       "       [8.8500e-06, 1.1610e-05, 1.6150e-05, ..., 1.2390e-05, 6.9800e-06,\n",
       "        1.4850e-05],\n",
       "       [1.7190e-05, 1.1250e-05, 1.6470e-05, ..., 9.9000e-06, 5.3600e-06,\n",
       "        7.6100e-06],\n",
       "       ...,\n",
       "       [3.3930e-05, 1.1763e-04, 1.2303e-04, ..., 1.2830e-05, 1.5570e-05,\n",
       "        1.5120e-05],\n",
       "       [1.0530e-03, 3.6590e-05, 2.9610e-05, ..., 2.9160e-05, 1.1736e-04,\n",
       "        2.1330e-04],\n",
       "       [2.3850e-05, 3.2976e-04, 2.1510e-05, ..., 1.2180e-05, 1.8000e-05,\n",
       "        1.3950e-05]])"
      ]
     },
     "execution_count": 19,
     "metadata": {},
     "output_type": "execute_result"
    }
   ],
   "source": [
    "ensemble = np.round_(ensemble, decimals=8)\n",
    "ensemble"
   ]
  },
  {
   "cell_type": "code",
   "execution_count": 20,
   "metadata": {},
   "outputs": [],
   "source": [
    "np.savetxt(\"../public_data/submission1/predictions.csv\", ensemble, delimiter=\",\")"
   ]
  },
  {
   "cell_type": "code",
   "execution_count": 21,
   "metadata": {},
   "outputs": [],
   "source": [
    "#Save to smaller size\n",
    "y_pred = pd.read_csv(\"../public_data/submission1/predictions.csv\", names=range(NUM_CLASSES))\n",
    "y_pred.to_csv(\"../public_data/submission1/predictions.csv\",header = 0,index = False)"
   ]
  }
 ],
 "metadata": {
  "kernelspec": {
   "display_name": "Python 3",
   "language": "python",
   "name": "python3"
  },
  "language_info": {
   "codemirror_mode": {
    "name": "ipython",
    "version": 3
   },
   "file_extension": ".py",
   "mimetype": "text/x-python",
   "name": "python",
   "nbconvert_exporter": "python",
   "pygments_lexer": "ipython3",
   "version": "3.7.7"
  }
 },
 "nbformat": 4,
 "nbformat_minor": 2
}
