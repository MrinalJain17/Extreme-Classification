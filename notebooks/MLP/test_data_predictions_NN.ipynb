{
 "cells": [
  {
   "cell_type": "markdown",
   "metadata": {},
   "source": [
    "## Getting predictions on test data"
   ]
  },
  {
   "cell_type": "code",
   "execution_count": 1,
   "metadata": {},
   "outputs": [],
   "source": [
    "# Needed to import custom code from other directories\n",
    "import sys\n",
    "sys.path.append('../../code')\n",
    "\n",
    "import matplotlib.pyplot as plt\n",
    "import numpy as np\n",
    "import pandas as pd\n",
    "import pytorch_lightning as pl\n",
    "import torch\n",
    "import torch.nn as nn\n",
    "import torch.nn.functional as F\n",
    "\n",
    "from dataset import CSVDataset\n",
    "\n",
    "from utils import LRAP, perfection\n",
    "from train import Net\n",
    "\n",
    "%matplotlib inline\n",
    "\n",
    "SEED = 42\n",
    "\n",
    "NUM_FEATURES = 5000\n",
    "NUM_CLASSES = 3993\n",
    "\n",
    "model_2 = Net.load_from_checkpoint(\"../../code/saved_models/neural_network_combined_2.ckpt\")\n",
    "model_2.freeze()\n",
    "\n",
    "model_3 = Net.load_from_checkpoint(\"../../code/saved_models/neural_network_combined_3.ckpt\")\n",
    "model_3.freeze()"
   ]
  },
  {
   "cell_type": "code",
   "execution_count": 2,
   "metadata": {},
   "outputs": [],
   "source": [
    "test_data = CSVDataset(\n",
    "    \"../../data/expanded/\",\n",
    "    csv_features=\"test_features.csv\",\n",
    "    csv_labels=None,\n",
    "    standardize=\"../../code/saved_models/scaler_combined.pkl\",\n",
    ")\n",
    "\n",
    "test_dataloader = torch.utils.data.DataLoader(\n",
    "    test_data, batch_size=model_2.hparams.batch_size\n",
    ")"
   ]
  },
  {
   "cell_type": "code",
   "execution_count": 4,
   "metadata": {},
   "outputs": [],
   "source": [
    "predictions_1 = pd.read_csv(\"../../public_data/submission1/final_test_predictions_nn.csv\", names=range(NUM_CLASSES))\n",
    "predictions_1 = predictions_1.to_numpy()"
   ]
  },
  {
   "cell_type": "code",
   "execution_count": 5,
   "metadata": {},
   "outputs": [],
   "source": [
    "predictions_2 = []\n",
    "for features in test_dataloader:\n",
    "    predictions_2.append(model_2.forward(features))\n",
    "    \n",
    "predictions_2 = torch.cat(predictions_2, dim=0)\n",
    "predictions_2 = torch.sigmoid(predictions_2).numpy()"
   ]
  },
  {
   "cell_type": "code",
   "execution_count": 6,
   "metadata": {},
   "outputs": [],
   "source": [
    "predictions_3 = []\n",
    "for features in test_dataloader:\n",
    "    predictions_3.append(model_3.forward(features))\n",
    "    \n",
    "predictions_3 = torch.cat(predictions_3, dim=0)\n",
    "predictions_3 = torch.sigmoid(predictions_3).numpy()"
   ]
  },
  {
   "cell_type": "code",
   "execution_count": 9,
   "metadata": {},
   "outputs": [
    {
     "data": {
      "text/html": [
       "<div>\n",
       "<style scoped>\n",
       "    .dataframe tbody tr th:only-of-type {\n",
       "        vertical-align: middle;\n",
       "    }\n",
       "\n",
       "    .dataframe tbody tr th {\n",
       "        vertical-align: top;\n",
       "    }\n",
       "\n",
       "    .dataframe thead th {\n",
       "        text-align: right;\n",
       "    }\n",
       "</style>\n",
       "<table border=\"1\" class=\"dataframe\">\n",
       "  <thead>\n",
       "    <tr style=\"text-align: right;\">\n",
       "      <th></th>\n",
       "      <th>0</th>\n",
       "      <th>1</th>\n",
       "      <th>2</th>\n",
       "      <th>3</th>\n",
       "      <th>4</th>\n",
       "      <th>5</th>\n",
       "      <th>6</th>\n",
       "      <th>7</th>\n",
       "      <th>8</th>\n",
       "      <th>9</th>\n",
       "      <th>...</th>\n",
       "      <th>3983</th>\n",
       "      <th>3984</th>\n",
       "      <th>3985</th>\n",
       "      <th>3986</th>\n",
       "      <th>3987</th>\n",
       "      <th>3988</th>\n",
       "      <th>3989</th>\n",
       "      <th>3990</th>\n",
       "      <th>3991</th>\n",
       "      <th>3992</th>\n",
       "    </tr>\n",
       "  </thead>\n",
       "  <tbody>\n",
       "    <tr>\n",
       "      <th>0</th>\n",
       "      <td>3.108937e-05</td>\n",
       "      <td>0.000101</td>\n",
       "      <td>9.620997e-04</td>\n",
       "      <td>0.555303</td>\n",
       "      <td>0.969274</td>\n",
       "      <td>0.000305</td>\n",
       "      <td>3.057567e-05</td>\n",
       "      <td>3.621244e-05</td>\n",
       "      <td>4.267275e-05</td>\n",
       "      <td>4.274122e-04</td>\n",
       "      <td>...</td>\n",
       "      <td>1.212185e-05</td>\n",
       "      <td>3.910655e-05</td>\n",
       "      <td>4.108277e-05</td>\n",
       "      <td>1.174764e-05</td>\n",
       "      <td>2.192807e-05</td>\n",
       "      <td>1.838839e-05</td>\n",
       "      <td>1.851060e-05</td>\n",
       "      <td>1.826285e-05</td>\n",
       "      <td>1.388625e-05</td>\n",
       "      <td>1.956728e-05</td>\n",
       "    </tr>\n",
       "    <tr>\n",
       "      <th>1</th>\n",
       "      <td>9.860905e-06</td>\n",
       "      <td>0.000013</td>\n",
       "      <td>1.792514e-05</td>\n",
       "      <td>0.000126</td>\n",
       "      <td>0.000015</td>\n",
       "      <td>0.000084</td>\n",
       "      <td>2.795740e-05</td>\n",
       "      <td>1.409140e-05</td>\n",
       "      <td>2.009029e-05</td>\n",
       "      <td>2.372759e-05</td>\n",
       "      <td>...</td>\n",
       "      <td>9.276532e-06</td>\n",
       "      <td>1.213027e-05</td>\n",
       "      <td>2.329128e-05</td>\n",
       "      <td>9.589566e-06</td>\n",
       "      <td>1.223225e-05</td>\n",
       "      <td>1.165941e-05</td>\n",
       "      <td>1.761966e-05</td>\n",
       "      <td>1.377298e-05</td>\n",
       "      <td>7.731064e-06</td>\n",
       "      <td>1.648891e-05</td>\n",
       "    </tr>\n",
       "    <tr>\n",
       "      <th>2</th>\n",
       "      <td>1.905720e-05</td>\n",
       "      <td>0.000013</td>\n",
       "      <td>1.830872e-05</td>\n",
       "      <td>0.000073</td>\n",
       "      <td>0.000004</td>\n",
       "      <td>0.000029</td>\n",
       "      <td>7.888940e-06</td>\n",
       "      <td>1.035677e-05</td>\n",
       "      <td>1.311132e-05</td>\n",
       "      <td>6.660327e-05</td>\n",
       "      <td>...</td>\n",
       "      <td>1.078622e-05</td>\n",
       "      <td>1.516657e-05</td>\n",
       "      <td>1.962099e-05</td>\n",
       "      <td>8.143626e-06</td>\n",
       "      <td>1.231534e-05</td>\n",
       "      <td>8.680965e-06</td>\n",
       "      <td>6.949415e-06</td>\n",
       "      <td>1.103840e-05</td>\n",
       "      <td>5.983242e-06</td>\n",
       "      <td>8.453922e-06</td>\n",
       "    </tr>\n",
       "    <tr>\n",
       "      <th>3</th>\n",
       "      <td>2.040626e-07</td>\n",
       "      <td>0.000002</td>\n",
       "      <td>6.950813e-07</td>\n",
       "      <td>0.000004</td>\n",
       "      <td>0.000012</td>\n",
       "      <td>0.000001</td>\n",
       "      <td>6.073677e-07</td>\n",
       "      <td>1.788910e-07</td>\n",
       "      <td>6.545234e-08</td>\n",
       "      <td>6.475216e-07</td>\n",
       "      <td>...</td>\n",
       "      <td>1.589005e-07</td>\n",
       "      <td>2.451867e-07</td>\n",
       "      <td>5.001527e-07</td>\n",
       "      <td>2.489459e-07</td>\n",
       "      <td>1.045035e-07</td>\n",
       "      <td>3.992606e-07</td>\n",
       "      <td>3.177060e-07</td>\n",
       "      <td>5.331798e-08</td>\n",
       "      <td>1.097176e-07</td>\n",
       "      <td>1.966957e-07</td>\n",
       "    </tr>\n",
       "    <tr>\n",
       "      <th>4</th>\n",
       "      <td>1.869619e-04</td>\n",
       "      <td>0.000116</td>\n",
       "      <td>1.383527e-04</td>\n",
       "      <td>0.314147</td>\n",
       "      <td>0.000072</td>\n",
       "      <td>0.000109</td>\n",
       "      <td>7.299317e-05</td>\n",
       "      <td>3.676221e-05</td>\n",
       "      <td>1.639396e-04</td>\n",
       "      <td>9.645365e-05</td>\n",
       "      <td>...</td>\n",
       "      <td>1.151525e-04</td>\n",
       "      <td>9.914888e-05</td>\n",
       "      <td>1.044078e-04</td>\n",
       "      <td>7.073706e-05</td>\n",
       "      <td>7.268348e-05</td>\n",
       "      <td>6.788839e-05</td>\n",
       "      <td>7.319118e-05</td>\n",
       "      <td>4.713295e-05</td>\n",
       "      <td>5.708177e-05</td>\n",
       "      <td>9.913470e-05</td>\n",
       "    </tr>\n",
       "    <tr>\n",
       "      <th>...</th>\n",
       "      <td>...</td>\n",
       "      <td>...</td>\n",
       "      <td>...</td>\n",
       "      <td>...</td>\n",
       "      <td>...</td>\n",
       "      <td>...</td>\n",
       "      <td>...</td>\n",
       "      <td>...</td>\n",
       "      <td>...</td>\n",
       "      <td>...</td>\n",
       "      <td>...</td>\n",
       "      <td>...</td>\n",
       "      <td>...</td>\n",
       "      <td>...</td>\n",
       "      <td>...</td>\n",
       "      <td>...</td>\n",
       "      <td>...</td>\n",
       "      <td>...</td>\n",
       "      <td>...</td>\n",
       "      <td>...</td>\n",
       "      <td>...</td>\n",
       "    </tr>\n",
       "    <tr>\n",
       "      <th>2484</th>\n",
       "      <td>9.314351e-05</td>\n",
       "      <td>0.000155</td>\n",
       "      <td>8.715258e-05</td>\n",
       "      <td>0.000465</td>\n",
       "      <td>0.000040</td>\n",
       "      <td>0.000105</td>\n",
       "      <td>7.348468e-05</td>\n",
       "      <td>7.631504e-05</td>\n",
       "      <td>2.979627e-04</td>\n",
       "      <td>2.915976e-05</td>\n",
       "      <td>...</td>\n",
       "      <td>5.497240e-05</td>\n",
       "      <td>9.878089e-05</td>\n",
       "      <td>1.077743e-04</td>\n",
       "      <td>6.841723e-05</td>\n",
       "      <td>7.999352e-05</td>\n",
       "      <td>1.291539e-04</td>\n",
       "      <td>9.507179e-05</td>\n",
       "      <td>6.271216e-05</td>\n",
       "      <td>4.570590e-05</td>\n",
       "      <td>4.940888e-05</td>\n",
       "    </tr>\n",
       "    <tr>\n",
       "      <th>2485</th>\n",
       "      <td>1.352206e-05</td>\n",
       "      <td>0.000101</td>\n",
       "      <td>1.542979e-04</td>\n",
       "      <td>0.128217</td>\n",
       "      <td>0.000117</td>\n",
       "      <td>0.000022</td>\n",
       "      <td>4.132132e-05</td>\n",
       "      <td>1.984165e-05</td>\n",
       "      <td>4.754588e-04</td>\n",
       "      <td>5.911247e-05</td>\n",
       "      <td>...</td>\n",
       "      <td>1.433045e-05</td>\n",
       "      <td>2.538677e-05</td>\n",
       "      <td>2.425965e-05</td>\n",
       "      <td>1.305303e-05</td>\n",
       "      <td>2.973110e-05</td>\n",
       "      <td>2.241362e-05</td>\n",
       "      <td>1.426131e-05</td>\n",
       "      <td>2.022973e-05</td>\n",
       "      <td>8.282485e-06</td>\n",
       "      <td>8.680453e-06</td>\n",
       "    </tr>\n",
       "    <tr>\n",
       "      <th>2486</th>\n",
       "      <td>3.772350e-05</td>\n",
       "      <td>0.000131</td>\n",
       "      <td>1.367427e-04</td>\n",
       "      <td>0.656208</td>\n",
       "      <td>0.000448</td>\n",
       "      <td>0.000060</td>\n",
       "      <td>1.098349e-04</td>\n",
       "      <td>4.981020e-05</td>\n",
       "      <td>1.431939e-04</td>\n",
       "      <td>4.424132e-05</td>\n",
       "      <td>...</td>\n",
       "      <td>2.180268e-05</td>\n",
       "      <td>5.496768e-05</td>\n",
       "      <td>4.568112e-05</td>\n",
       "      <td>1.912877e-05</td>\n",
       "      <td>3.563252e-05</td>\n",
       "      <td>4.177305e-05</td>\n",
       "      <td>3.933441e-05</td>\n",
       "      <td>1.424834e-05</td>\n",
       "      <td>1.728293e-05</td>\n",
       "      <td>1.682556e-05</td>\n",
       "    </tr>\n",
       "    <tr>\n",
       "      <th>2487</th>\n",
       "      <td>1.170001e-03</td>\n",
       "      <td>0.000041</td>\n",
       "      <td>3.292150e-05</td>\n",
       "      <td>0.000070</td>\n",
       "      <td>0.000013</td>\n",
       "      <td>0.000802</td>\n",
       "      <td>1.304044e-04</td>\n",
       "      <td>5.186724e-05</td>\n",
       "      <td>4.958751e-05</td>\n",
       "      <td>1.840150e-05</td>\n",
       "      <td>...</td>\n",
       "      <td>1.982029e-04</td>\n",
       "      <td>7.626776e-05</td>\n",
       "      <td>9.130443e-05</td>\n",
       "      <td>1.364736e-04</td>\n",
       "      <td>4.229788e-05</td>\n",
       "      <td>9.959706e-05</td>\n",
       "      <td>1.145564e-04</td>\n",
       "      <td>3.242202e-05</td>\n",
       "      <td>1.303668e-04</td>\n",
       "      <td>2.369455e-04</td>\n",
       "    </tr>\n",
       "    <tr>\n",
       "      <th>2488</th>\n",
       "      <td>2.650388e-05</td>\n",
       "      <td>0.000367</td>\n",
       "      <td>2.388312e-05</td>\n",
       "      <td>0.000249</td>\n",
       "      <td>0.000028</td>\n",
       "      <td>0.000089</td>\n",
       "      <td>5.900866e-05</td>\n",
       "      <td>3.100753e-05</td>\n",
       "      <td>5.672026e-04</td>\n",
       "      <td>4.005663e-05</td>\n",
       "      <td>...</td>\n",
       "      <td>1.834852e-05</td>\n",
       "      <td>3.553218e-05</td>\n",
       "      <td>5.899358e-05</td>\n",
       "      <td>1.369410e-05</td>\n",
       "      <td>2.630033e-05</td>\n",
       "      <td>2.675917e-05</td>\n",
       "      <td>2.627600e-05</td>\n",
       "      <td>1.355051e-05</td>\n",
       "      <td>2.002363e-05</td>\n",
       "      <td>1.551461e-05</td>\n",
       "    </tr>\n",
       "  </tbody>\n",
       "</table>\n",
       "<p>2489 rows × 3993 columns</p>\n",
       "</div>"
      ],
      "text/plain": [
       "              0         1             2         3         4         5     \\\n",
       "0     3.108937e-05  0.000101  9.620997e-04  0.555303  0.969274  0.000305   \n",
       "1     9.860905e-06  0.000013  1.792514e-05  0.000126  0.000015  0.000084   \n",
       "2     1.905720e-05  0.000013  1.830872e-05  0.000073  0.000004  0.000029   \n",
       "3     2.040626e-07  0.000002  6.950813e-07  0.000004  0.000012  0.000001   \n",
       "4     1.869619e-04  0.000116  1.383527e-04  0.314147  0.000072  0.000109   \n",
       "...            ...       ...           ...       ...       ...       ...   \n",
       "2484  9.314351e-05  0.000155  8.715258e-05  0.000465  0.000040  0.000105   \n",
       "2485  1.352206e-05  0.000101  1.542979e-04  0.128217  0.000117  0.000022   \n",
       "2486  3.772350e-05  0.000131  1.367427e-04  0.656208  0.000448  0.000060   \n",
       "2487  1.170001e-03  0.000041  3.292150e-05  0.000070  0.000013  0.000802   \n",
       "2488  2.650388e-05  0.000367  2.388312e-05  0.000249  0.000028  0.000089   \n",
       "\n",
       "              6             7             8             9     ...  \\\n",
       "0     3.057567e-05  3.621244e-05  4.267275e-05  4.274122e-04  ...   \n",
       "1     2.795740e-05  1.409140e-05  2.009029e-05  2.372759e-05  ...   \n",
       "2     7.888940e-06  1.035677e-05  1.311132e-05  6.660327e-05  ...   \n",
       "3     6.073677e-07  1.788910e-07  6.545234e-08  6.475216e-07  ...   \n",
       "4     7.299317e-05  3.676221e-05  1.639396e-04  9.645365e-05  ...   \n",
       "...            ...           ...           ...           ...  ...   \n",
       "2484  7.348468e-05  7.631504e-05  2.979627e-04  2.915976e-05  ...   \n",
       "2485  4.132132e-05  1.984165e-05  4.754588e-04  5.911247e-05  ...   \n",
       "2486  1.098349e-04  4.981020e-05  1.431939e-04  4.424132e-05  ...   \n",
       "2487  1.304044e-04  5.186724e-05  4.958751e-05  1.840150e-05  ...   \n",
       "2488  5.900866e-05  3.100753e-05  5.672026e-04  4.005663e-05  ...   \n",
       "\n",
       "              3983          3984          3985          3986          3987  \\\n",
       "0     1.212185e-05  3.910655e-05  4.108277e-05  1.174764e-05  2.192807e-05   \n",
       "1     9.276532e-06  1.213027e-05  2.329128e-05  9.589566e-06  1.223225e-05   \n",
       "2     1.078622e-05  1.516657e-05  1.962099e-05  8.143626e-06  1.231534e-05   \n",
       "3     1.589005e-07  2.451867e-07  5.001527e-07  2.489459e-07  1.045035e-07   \n",
       "4     1.151525e-04  9.914888e-05  1.044078e-04  7.073706e-05  7.268348e-05   \n",
       "...            ...           ...           ...           ...           ...   \n",
       "2484  5.497240e-05  9.878089e-05  1.077743e-04  6.841723e-05  7.999352e-05   \n",
       "2485  1.433045e-05  2.538677e-05  2.425965e-05  1.305303e-05  2.973110e-05   \n",
       "2486  2.180268e-05  5.496768e-05  4.568112e-05  1.912877e-05  3.563252e-05   \n",
       "2487  1.982029e-04  7.626776e-05  9.130443e-05  1.364736e-04  4.229788e-05   \n",
       "2488  1.834852e-05  3.553218e-05  5.899358e-05  1.369410e-05  2.630033e-05   \n",
       "\n",
       "              3988          3989          3990          3991          3992  \n",
       "0     1.838839e-05  1.851060e-05  1.826285e-05  1.388625e-05  1.956728e-05  \n",
       "1     1.165941e-05  1.761966e-05  1.377298e-05  7.731064e-06  1.648891e-05  \n",
       "2     8.680965e-06  6.949415e-06  1.103840e-05  5.983242e-06  8.453922e-06  \n",
       "3     3.992606e-07  3.177060e-07  5.331798e-08  1.097176e-07  1.966957e-07  \n",
       "4     6.788839e-05  7.319118e-05  4.713295e-05  5.708177e-05  9.913470e-05  \n",
       "...            ...           ...           ...           ...           ...  \n",
       "2484  1.291539e-04  9.507179e-05  6.271216e-05  4.570590e-05  4.940888e-05  \n",
       "2485  2.241362e-05  1.426131e-05  2.022973e-05  8.282485e-06  8.680453e-06  \n",
       "2486  4.177305e-05  3.933441e-05  1.424834e-05  1.728293e-05  1.682556e-05  \n",
       "2487  9.959706e-05  1.145564e-04  3.242202e-05  1.303668e-04  2.369455e-04  \n",
       "2488  2.675917e-05  2.627600e-05  1.355051e-05  2.002363e-05  1.551461e-05  \n",
       "\n",
       "[2489 rows x 3993 columns]"
      ]
     },
     "execution_count": 9,
     "metadata": {},
     "output_type": "execute_result"
    }
   ],
   "source": [
    "ensemble_predictions = 0.45 * predictions_1 + 0.2 * predictions_2 + 0.35 * predictions_3\n",
    "ensemble_predictions = pd.DataFrame(ensemble_predictions)\n",
    "ensemble_predictions"
   ]
  },
  {
   "cell_type": "code",
   "execution_count": 10,
   "metadata": {},
   "outputs": [],
   "source": [
    "ensemble_predictions.astype(\"float16\").to_csv(\n",
    "    \"../../public_data/submission1/final_test_predictions_nn_ensemble.csv\", index=False, header=False\n",
    ")"
   ]
  },
  {
   "cell_type": "code",
   "execution_count": null,
   "metadata": {},
   "outputs": [],
   "source": []
  },
  {
   "cell_type": "code",
   "execution_count": null,
   "metadata": {},
   "outputs": [],
   "source": []
  },
  {
   "cell_type": "code",
   "execution_count": null,
   "metadata": {},
   "outputs": [],
   "source": []
  },
  {
   "cell_type": "code",
   "execution_count": null,
   "metadata": {},
   "outputs": [],
   "source": []
  },
  {
   "cell_type": "markdown",
   "metadata": {},
   "source": [
    "### Random stuff from here"
   ]
  },
  {
   "cell_type": "code",
   "execution_count": 51,
   "metadata": {},
   "outputs": [
    {
     "data": {
      "text/plain": [
       "0.6254337395360583"
      ]
     },
     "execution_count": 51,
     "metadata": {},
     "output_type": "execute_result"
    }
   ],
   "source": [
    "LRAP(y_valid, predictions)"
   ]
  },
  {
   "cell_type": "code",
   "execution_count": 23,
   "metadata": {},
   "outputs": [
    {
     "data": {
      "text/plain": [
       "count    1314.000000\n",
       "mean        2.487062\n",
       "std         1.777896\n",
       "min         0.000000\n",
       "25%         1.000000\n",
       "50%         2.000000\n",
       "75%         4.000000\n",
       "max         9.000000\n",
       "dtype: float64"
      ]
     },
     "execution_count": 23,
     "metadata": {},
     "output_type": "execute_result"
    }
   ],
   "source": [
    "binary_pred = (predictions >= 0.5).astype(\"float\")\n",
    "pd.Series(binary_pred.sum(axis=1)).describe()"
   ]
  },
  {
   "cell_type": "code",
   "execution_count": null,
   "metadata": {},
   "outputs": [],
   "source": [
    "perfection(y_valid, binary_pred)"
   ]
  },
  {
   "cell_type": "code",
   "execution_count": 7,
   "metadata": {},
   "outputs": [],
   "source": [
    "train_data = CSVDataset(\n",
    "    \"../../data/expanded/\",\n",
    "    standardize=\"../../code/saved_models/scaler.pkl\",\n",
    ")\n",
    "\n",
    "train_dataloader = torch.utils.data.DataLoader(\n",
    "    train_data, batch_size=model.hparams.batch_size\n",
    ")\n",
    "\n",
    "y_train = pd.read_csv(\"../../data/expanded/train_labels.csv\", names=range(NUM_CLASSES))\n",
    "y_train = y_train.to_numpy()"
   ]
  },
  {
   "cell_type": "code",
   "execution_count": 8,
   "metadata": {},
   "outputs": [],
   "source": [
    "predictions = []\n",
    "for (features, labels) in train_dataloader:\n",
    "    predictions.append(model.forward(features))\n",
    "    \n",
    "predictions = torch.cat(predictions, dim=0)\n",
    "predictions = torch.sigmoid(predictions).numpy()"
   ]
  },
  {
   "cell_type": "code",
   "execution_count": 9,
   "metadata": {},
   "outputs": [
    {
     "data": {
      "text/plain": [
       "0.9523113911191974"
      ]
     },
     "execution_count": 9,
     "metadata": {},
     "output_type": "execute_result"
    }
   ],
   "source": [
    "LRAP(y_train, predictions)"
   ]
  },
  {
   "cell_type": "code",
   "execution_count": 10,
   "metadata": {},
   "outputs": [
    {
     "data": {
      "text/plain": [
       "count    15511.000000\n",
       "mean         4.269937\n",
       "std          1.803299\n",
       "min          0.000000\n",
       "25%          3.000000\n",
       "50%          4.000000\n",
       "75%          6.000000\n",
       "max         18.000000\n",
       "dtype: float64"
      ]
     },
     "execution_count": 10,
     "metadata": {},
     "output_type": "execute_result"
    }
   ],
   "source": [
    "binary_pred = (predictions >= 0.5).astype(\"float\")\n",
    "pd.Series(binary_pred.sum(axis=1)).describe()"
   ]
  },
  {
   "cell_type": "code",
   "execution_count": null,
   "metadata": {},
   "outputs": [],
   "source": [
    "perfection(y_train, binary_pred)"
   ]
  },
  {
   "cell_type": "code",
   "execution_count": 94,
   "metadata": {},
   "outputs": [],
   "source": [
    "from sklearn.decomposition import PCA\n",
    "from sklearn.preprocessing import MinMaxScaler"
   ]
  },
  {
   "cell_type": "code",
   "execution_count": 103,
   "metadata": {},
   "outputs": [],
   "source": [
    "pca = PCA(n_components=1500, random_state=SEED)\n",
    "pca = pca.fit(y_train)"
   ]
  },
  {
   "cell_type": "code",
   "execution_count": 104,
   "metadata": {},
   "outputs": [],
   "source": [
    "y_train_reduced = pca.transform(y_train)\n",
    "y_valid_reduced = pca.transform(y_valid)"
   ]
  },
  {
   "cell_type": "code",
   "execution_count": 105,
   "metadata": {},
   "outputs": [],
   "source": [
    "rescale = MinMaxScaler()\n",
    "rescale = rescale.fit(y_train_reduced)"
   ]
  },
  {
   "cell_type": "code",
   "execution_count": 106,
   "metadata": {},
   "outputs": [],
   "source": [
    "y_train_rescaled = rescale.transform(y_train_reduced)\n",
    "y_valid_rescaled = rescale.transform(y_valid_reduced)"
   ]
  },
  {
   "cell_type": "code",
   "execution_count": 107,
   "metadata": {},
   "outputs": [],
   "source": [
    "temp = pca.inverse_transform(rescale.inverse_transform(y_valid_rescaled))"
   ]
  },
  {
   "cell_type": "code",
   "execution_count": 108,
   "metadata": {},
   "outputs": [],
   "source": [
    "temp[temp >= 0.5] = 1"
   ]
  },
  {
   "cell_type": "code",
   "execution_count": 109,
   "metadata": {},
   "outputs": [],
   "source": [
    "temp[temp < 0.5] = 0"
   ]
  },
  {
   "cell_type": "code",
   "execution_count": 110,
   "metadata": {},
   "outputs": [
    {
     "data": {
      "text/plain": [
       "600"
      ]
     },
     "execution_count": 110,
     "metadata": {},
     "output_type": "execute_result"
    }
   ],
   "source": [
    "y_valid.shape[0] * y_valid.shape[1] - (temp == y_valid).sum()"
   ]
  },
  {
   "cell_type": "code",
   "execution_count": 4,
   "metadata": {},
   "outputs": [
    {
     "name": "stdout",
     "output_type": "stream",
     "text": [
      "LRAP on training data: 0.9692\n"
     ]
    }
   ],
   "source": [
    "score_train = mlp.score(X_train_transformed, y_train.to_numpy())\n",
    "print(f\"LRAP on training data: {score_train:.4f}\")"
   ]
  },
  {
   "cell_type": "code",
   "execution_count": 5,
   "metadata": {},
   "outputs": [
    {
     "name": "stdout",
     "output_type": "stream",
     "text": [
      "LRAP on validation data: 0.5839\n"
     ]
    }
   ],
   "source": [
    "score_valid = mlp.score(X_valid_transformed, y_valid.to_numpy())\n",
    "print(f\"LRAP on validation data: {score_valid:.4f}\")"
   ]
  },
  {
   "cell_type": "code",
   "execution_count": 24,
   "metadata": {},
   "outputs": [
    {
     "name": "stdout",
     "output_type": "stream",
     "text": [
      "3.479% of examples perfectly predicted\n"
     ]
    }
   ],
   "source": [
    "print(f\"{perfection(y_valid, predictions_valid) * 100:.3f}% of examples perfectly predicted\")"
   ]
  },
  {
   "cell_type": "code",
   "execution_count": 6,
   "metadata": {},
   "outputs": [],
   "source": [
    "sample_idx = 123\n",
    "sample_pred = mlp.predict(X_valid_transformed[[sample_idx]])[0]\n",
    "actual = y_valid.loc[sample_idx].to_numpy()"
   ]
  },
  {
   "cell_type": "code",
   "execution_count": 7,
   "metadata": {},
   "outputs": [
    {
     "data": {
      "text/plain": [
       "(array([342, 418, 637, 682, 906, 992], dtype=int64),)"
      ]
     },
     "execution_count": 7,
     "metadata": {},
     "output_type": "execute_result"
    }
   ],
   "source": [
    "np.nonzero(actual)"
   ]
  },
  {
   "cell_type": "code",
   "execution_count": 8,
   "metadata": {},
   "outputs": [
    {
     "data": {
      "text/plain": [
       "(array([128, 358, 637, 682, 992], dtype=int64),)"
      ]
     },
     "execution_count": 8,
     "metadata": {},
     "output_type": "execute_result"
    }
   ],
   "source": [
    "np.nonzero(sample_pred)"
   ]
  },
  {
   "cell_type": "code",
   "execution_count": null,
   "metadata": {},
   "outputs": [],
   "source": []
  }
 ],
 "metadata": {
  "kernelspec": {
   "display_name": "Python [conda env:root] *",
   "language": "python",
   "name": "conda-root-py"
  },
  "language_info": {
   "codemirror_mode": {
    "name": "ipython",
    "version": 3
   },
   "file_extension": ".py",
   "mimetype": "text/x-python",
   "name": "python",
   "nbconvert_exporter": "python",
   "pygments_lexer": "ipython3",
   "version": "3.6.10"
  }
 },
 "nbformat": 4,
 "nbformat_minor": 4
}
