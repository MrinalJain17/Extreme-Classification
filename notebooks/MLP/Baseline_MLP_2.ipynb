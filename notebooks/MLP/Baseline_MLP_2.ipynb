{
 "cells": [
  {
   "cell_type": "code",
   "execution_count": 1,
   "metadata": {},
   "outputs": [
    {
     "name": "stdout",
     "output_type": "stream",
     "text": [
      "13959 examples in training set, and 1552 in validation.\n"
     ]
    }
   ],
   "source": [
    "# Needed to import custom code from other directories\n",
    "import sys\n",
    "sys.path.append('../../code')\n",
    "\n",
    "import matplotlib.pyplot as plt\n",
    "import numpy as np\n",
    "import pandas as pd\n",
    "from sklearn.decomposition import PCA\n",
    "from sklearn.preprocessing import MinMaxScaler, StandardScaler\n",
    "from tqdm.auto import tqdm\n",
    "\n",
    "from models import ModifiedMLPClassifier\n",
    "from utils import LRAP, perfection\n",
    "\n",
    "%matplotlib inline\n",
    "\n",
    "SEED = 42\n",
    "\n",
    "NUM_FEATURES = 5000\n",
    "NUM_CLASSES = 3993\n",
    "\n",
    "X_train = pd.read_csv(\"../../data/expanded/train_features.csv\", names=range(NUM_FEATURES))\n",
    "y_train = pd.read_csv(\"../../data/expanded/train_labels.csv\", names=range(NUM_CLASSES))\n",
    "\n",
    "X_valid = pd.read_csv(\"../../data/expanded/valid_features.csv\", names=range(NUM_FEATURES))\n",
    "y_valid = pd.read_csv(\"../../data/expanded/valid_labels.csv\", names=range(NUM_CLASSES))\n",
    "\n",
    "print(f\"{X_train.shape[0]} examples in training set, and {X_valid.shape[0]} in validation.\")"
   ]
  },
  {
   "cell_type": "markdown",
   "metadata": {},
   "source": [
    "## Pre-processing data"
   ]
  },
  {
   "cell_type": "code",
   "execution_count": 2,
   "metadata": {},
   "outputs": [],
   "source": [
    "# Set True to apply log transformation to the features\n",
    "# Intended to be used in combination with one of the other techniques below\n",
    "LOG = False\n",
    "\n",
    "STANDARDIZE = True     # Set True to standardize, False otherwise\n",
    "NORMALIZE = False      # Set True to normalize, False otherwise\n",
    "PCA_COMPONENTS = None  # Set to number of components for PCA (automatically standardized)\n",
    "\n",
    "\n",
    "# ----- Code below applies the transformations as specified ----- #\n",
    "func = []\n",
    "if LOG:\n",
    "    X_train_transformed = np.log1p(X_train.to_numpy())\n",
    "    X_valid_transformed = np.log1p(X_valid.to_numpy())\n",
    "else:\n",
    "    X_train_transformed = X_train.to_numpy()\n",
    "    X_valid_transformed = X_valid.to_numpy()\n",
    "\n",
    "if STANDARDIZE:\n",
    "    func = [StandardScaler()]\n",
    "elif NORMALIZE:\n",
    "    func = [MinMaxScaler()]\n",
    "elif PCA_COMPONENTS is not None:\n",
    "    func = [StandardScaler(with_std=False)]\n",
    "    func.append(PCA(n_components=PCA_COMPONENTS, random_state=SEED))\n",
    "    func.append(StandardScaler(with_mean=False))\n",
    "else:\n",
    "    func = None\n",
    "\n",
    "if func is not None:\n",
    "    for f in func:\n",
    "        f = f.fit(X_train_transformed)\n",
    "        X_train_transformed = f.transform(X_train_transformed)\n",
    "        X_valid_transformed = f.transform(X_valid_transformed)"
   ]
  },
  {
   "cell_type": "markdown",
   "metadata": {},
   "source": [
    "## Model training\n",
    "\n",
    "While training the multi-layer perceptron, the training and validation loss are reported in each iteration (or epoch)."
   ]
  },
  {
   "cell_type": "code",
   "execution_count": 3,
   "metadata": {
    "scrolled": false
   },
   "outputs": [
    {
     "data": {
      "application/vnd.jupyter.widget-view+json": {
       "model_id": "52cf1305a1c44ea4a61eb76e411581ee",
       "version_major": 2,
       "version_minor": 0
      },
      "text/plain": [
       "HBox(children=(FloatProgress(value=0.0), HTML(value='')))"
      ]
     },
     "metadata": {},
     "output_type": "display_data"
    },
    {
     "name": "stdout",
     "output_type": "stream",
     "text": [
      "Iteration 1, training loss = 364.64399666\n",
      "Validation score: 0.060534\n",
      "Iteration 2, training loss = 48.41153234\n",
      "Validation score: 0.097176\n",
      "Iteration 3, training loss = 39.32583581\n",
      "Validation score: 0.138767\n",
      "Iteration 4, training loss = 34.96982248\n",
      "Validation score: 0.176535\n",
      "Iteration 5, training loss = 32.14490112\n",
      "Validation score: 0.208537\n",
      "Iteration 6, training loss = 29.97408445\n",
      "Validation score: 0.234303\n",
      "Iteration 7, training loss = 28.15885611\n",
      "Validation score: 0.263545\n",
      "Iteration 8, training loss = 26.59237683\n",
      "Validation score: 0.287220\n",
      "Iteration 9, training loss = 25.19528590\n",
      "Validation score: 0.308971\n",
      "Iteration 10, training loss = 23.95072599\n",
      "Validation score: 0.326858\n",
      "Iteration 11, training loss = 22.81576999\n",
      "Validation score: 0.346083\n",
      "Iteration 12, training loss = 21.75109183\n",
      "Validation score: 0.364869\n",
      "Iteration 13, training loss = 20.78110786\n",
      "Validation score: 0.374543\n",
      "Iteration 14, training loss = 19.86857619\n",
      "Validation score: 0.392631\n",
      "Iteration 15, training loss = 19.01677641\n",
      "Validation score: 0.404029\n",
      "Iteration 16, training loss = 18.22302403\n",
      "Validation score: 0.418928\n",
      "Iteration 17, training loss = 17.47301005\n",
      "Validation score: 0.426163\n",
      "Iteration 18, training loss = 16.76833762\n",
      "Validation score: 0.433398\n",
      "Iteration 19, training loss = 16.11186691\n",
      "Validation score: 0.443510\n",
      "Iteration 20, training loss = 15.50234152\n",
      "Validation score: 0.451551\n",
      "Iteration 21, training loss = 14.91470869\n",
      "Validation score: 0.460582\n",
      "Iteration 22, training loss = 14.35800772\n",
      "Validation score: 0.466913\n",
      "Iteration 23, training loss = 13.84645156\n",
      "Validation score: 0.473089\n",
      "Iteration 24, training loss = 13.35123457\n",
      "Validation score: 0.480684\n",
      "Iteration 25, training loss = 12.88735058\n",
      "Validation score: 0.483078\n",
      "Iteration 26, training loss = 12.43523517\n",
      "Validation score: 0.489271\n",
      "Iteration 27, training loss = 12.02582342\n",
      "Validation score: 0.492595\n",
      "Iteration 28, training loss = 11.63184637\n",
      "Validation score: 0.494569\n",
      "Iteration 29, training loss = 11.25959041\n",
      "Validation score: 0.497976\n",
      "Iteration 30, training loss = 10.91086438\n",
      "Validation score: 0.499444\n",
      "Iteration 31, training loss = inf\n",
      "Validation score: 0.502231\n",
      "Iteration 32, training loss = 10.26807739\n",
      "Validation score: 0.507215\n",
      "Iteration 33, training loss = 9.95851873\n",
      "Validation score: 0.508611\n",
      "Iteration 34, training loss = 9.67093694\n",
      "Validation score: 0.511225\n",
      "Iteration 35, training loss = 9.40822302\n",
      "Validation score: 0.511860\n",
      "Iteration 36, training loss = 9.16120289\n",
      "Validation score: 0.512813\n",
      "Iteration 37, training loss = 8.94522608\n",
      "Validation score: 0.515170\n",
      "Iteration 38, training loss = 8.70451179\n",
      "Validation score: 0.518238\n",
      "Iteration 39, training loss = 8.51858218\n",
      "Validation score: 0.520795\n",
      "Iteration 40, training loss = inf\n",
      "Validation score: 0.520820\n",
      "Iteration 41, training loss = 8.13382445\n",
      "Validation score: 0.522928\n",
      "Iteration 42, training loss = inf\n",
      "Validation score: 0.523814\n",
      "Iteration 43, training loss = 7.74497252\n",
      "Validation score: 0.523374\n",
      "Iteration 44, training loss = 7.57240937\n",
      "Validation score: 0.525031\n",
      "Iteration 45, training loss = 7.40043810\n",
      "Validation score: 0.524164\n",
      "Iteration 46, training loss = 7.26154285\n",
      "Validation score: 0.526569\n",
      "Iteration 47, training loss = 7.11443082\n",
      "Validation score: 0.528136\n",
      "Iteration 48, training loss = 6.98742951\n",
      "Validation score: 0.527625\n",
      "Iteration 49, training loss = inf\n",
      "Validation score: 0.530211\n",
      "Iteration 50, training loss = inf\n",
      "Validation score: 0.529010\n",
      "Iteration 51, training loss = 6.68581212\n",
      "Validation score: 0.530260\n",
      "Iteration 52, training loss = 6.54507923\n",
      "Validation score: 0.529942\n",
      "Iteration 53, training loss = 6.42860524\n",
      "Validation score: 0.530064\n",
      "Iteration 54, training loss = 6.33377187\n",
      "Validation score: 0.530515\n",
      "Iteration 55, training loss = 6.23705625\n",
      "Validation score: 0.532887\n",
      "Iteration 56, training loss = 6.15702820\n",
      "Validation score: 0.531613\n",
      "Iteration 57, training loss = 6.08522779\n",
      "Validation score: 0.532147\n",
      "Iteration 58, training loss = 6.01848363\n",
      "Validation score: 0.532516\n",
      "Iteration 59, training loss = 5.99073927\n",
      "Validation score: 0.531891\n",
      "Iteration 60, training loss = 5.95116189\n",
      "Validation score: 0.530269\n",
      "Iteration 61, training loss = 5.89573458\n",
      "Validation score: 0.529599\n",
      "Iteration 62, training loss = 5.86760956\n",
      "Validation score: 0.527484\n",
      "Iteration 63, training loss = inf\n",
      "Validation score: 0.528668\n",
      "Iteration 64, training loss = inf\n",
      "Validation score: 0.530823\n",
      "Iteration 65, training loss = inf\n",
      "Validation score: 0.530365\n",
      "Iteration 66, training loss = inf\n",
      "Validation score: 0.528051\n",
      "Validation score did not improve more than tol=0.000100 for 10 consecutive epochs. Stopping.\n"
     ]
    }
   ],
   "source": [
    "mlp = ModifiedMLPClassifier(\n",
    "    hidden_layer_sizes=(256,),\n",
    "    activation=\"relu\",\n",
    "    max_iter=100,\n",
    "    alpha=0.1,\n",
    "    early_stopping=True,\n",
    "    verbose=True,\n",
    "    random_state=SEED,\n",
    "    custom_validation_data=(X_valid_transformed, y_valid)\n",
    ")\n",
    "mlp = mlp.fit(X_train_transformed, y_train)"
   ]
  },
  {
   "cell_type": "markdown",
   "metadata": {},
   "source": [
    "## Evaluation"
   ]
  },
  {
   "cell_type": "code",
   "execution_count": 9,
   "metadata": {},
   "outputs": [
    {
     "name": "stdout",
     "output_type": "stream",
     "text": [
      "LRAP on training data: 0.9312\n"
     ]
    }
   ],
   "source": [
    "score_train = mlp.score(X_train_transformed, y_train.to_numpy())\n",
    "print(f\"LRAP on training data: {score_train:.4f}\")"
   ]
  },
  {
   "cell_type": "code",
   "execution_count": 10,
   "metadata": {},
   "outputs": [
    {
     "name": "stdout",
     "output_type": "stream",
     "text": [
      "LRAP on validation data: 0.5329\n"
     ]
    }
   ],
   "source": [
    "score_valid = mlp.score(X_valid_transformed, y_valid.to_numpy())\n",
    "print(f\"LRAP on validation data: {score_valid:.4f}\")"
   ]
  },
  {
   "cell_type": "code",
   "execution_count": null,
   "metadata": {},
   "outputs": [],
   "source": [
    "print(f\"{perfection(y_valid, predictions_valid) * 100:.3f}% of examples perfectly predicted\")"
   ]
  },
  {
   "cell_type": "code",
   "execution_count": 32,
   "metadata": {},
   "outputs": [],
   "source": [
    "sample_idx = 117\n",
    "sample_pred = mlp.predict(X_valid_transformed[[sample_idx]])[0]\n",
    "actual = y_valid.loc[sample_idx].to_numpy()"
   ]
  },
  {
   "cell_type": "code",
   "execution_count": 33,
   "metadata": {},
   "outputs": [
    {
     "data": {
      "text/plain": [
       "(array([ 141,  465, 1778, 1779, 1837, 2378], dtype=int64),)"
      ]
     },
     "execution_count": 33,
     "metadata": {},
     "output_type": "execute_result"
    }
   ],
   "source": [
    "np.nonzero(actual)"
   ]
  },
  {
   "cell_type": "code",
   "execution_count": 34,
   "metadata": {},
   "outputs": [
    {
     "data": {
      "text/plain": [
       "(array([ 465, 1779, 1837, 2378], dtype=int64),)"
      ]
     },
     "execution_count": 34,
     "metadata": {},
     "output_type": "execute_result"
    }
   ],
   "source": [
    "np.nonzero(sample_pred)"
   ]
  },
  {
   "cell_type": "code",
   "execution_count": null,
   "metadata": {},
   "outputs": [],
   "source": []
  }
 ],
 "metadata": {
  "kernelspec": {
   "display_name": "Python [conda env:root] *",
   "language": "python",
   "name": "conda-root-py"
  },
  "language_info": {
   "codemirror_mode": {
    "name": "ipython",
    "version": 3
   },
   "file_extension": ".py",
   "mimetype": "text/x-python",
   "name": "python",
   "nbconvert_exporter": "python",
   "pygments_lexer": "ipython3",
   "version": "3.6.10"
  }
 },
 "nbformat": 4,
 "nbformat_minor": 4
}
