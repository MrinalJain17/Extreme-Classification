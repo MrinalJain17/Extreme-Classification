{
 "cells": [
  {
   "cell_type": "code",
   "execution_count": 2,
   "metadata": {},
   "outputs": [],
   "source": [
    "# Needed to import custom code from other directories\n",
    "import sys\n",
    "sys.path.append('../../code')\n",
    "\n",
    "import numpy as np\n",
    "import pandas as pd\n",
    "from scipy.optimize import differential_evolution\n",
    "\n",
    "from utils import LRAP\n",
    "\n",
    "SEED = 42\n",
    "\n",
    "NUM_FEATURES = 5000\n",
    "NUM_CLASSES = 3993\n",
    "\n",
    "y_valid = pd.read_csv(\"../../data/expanded/dev_labels.csv\", names=range(NUM_CLASSES)).to_numpy()\n",
    "\n",
    "nn = pd.read_csv(\"../../public_data/nn_ensemble_old.csv\", names=range(NUM_CLASSES)).to_numpy()\n",
    "knn = pd.read_csv(\"../../public_data/knn.csv\", names=range(NUM_CLASSES), header=0).to_numpy()\n",
    "svm = pd.read_csv(\"../../public_data/svm.csv\", names=range(NUM_CLASSES), header=0).to_numpy()\n",
    "rf = pd.read_csv(\"../../public_data/saved_rf_probabilities.csv\", names=range(NUM_CLASSES), header=0).to_numpy()"
   ]
  },
  {
   "cell_type": "code",
   "execution_count": 3,
   "metadata": {},
   "outputs": [
    {
     "data": {
      "text/plain": [
       "0.6372752007668268"
      ]
     },
     "execution_count": 3,
     "metadata": {},
     "output_type": "execute_result"
    }
   ],
   "source": [
    "LRAP(y_valid, nn)"
   ]
  },
  {
   "cell_type": "code",
   "execution_count": 4,
   "metadata": {},
   "outputs": [
    {
     "data": {
      "text/plain": [
       "0.5604580391775857"
      ]
     },
     "execution_count": 4,
     "metadata": {},
     "output_type": "execute_result"
    }
   ],
   "source": [
    "LRAP(y_valid, rf)"
   ]
  },
  {
   "cell_type": "code",
   "execution_count": 5,
   "metadata": {},
   "outputs": [
    {
     "data": {
      "text/plain": [
       "0.2912844932011161"
      ]
     },
     "execution_count": 5,
     "metadata": {},
     "output_type": "execute_result"
    }
   ],
   "source": [
    "LRAP(y_valid, knn)"
   ]
  },
  {
   "cell_type": "code",
   "execution_count": 6,
   "metadata": {},
   "outputs": [
    {
     "data": {
      "text/plain": [
       "0.3391564618701288"
      ]
     },
     "execution_count": 6,
     "metadata": {},
     "output_type": "execute_result"
    }
   ],
   "source": [
    "LRAP(y_valid, svm)"
   ]
  },
  {
   "cell_type": "code",
   "execution_count": 7,
   "metadata": {},
   "outputs": [
    {
     "data": {
      "text/plain": [
       "0.6416900423600906"
      ]
     },
     "execution_count": 7,
     "metadata": {},
     "output_type": "execute_result"
    }
   ],
   "source": [
    "e = 0.83 * nn + 0.14 * rf + 0.02 * svm + 0.01 * knn\n",
    "LRAP(y_valid, e)"
   ]
  },
  {
   "cell_type": "code",
   "execution_count": 31,
   "metadata": {},
   "outputs": [],
   "source": [
    "# normalize a vector to have unit norm\n",
    "def normalize(weights):\n",
    "    result = np.linalg.norm(weights, 1)\n",
    "    # check for a vector of all zeros\n",
    "    if result == 0.0:\n",
    "        return weights\n",
    "    # return normalized vector (unit norm)\n",
    "    return weights / result\n",
    "\n",
    "# loss function for optimization process, designed to be minimized\n",
    "def loss_function(weights, predictions, y_valid):\n",
    "    # normalize weights\n",
    "    normalized = normalize(weights)\n",
    "    # calculate error rate\n",
    "    ensemble = (normalized[0] * predictions[0]).copy()\n",
    "    for i in range(1, len(predictions)):\n",
    "        ensemble += normalized[i] * predictions[i]\n",
    "    return 1.0 - LRAP(y_valid, ensemble)"
   ]
  },
  {
   "cell_type": "code",
   "execution_count": 10,
   "metadata": {},
   "outputs": [],
   "source": [
    "inter1 = nn * svm\n",
    "inter2 = nn * rf\n",
    "inter3 = nn * knn"
   ]
  },
  {
   "cell_type": "code",
   "execution_count": 11,
   "metadata": {},
   "outputs": [
    {
     "name": "stdout",
     "output_type": "stream",
     "text": [
      "Ensemble LRAP: 0.6421046287569429\n",
      "{'nn': 0.68, 'rf': 0.12, 'svm': 0.03, 'knn': 0.02, 'inter1': 0.1, 'inter2': 0.01, 'inter3': 0.04}\n"
     ]
    }
   ],
   "source": [
    "bound_w = [(0.8, 1.0), (0.0, 0.2), (0.0, 0.2), (0.0, 0.2), (0.0, 0.2), (0.0, 0.2), (0.0, 0.2)]\n",
    "search_args = ([nn, rf, svm, knn, inter1, inter2, inter3], y_valid)\n",
    "\n",
    "result = differential_evolution(loss_function, bound_w, search_args, seed=SEED)\n",
    "print(f\"Ensemble LRAP: {1 - loss_function(result['x'], *search_args)}\")\n",
    "print(\n",
    "    dict(\n",
    "        zip(\n",
    "            [\"nn\", \"rf\", \"svm\", \"knn\", \"inter1\", \"inter2\", \"inter3\"],\n",
    "            np.round(normalize(result[\"x\"]), decimals=2)\n",
    "        )\n",
    "    )\n",
    ")"
   ]
  },
  {
   "cell_type": "code",
   "execution_count": 12,
   "metadata": {},
   "outputs": [
    {
     "name": "stdout",
     "output_type": "stream",
     "text": [
      "Ensemble LRAP: 0.642052920268126\n",
      "{'nn': 0.71, 'rf': 0.14, 'svm': 0.04, 'knn': 0.03, 'inter1': 0.01, 'inter2': -0.03, 'inter3': -0.03}\n"
     ]
    }
   ],
   "source": [
    "bound_w = [(0.8, 1.0), (0.0, 0.2), (0.0, 0.2), (0.0, 0.2), (-0.1, 0.1), (-0.1, 0.1), (-0.1, 0.1)]\n",
    "search_args = ([nn, rf, svm, knn, inter1, inter2, inter3], y_valid)\n",
    "\n",
    "result = differential_evolution(loss_function, bound_w, search_args, seed=SEED)\n",
    "print(f\"Ensemble LRAP: {1 - loss_function(result['x'], *search_args)}\")\n",
    "print(\n",
    "    dict(\n",
    "        zip(\n",
    "            [\"nn\", \"rf\", \"svm\", \"knn\", \"inter1\", \"inter2\", \"inter3\"],\n",
    "            np.round(normalize(result[\"x\"]), decimals=2)\n",
    "        )\n",
    "    )\n",
    ")"
   ]
  },
  {
   "cell_type": "code",
   "execution_count": 13,
   "metadata": {},
   "outputs": [
    {
     "name": "stdout",
     "output_type": "stream",
     "text": [
      "Ensemble LRAP: 0.6419611602794333\n",
      "{'nn': 0.72, 'rf': 0.18, 'svm': 0.04, 'knn': 0.01, 'inter1': 0.0, 'inter2': 0.02, 'inter3': -0.02}\n"
     ]
    }
   ],
   "source": [
    "bound_w = [(0.9, 1.0), (0.0, 0.3), (0.0, 0.2), (0.0, 0.2), (-0.2, 0.2), (-0.2, 0.2), (-0.2, 0.2)]\n",
    "search_args = ([nn, rf, svm, knn, inter1, inter2, inter3], y_valid)\n",
    "\n",
    "result = differential_evolution(loss_function, bound_w, search_args, seed=SEED)\n",
    "print(f\"Ensemble LRAP: {1 - loss_function(result['x'], *search_args)}\")\n",
    "print(\n",
    "    dict(\n",
    "        zip(\n",
    "            [\"nn\", \"rf\", \"svm\", \"knn\", \"inter1\", \"inter2\", \"inter3\"],\n",
    "            np.round(normalize(result[\"x\"]), decimals=2)\n",
    "        )\n",
    "    )\n",
    ")"
   ]
  },
  {
   "cell_type": "code",
   "execution_count": 14,
   "metadata": {},
   "outputs": [],
   "source": [
    "inter1 = nn * svm\n",
    "inter2 = nn * rf\n",
    "inter3 = nn * knn\n",
    "inter4 = nn * nn\n",
    "inter5 = rf * rf"
   ]
  },
  {
   "cell_type": "code",
   "execution_count": 15,
   "metadata": {},
   "outputs": [
    {
     "name": "stdout",
     "output_type": "stream",
     "text": [
      "Ensemble LRAP: 0.6428028403042\n",
      "{'nn': 0.6, 'rf': 0.06, 'svm': 0.02, 'knn': 0.01, 'inter1': 0.06, 'inter2': 0.04, 'inter3': 0.03, 'inter4': 0.06, 'inter5': 0.11}\n"
     ]
    }
   ],
   "source": [
    "bound_w = [(0.8, 1.0), (0.0, 0.2), (0.0, 0.2), (0.0, 0.2), (0.0, 0.1), (0.0, 0.1), (0.0, 0.1), (0.0, 0.2), (0.0, 0.2)]\n",
    "search_args = ([nn, rf, svm, knn, inter1, inter2, inter3, inter4, inter5], y_valid)\n",
    "\n",
    "result = differential_evolution(loss_function, bound_w, search_args, seed=SEED)\n",
    "print(f\"Ensemble LRAP: {1 - loss_function(result['x'], *search_args)}\")\n",
    "print(\n",
    "    dict(\n",
    "        zip(\n",
    "            [\"nn\", \"rf\", \"svm\", \"knn\", \"inter1\", \"inter2\", \"inter3\", \"inter4\", \"inter5\"],\n",
    "            np.round(normalize(result[\"x\"]), decimals=2)\n",
    "        )\n",
    "    )\n",
    ")"
   ]
  },
  {
   "cell_type": "code",
   "execution_count": 16,
   "metadata": {},
   "outputs": [
    {
     "name": "stdout",
     "output_type": "stream",
     "text": [
      "Ensemble LRAP: 0.642777459970584\n",
      "{'nn': 0.56, 'rf': 0.11, 'svm': 0.03, 'knn': 0.02, 'inter1': 0.03, 'inter2': 0.02, 'inter3': 0.02, 'inter4': 0.11, 'inter5': 0.11}\n"
     ]
    }
   ],
   "source": [
    "bound_w = [(0.6, 1.0), (0.0, 0.2), (0.0, 0.2), (0.0, 0.2), (0.0, 0.1), (0.0, 0.1), (0.0, 0.1), (0.0, 0.2), (0.0, 0.2)]\n",
    "search_args = ([nn, rf, svm, knn, inter1, inter2, inter3, inter4, inter5], y_valid)\n",
    "\n",
    "result = differential_evolution(loss_function, bound_w, search_args, seed=SEED)\n",
    "print(f\"Ensemble LRAP: {1 - loss_function(result['x'], *search_args)}\")\n",
    "print(\n",
    "    dict(\n",
    "        zip(\n",
    "            [\"nn\", \"rf\", \"svm\", \"knn\", \"inter1\", \"inter2\", \"inter3\", \"inter4\", \"inter5\"],\n",
    "            np.round(normalize(result[\"x\"]), decimals=2)\n",
    "        )\n",
    "    )\n",
    ")"
   ]
  },
  {
   "cell_type": "code",
   "execution_count": 17,
   "metadata": {},
   "outputs": [
    {
     "name": "stdout",
     "output_type": "stream",
     "text": [
      "Ensemble LRAP: 0.6428577625344234\n",
      "{'nn': 0.49, 'rf': 0.03, 'svm': 0.03, 'knn': 0.01, 'inter1': 0.05, 'inter2': 0.05, 'inter3': 0.04, 'inter4': 0.16, 'inter5': 0.13}\n"
     ]
    }
   ],
   "source": [
    "bound_w = [(0.5, 1.0), (0.0, 0.2), (0.0, 0.2), (0.0, 0.2), (0.0, 0.1), (0.0, 0.1), (0.0, 0.1), (0.0, 0.25), (0.0, 0.25)]\n",
    "search_args = ([nn, rf, svm, knn, inter1, inter2, inter3, inter4, inter5], y_valid)\n",
    "\n",
    "result = differential_evolution(loss_function, bound_w, search_args, seed=SEED)\n",
    "print(f\"Ensemble LRAP: {1 - loss_function(result['x'], *search_args)}\")\n",
    "print(\n",
    "    dict(\n",
    "        zip(\n",
    "            [\"nn\", \"rf\", \"svm\", \"knn\", \"inter1\", \"inter2\", \"inter3\", \"inter4\", \"inter5\"],\n",
    "            np.round(normalize(result[\"x\"]), decimals=2)\n",
    "        )\n",
    "    )\n",
    ")"
   ]
  },
  {
   "cell_type": "code",
   "execution_count": 18,
   "metadata": {},
   "outputs": [],
   "source": [
    "e = 1 - loss_function(result[\"x\"], [nn, rf, svm, knn, inter1, inter2, inter3, inter4, inter5], y_valid)"
   ]
  },
  {
   "cell_type": "code",
   "execution_count": 20,
   "metadata": {},
   "outputs": [
    {
     "data": {
      "text/plain": [
       "0.6428577625344234"
      ]
     },
     "execution_count": 20,
     "metadata": {},
     "output_type": "execute_result"
    }
   ],
   "source": [
    "e = 1 - loss_function(, [nn, rf, svm, knn, inter1, inter2, inter3, inter4, inter5], y_valid)"
   ]
  },
  {
   "cell_type": "code",
   "execution_count": 32,
   "metadata": {},
   "outputs": [],
   "source": [
    "x = [0.6511959082759804, 0.004111658314978055, 0.006931800212986918, 0.007915600438598396, 0.43509489423730574, 0.11032858030099131, 0.036874063071821415, 0.04764619568639946, 0.20643462027375903]"
   ]
  },
  {
   "cell_type": "code",
   "execution_count": 33,
   "metadata": {},
   "outputs": [],
   "source": [
    "e = 1 - loss_function(np.array(x), [nn, rf, svm, knn, inter1, inter2, inter3, inter4, inter5], y_valid)"
   ]
  },
  {
   "cell_type": "code",
   "execution_count": 35,
   "metadata": {},
   "outputs": [
    {
     "data": {
      "text/plain": [
       "array([0.43224793, 0.00272922, 0.00460116, 0.00525418, 0.28880536,\n",
       "       0.07323342, 0.0244761 , 0.03162638, 0.13702626])"
      ]
     },
     "execution_count": 35,
     "metadata": {},
     "output_type": "execute_result"
    }
   ],
   "source": [
    "normalize(x)"
   ]
  },
  {
   "cell_type": "code",
   "execution_count": 34,
   "metadata": {},
   "outputs": [
    {
     "data": {
      "text/plain": [
       "0.6450671808764409"
      ]
     },
     "execution_count": 34,
     "metadata": {},
     "output_type": "execute_result"
    }
   ],
   "source": [
    "e"
   ]
  },
  {
   "cell_type": "markdown",
   "metadata": {},
   "source": [
    "### Old stuff"
   ]
  },
  {
   "cell_type": "code",
   "execution_count": 5,
   "metadata": {},
   "outputs": [
    {
     "name": "stdout",
     "output_type": "stream",
     "text": [
      "Ensemble LRAP: 0.6413867078529208\n",
      "{'nn': 0.78, 'rf': 0.13, 'svm': 0.08, 'knn': 0.01}\n"
     ]
    }
   ],
   "source": [
    "bound_w = [(0.6, 1.0), (0.0, 0.3), (0.0, 0.3), (0.0, 0.3)]\n",
    "search_args = ([nn, rf, svm, knn], y_valid)\n",
    "\n",
    "result = differential_evolution(loss_function, bound_w, search_args, seed=SEED)\n",
    "print(f\"Ensemble LRAP: {1 - loss_function(result['x'], *search_args)}\")\n",
    "print(dict(zip([\"nn\", \"rf\", \"svm\", \"knn\"], np.round(normalize(result[\"x\"]), decimals=2))))"
   ]
  },
  {
   "cell_type": "code",
   "execution_count": 6,
   "metadata": {},
   "outputs": [
    {
     "name": "stdout",
     "output_type": "stream",
     "text": [
      "Ensemble LRAP: 0.6413800518698071\n",
      "{'nn': 0.74, 'rf': 0.17, 'svm': 0.07, 'knn': 0.02}\n"
     ]
    }
   ],
   "source": [
    "bound_w = [(0.7, 1.0), (0.0, 0.3), (0.0, 0.3), (0.0, 0.3)]\n",
    "search_args = ([nn, rf, svm, knn], y_valid)\n",
    "\n",
    "result = differential_evolution(loss_function, bound_w, search_args, seed=SEED)\n",
    "print(f\"Ensemble LRAP: {1 - loss_function(result['x'], *search_args)}\")\n",
    "print(dict(zip([\"nn\", \"rf\", \"svm\", \"knn\"], np.round(normalize(result[\"x\"]), decimals=2))))"
   ]
  },
  {
   "cell_type": "code",
   "execution_count": 7,
   "metadata": {},
   "outputs": [
    {
     "name": "stdout",
     "output_type": "stream",
     "text": [
      "Ensemble LRAP: 0.6417411368048982\n",
      "{'nn': 0.78, 'rf': 0.13, 'svm': 0.05, 'knn': 0.05}\n"
     ]
    }
   ],
   "source": [
    "bound_w = [(0.7, 1.0), (0.0, 0.2), (0.0, 0.2), (0.0, 0.2)]\n",
    "search_args = ([nn, rf, svm, knn], y_valid)\n",
    "\n",
    "result = differential_evolution(loss_function, bound_w, search_args, seed=SEED)\n",
    "print(f\"Ensemble LRAP: {1 - loss_function(result['x'], *search_args)}\")\n",
    "print(dict(zip([\"nn\", \"rf\", \"svm\", \"knn\"], np.round(normalize(result[\"x\"]), decimals=2))))"
   ]
  },
  {
   "cell_type": "code",
   "execution_count": 8,
   "metadata": {},
   "outputs": [
    {
     "name": "stdout",
     "output_type": "stream",
     "text": [
      "Ensemble LRAP: 0.6418519154727957\n",
      "{'nn': 0.78, 'rf': 0.14, 'svm': 0.04, 'knn': 0.04}\n"
     ]
    }
   ],
   "source": [
    "bound_w = [(0.8, 1.0), (0.0, 0.2), (0.0, 0.2), (0.0, 0.2)]\n",
    "search_args = ([nn, rf, svm, knn], y_valid)\n",
    "\n",
    "result = differential_evolution(loss_function, bound_w, search_args, seed=SEED)\n",
    "print(f\"Ensemble LRAP: {1 - loss_function(result['x'], *search_args)}\")\n",
    "print(dict(zip([\"nn\", \"rf\", \"svm\", \"knn\"], np.round(normalize(result[\"x\"]), decimals=2))))"
   ]
  },
  {
   "cell_type": "code",
   "execution_count": 9,
   "metadata": {},
   "outputs": [
    {
     "name": "stdout",
     "output_type": "stream",
     "text": [
      "Ensemble LRAP: 0.6418554560382703\n",
      "{'nn': 0.76, 'rf': 0.13, 'svm': 0.05, 'knn': 0.05}\n"
     ]
    }
   ],
   "source": [
    "bound_w = [(0.9, 1.0), (0.0, 0.2), (0.0, 0.2), (0.0, 0.2)]\n",
    "search_args = ([nn, rf, svm, knn], y_valid)\n",
    "\n",
    "result = differential_evolution(loss_function, bound_w, search_args, seed=SEED)\n",
    "print(f\"Ensemble LRAP: {1 - loss_function(result['x'], *search_args)}\")\n",
    "print(dict(zip([\"nn\", \"rf\", \"svm\", \"knn\"], np.round(normalize(result[\"x\"]), decimals=2))))"
   ]
  },
  {
   "cell_type": "code",
   "execution_count": 10,
   "metadata": {},
   "outputs": [
    {
     "name": "stdout",
     "output_type": "stream",
     "text": [
      "Ensemble LRAP: 0.6413426296697362\n",
      "{'nn': 0.87, 'rf': 0.09, 'svm': 0.02, 'knn': 0.02}\n"
     ]
    }
   ],
   "source": [
    "bound_w = [(0.95, 1.0), (0.0, 0.1), (0.0, 0.1), (0.0, 0.1)]\n",
    "search_args = ([nn, rf, svm, knn], y_valid)\n",
    "\n",
    "result = differential_evolution(loss_function, bound_w, search_args, seed=SEED)\n",
    "print(f\"Ensemble LRAP: {1 - loss_function(result['x'], *search_args)}\")\n",
    "print(dict(zip([\"nn\", \"rf\", \"svm\", \"knn\"], np.round(normalize(result[\"x\"]), decimals=2))))"
   ]
  },
  {
   "cell_type": "code",
   "execution_count": 11,
   "metadata": {},
   "outputs": [
    {
     "name": "stdout",
     "output_type": "stream",
     "text": [
      "Ensemble LRAP: 0.6413081802197139\n",
      "{'nn': 0.9, 'rf': 0.02, 'svm': 0.04, 'knn': 0.04}\n"
     ]
    }
   ],
   "source": [
    "bound_w = [(0.95, 1.0), (0.0, 0.05), (0.0, 0.05), (0.0, 0.05)]\n",
    "search_args = ([nn, rf, svm, knn], y_valid)\n",
    "\n",
    "result = differential_evolution(loss_function, bound_w, search_args, seed=SEED)\n",
    "print(f\"Ensemble LRAP: {1 - loss_function(result['x'], *search_args)}\")\n",
    "print(dict(zip([\"nn\", \"rf\", \"svm\", \"knn\"], np.round(normalize(result[\"x\"]), decimals=2))))"
   ]
  },
  {
   "cell_type": "code",
   "execution_count": 12,
   "metadata": {},
   "outputs": [
    {
     "name": "stdout",
     "output_type": "stream",
     "text": [
      "Ensemble LRAP: 0.640035437848277\n",
      "{'nn': 0.85, 'svm': 0.07, 'knn': 0.07}\n"
     ]
    }
   ],
   "source": [
    "bound_w = [(0.8, 1.0), (0.0, 0.1), (0.0, 0.1)]\n",
    "search_args = ([nn, svm, knn], y_valid)\n",
    "\n",
    "result = differential_evolution(loss_function, bound_w, search_args, seed=SEED)\n",
    "print(f\"Ensemble LRAP: {1 - loss_function(result['x'], *search_args)}\")\n",
    "print(dict(zip([\"nn\", \"svm\", \"knn\"], np.round(normalize(result[\"x\"]), decimals=2))))"
   ]
  },
  {
   "cell_type": "code",
   "execution_count": null,
   "metadata": {},
   "outputs": [],
   "source": []
  }
 ],
 "metadata": {
  "kernelspec": {
   "display_name": "Python [conda env:pytorch]",
   "language": "python",
   "name": "conda-env-pytorch-py"
  },
  "language_info": {
   "codemirror_mode": {
    "name": "ipython",
    "version": 3
   },
   "file_extension": ".py",
   "mimetype": "text/x-python",
   "name": "python",
   "nbconvert_exporter": "python",
   "pygments_lexer": "ipython3",
   "version": "3.6.10"
  }
 },
 "nbformat": 4,
 "nbformat_minor": 4
}
