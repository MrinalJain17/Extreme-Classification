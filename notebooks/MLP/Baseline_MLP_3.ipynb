{
 "cells": [
  {
   "cell_type": "code",
   "execution_count": 1,
   "metadata": {},
   "outputs": [
    {
     "name": "stdout",
     "output_type": "stream",
     "text": [
      "13959 examples in training set, and 1552 in validation.\n"
     ]
    }
   ],
   "source": [
    "# Needed to import custom code from other directories\n",
    "import sys\n",
    "sys.path.append('../../code')\n",
    "\n",
    "import matplotlib.pyplot as plt\n",
    "import numpy as np\n",
    "import pandas as pd\n",
    "from sklearn.decomposition import PCA\n",
    "from sklearn.preprocessing import MinMaxScaler, StandardScaler\n",
    "from tqdm.auto import tqdm\n",
    "\n",
    "from models import ModifiedMLPClassifier\n",
    "from utils import LRAP, perfection\n",
    "\n",
    "%matplotlib inline\n",
    "\n",
    "SEED = 42\n",
    "\n",
    "NUM_FEATURES = 5000\n",
    "NUM_CLASSES = 3993\n",
    "\n",
    "X_train = pd.read_csv(\"../../data/expanded/train_features.csv\", names=range(NUM_FEATURES))\n",
    "y_train = pd.read_csv(\"../../data/expanded/train_labels.csv\", names=range(NUM_CLASSES))\n",
    "\n",
    "X_valid = pd.read_csv(\"../../data/expanded/valid_features.csv\", names=range(NUM_FEATURES))\n",
    "y_valid = pd.read_csv(\"../../data/expanded/valid_labels.csv\", names=range(NUM_CLASSES))\n",
    "\n",
    "print(f\"{X_train.shape[0]} examples in training set, and {X_valid.shape[0]} in validation.\")"
   ]
  },
  {
   "cell_type": "markdown",
   "metadata": {},
   "source": [
    "## Pre-processing data"
   ]
  },
  {
   "cell_type": "code",
   "execution_count": 2,
   "metadata": {},
   "outputs": [],
   "source": [
    "# Set True to apply log transformation to the features\n",
    "# Intended to be used in combination with one of the other techniques below\n",
    "LOG = True\n",
    "\n",
    "STANDARDIZE = True     # Set True to standardize, False otherwise\n",
    "NORMALIZE = False      # Set True to normalize, False otherwise\n",
    "PCA_COMPONENTS = None  # Set to number of components for PCA (automatically standardized)\n",
    "\n",
    "\n",
    "# ----- Code below applies the transformations as specified ----- #\n",
    "func = []\n",
    "if LOG:\n",
    "    X_train_transformed = np.log1p(X_train.to_numpy())\n",
    "    X_valid_transformed = np.log1p(X_valid.to_numpy())\n",
    "else:\n",
    "    X_train_transformed = X_train.to_numpy()\n",
    "    X_valid_transformed = X_valid.to_numpy()\n",
    "\n",
    "if STANDARDIZE:\n",
    "    func = [StandardScaler()]\n",
    "elif NORMALIZE:\n",
    "    func = [MinMaxScaler()]\n",
    "elif PCA_COMPONENTS is not None:\n",
    "    func = [StandardScaler(with_std=False)]\n",
    "    func.append(PCA(n_components=PCA_COMPONENTS, random_state=SEED))\n",
    "    func.append(StandardScaler(with_mean=False))\n",
    "else:\n",
    "    func = None\n",
    "\n",
    "if func is not None:\n",
    "    for f in func:\n",
    "        f = f.fit(X_train_transformed)\n",
    "        X_train_transformed = f.transform(X_train_transformed)\n",
    "        X_valid_transformed = f.transform(X_valid_transformed)"
   ]
  },
  {
   "cell_type": "markdown",
   "metadata": {},
   "source": [
    "## Model training\n",
    "\n",
    "While training the multi-layer perceptron, the training loss and validation LRAP are reported in each iteration."
   ]
  },
  {
   "cell_type": "code",
   "execution_count": 3,
   "metadata": {
    "scrolled": false
   },
   "outputs": [
    {
     "data": {
      "application/vnd.jupyter.widget-view+json": {
       "model_id": "502fb590d6c042eda4fc05a40ffa1f60",
       "version_major": 2,
       "version_minor": 0
      },
      "text/plain": [
       "HBox(children=(FloatProgress(value=0.0), HTML(value='')))"
      ]
     },
     "metadata": {},
     "output_type": "display_data"
    },
    {
     "name": "stdout",
     "output_type": "stream",
     "text": [
      "Iteration 1, loss = 302.07358861\n",
      "Validation score: 0.082953\n",
      "Iteration 2, loss = 43.54626572\n",
      "Validation score: 0.155626\n",
      "Iteration 3, loss = 34.44382504\n",
      "Validation score: 0.213677\n",
      "Iteration 4, loss = 30.22854281\n",
      "Validation score: 0.268971\n",
      "Iteration 5, loss = 27.38173244\n",
      "Validation score: 0.312964\n",
      "Iteration 6, loss = 25.15300299\n",
      "Validation score: 0.350610\n",
      "Iteration 7, loss = 23.25748569\n",
      "Validation score: 0.382617\n",
      "Iteration 8, loss = 21.65555288\n",
      "Validation score: 0.406718\n",
      "Iteration 9, loss = 20.24598316\n",
      "Validation score: 0.429887\n",
      "Iteration 10, loss = 18.98345092\n",
      "Validation score: 0.447184\n",
      "Iteration 11, loss = 17.84287442\n",
      "Validation score: 0.464512\n",
      "Iteration 12, loss = 16.79113709\n",
      "Validation score: 0.480273\n",
      "Iteration 13, loss = 15.81512634\n",
      "Validation score: 0.491235\n",
      "Iteration 14, loss = 14.91339770\n",
      "Validation score: 0.501322\n",
      "Iteration 15, loss = 14.07062573\n",
      "Validation score: 0.512148\n",
      "Iteration 16, loss = 13.28946981\n",
      "Validation score: 0.520505\n",
      "Iteration 17, loss = 12.55124821\n",
      "Validation score: 0.525096\n",
      "Iteration 18, loss = 11.86212079\n",
      "Validation score: 0.531205\n",
      "Iteration 19, loss = 11.22186977\n",
      "Validation score: 0.539627\n",
      "Iteration 20, loss = 10.63545512\n",
      "Validation score: 0.543794\n",
      "Iteration 21, loss = 10.08808781\n",
      "Validation score: 0.546981\n",
      "Iteration 22, loss = 9.57576878\n",
      "Validation score: 0.552564\n",
      "Iteration 23, loss = 9.10379159\n",
      "Validation score: 0.557012\n",
      "Iteration 24, loss = 8.66561666\n",
      "Validation score: 0.558608\n",
      "Iteration 25, loss = 8.27429373\n",
      "Validation score: 0.561775\n",
      "Iteration 26, loss = 7.89354963\n",
      "Validation score: 0.562699\n",
      "Iteration 27, loss = 7.55891351\n",
      "Validation score: 0.564386\n",
      "Iteration 28, loss = 7.25143204\n",
      "Validation score: 0.568429\n",
      "Iteration 29, loss = 6.96678271\n",
      "Validation score: 0.568532\n",
      "Iteration 30, loss = 6.72079189\n",
      "Validation score: 0.569370\n",
      "Iteration 31, loss = 6.48364395\n",
      "Validation score: 0.570983\n",
      "Iteration 32, loss = 6.26369046\n",
      "Validation score: 0.573794\n",
      "Iteration 33, loss = 6.06847513\n",
      "Validation score: 0.573159\n",
      "Iteration 34, loss = 5.89824446\n",
      "Validation score: 0.573558\n",
      "Iteration 35, loss = 5.73686449\n",
      "Validation score: 0.573260\n",
      "Iteration 36, loss = 5.59024946\n",
      "Validation score: 0.574259\n",
      "Iteration 37, loss = 5.45619554\n",
      "Validation score: 0.573409\n",
      "Iteration 38, loss = 5.33021014\n",
      "Validation score: 0.573931\n",
      "Iteration 39, loss = 5.20841982\n",
      "Validation score: 0.573662\n",
      "Iteration 40, loss = 5.10685057\n",
      "Validation score: 0.574746\n",
      "Iteration 41, loss = 5.01737432\n",
      "Validation score: 0.575661\n",
      "Iteration 42, loss = 4.91896265\n",
      "Validation score: 0.574159\n",
      "Iteration 43, loss = 4.84434952\n",
      "Validation score: 0.574213\n",
      "Iteration 44, loss = 4.77431961\n",
      "Validation score: 0.573889\n",
      "Iteration 45, loss = 4.69912424\n",
      "Validation score: 0.572215\n",
      "Iteration 46, loss = 4.63451637\n",
      "Validation score: 0.573889\n",
      "Iteration 47, loss = 4.58146439\n",
      "Validation score: 0.574318\n",
      "Iteration 48, loss = 4.53405608\n",
      "Validation score: 0.572436\n",
      "Iteration 49, loss = 4.48411937\n",
      "Validation score: 0.575103\n",
      "Iteration 50, loss = 4.45975123\n",
      "Validation score: 0.573510\n",
      "Iteration 51, loss = 4.43953147\n",
      "Validation score: 0.573140\n",
      "Iteration 52, loss = 4.37185459\n",
      "Validation score: 0.571812\n",
      "Validation score did not improve more than tol=0.000100 for 10 consecutive epochs. Stopping.\n"
     ]
    }
   ],
   "source": [
    "mlp = ModifiedMLPClassifier(\n",
    "    hidden_layer_sizes=(256,),\n",
    "    activation=\"relu\",\n",
    "    max_iter=100,\n",
    "    alpha=0.2,\n",
    "    early_stopping=True,\n",
    "    verbose=True,\n",
    "    random_state=SEED,\n",
    "    custom_validation_data=(X_valid_transformed, y_valid)\n",
    ")\n",
    "mlp = mlp.fit(X_train_transformed, y_train)"
   ]
  },
  {
   "cell_type": "markdown",
   "metadata": {},
   "source": [
    "## Evaluation"
   ]
  },
  {
   "cell_type": "code",
   "execution_count": 4,
   "metadata": {},
   "outputs": [
    {
     "name": "stdout",
     "output_type": "stream",
     "text": [
      "LRAP on training data: 0.9718\n"
     ]
    }
   ],
   "source": [
    "score_train = mlp.score(X_train_transformed, y_train.to_numpy())\n",
    "print(f\"LRAP on training data: {score_train:.4f}\")"
   ]
  },
  {
   "cell_type": "code",
   "execution_count": 5,
   "metadata": {},
   "outputs": [
    {
     "name": "stdout",
     "output_type": "stream",
     "text": [
      "LRAP on validation data: 0.5757\n"
     ]
    }
   ],
   "source": [
    "score_valid = mlp.score(X_valid_transformed, y_valid.to_numpy())\n",
    "print(f\"LRAP on validation data: {score_valid:.4f}\")"
   ]
  },
  {
   "cell_type": "code",
   "execution_count": null,
   "metadata": {},
   "outputs": [],
   "source": [
    "print(f\"{perfection(y_valid, predictions_valid) * 100:.3f}% of examples perfectly predicted\")"
   ]
  },
  {
   "cell_type": "code",
   "execution_count": 9,
   "metadata": {},
   "outputs": [],
   "source": [
    "sample_idx = 123\n",
    "sample_pred = mlp.predict(X_valid_transformed[[sample_idx]])[0]\n",
    "actual = y_valid.loc[sample_idx].to_numpy()"
   ]
  },
  {
   "cell_type": "code",
   "execution_count": 10,
   "metadata": {},
   "outputs": [
    {
     "data": {
      "text/plain": [
       "(array([342, 418, 637, 682, 906, 992], dtype=int64),)"
      ]
     },
     "execution_count": 10,
     "metadata": {},
     "output_type": "execute_result"
    }
   ],
   "source": [
    "np.nonzero(actual)"
   ]
  },
  {
   "cell_type": "code",
   "execution_count": 11,
   "metadata": {},
   "outputs": [
    {
     "data": {
      "text/plain": [
       "(array([128, 263, 342, 358, 637, 682, 992], dtype=int64),)"
      ]
     },
     "execution_count": 11,
     "metadata": {},
     "output_type": "execute_result"
    }
   ],
   "source": [
    "np.nonzero(sample_pred)"
   ]
  },
  {
   "cell_type": "code",
   "execution_count": null,
   "metadata": {},
   "outputs": [],
   "source": []
  }
 ],
 "metadata": {
  "kernelspec": {
   "display_name": "Python [conda env:root] *",
   "language": "python",
   "name": "conda-root-py"
  },
  "language_info": {
   "codemirror_mode": {
    "name": "ipython",
    "version": 3
   },
   "file_extension": ".py",
   "mimetype": "text/x-python",
   "name": "python",
   "nbconvert_exporter": "python",
   "pygments_lexer": "ipython3",
   "version": "3.6.10"
  }
 },
 "nbformat": 4,
 "nbformat_minor": 4
}
