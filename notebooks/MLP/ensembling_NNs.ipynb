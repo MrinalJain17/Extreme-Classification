{
 "cells": [
  {
   "cell_type": "code",
   "execution_count": 1,
   "metadata": {},
   "outputs": [],
   "source": [
    "# Needed to import custom code from other directories\n",
    "import sys\n",
    "sys.path.append('../../code')\n",
    "\n",
    "import matplotlib.pyplot as plt\n",
    "import numpy as np\n",
    "import pandas as pd\n",
    "import pytorch_lightning as pl\n",
    "import torch\n",
    "import torch.nn as nn\n",
    "import torch.nn.functional as F\n",
    "\n",
    "from dataset import CSVDataset\n",
    "\n",
    "from utils import LRAP, perfection\n",
    "from train import Net\n",
    "\n",
    "from tabulate import tabulate\n",
    "from tqdm.auto import tqdm\n",
    "\n",
    "%matplotlib inline\n",
    "\n",
    "SEED = 42\n",
    "\n",
    "NUM_FEATURES = 5000\n",
    "NUM_CLASSES = 3993\n",
    "\n",
    "model_4 = Net.load_from_checkpoint(\"../../code/saved_models/neural_network_4.ckpt\") # 8192 units\n",
    "model_4.freeze()\n",
    "\n",
    "model_5 = Net.load_from_checkpoint(\"../../code/saved_models/neural_network_5.ckpt\") # 16384 units\n",
    "model_5.freeze()"
   ]
  },
  {
   "cell_type": "code",
   "execution_count": 2,
   "metadata": {},
   "outputs": [
    {
     "data": {
      "text/plain": [
       "0.000363078054770101"
      ]
     },
     "execution_count": 2,
     "metadata": {},
     "output_type": "execute_result"
    }
   ],
   "source": [
    "model_4.hparams.lr"
   ]
  },
  {
   "cell_type": "code",
   "execution_count": 58,
   "metadata": {},
   "outputs": [],
   "source": [
    "validation_data = CSVDataset(\n",
    "    \"../../data/expanded/\",\n",
    "    csv_features=\"dev_features.csv\",\n",
    "    csv_labels=\"dev_labels.csv\",\n",
    "    standardize=\"../../code/saved_models/scaler.pkl\",\n",
    ")\n",
    "\n",
    "validation_dataloader = torch.utils.data.DataLoader(\n",
    "    validation_data, batch_size=model_4.hparams.batch_size\n",
    ")\n",
    "\n",
    "y_valid = pd.read_csv(\"../../data/expanded/dev_labels.csv\", names=range(NUM_CLASSES))\n",
    "y_valid = y_valid.to_numpy()"
   ]
  },
  {
   "cell_type": "code",
   "execution_count": 59,
   "metadata": {},
   "outputs": [],
   "source": [
    "predictions_1 = pd.read_csv(\"../../public_data/nn_predictions_1.csv\", names=range(NUM_CLASSES)).to_numpy()  # 2048\n",
    "predictions_2 = pd.read_csv(\"../../public_data/nn_predictions_2.csv\", names=range(NUM_CLASSES)).to_numpy()  # 4096\n",
    "predictions_3 = pd.read_csv(\"../../public_data/nn_predictions_3.csv\", names=range(NUM_CLASSES)).to_numpy()  # 6144"
   ]
  },
  {
   "cell_type": "code",
   "execution_count": 60,
   "metadata": {},
   "outputs": [
    {
     "data": {
      "text/plain": [
       "0.6251477863040237"
      ]
     },
     "execution_count": 60,
     "metadata": {},
     "output_type": "execute_result"
    }
   ],
   "source": [
    "LRAP(y_valid, predictions_1)"
   ]
  },
  {
   "cell_type": "code",
   "execution_count": 61,
   "metadata": {},
   "outputs": [
    {
     "data": {
      "text/plain": [
       "0.630795128936494"
      ]
     },
     "execution_count": 61,
     "metadata": {},
     "output_type": "execute_result"
    }
   ],
   "source": [
    "LRAP(y_valid, predictions_2)"
   ]
  },
  {
   "cell_type": "code",
   "execution_count": 62,
   "metadata": {},
   "outputs": [
    {
     "data": {
      "text/plain": [
       "0.630657886172951"
      ]
     },
     "execution_count": 62,
     "metadata": {},
     "output_type": "execute_result"
    }
   ],
   "source": [
    "LRAP(y_valid, predictions_3)"
   ]
  },
  {
   "cell_type": "code",
   "execution_count": 63,
   "metadata": {},
   "outputs": [
    {
     "data": {
      "text/plain": [
       "0.6317192855131262"
      ]
     },
     "execution_count": 63,
     "metadata": {},
     "output_type": "execute_result"
    }
   ],
   "source": [
    "predictions_4 = []\n",
    "for (features, _) in validation_dataloader:\n",
    "    predictions_4.append(model_4.forward(features))\n",
    "    \n",
    "predictions_4 = torch.cat(predictions_4, dim=0)\n",
    "predictions_4 = torch.sigmoid(predictions_4).numpy()\n",
    "\n",
    "LRAP(y_valid, predictions_4)"
   ]
  },
  {
   "cell_type": "code",
   "execution_count": 64,
   "metadata": {},
   "outputs": [
    {
     "data": {
      "text/plain": [
       "0.6294285356502091"
      ]
     },
     "execution_count": 64,
     "metadata": {},
     "output_type": "execute_result"
    }
   ],
   "source": [
    "predictions_5 = []\n",
    "for (features, _) in validation_dataloader:\n",
    "    predictions_5.append(model_5.forward(features))\n",
    "    \n",
    "predictions_5 = torch.cat(predictions_5, dim=0)\n",
    "predictions_5 = torch.sigmoid(predictions_5).numpy()\n",
    "\n",
    "LRAP(y_valid, predictions_5)"
   ]
  },
  {
   "cell_type": "markdown",
   "metadata": {},
   "source": [
    "### Best was obtained using 1, 2 and 4"
   ]
  },
  {
   "cell_type": "code",
   "execution_count": 77,
   "metadata": {},
   "outputs": [],
   "source": [
    "betas1 = []\n",
    "betas2 = []\n",
    "betas3 = []\n",
    "for beta1 in np.arange(0.1, 0.9, 0.05):\n",
    "    for beta2 in np.arange(0.1, 1 - beta1, 0.05):\n",
    "        beta3 = 1 - (beta1 + beta2)\n",
    "        betas1.append(beta1)\n",
    "        betas2.append(beta2)\n",
    "        betas3.append(beta3)"
   ]
  },
  {
   "cell_type": "code",
   "execution_count": 78,
   "metadata": {},
   "outputs": [
    {
     "data": {
      "application/vnd.jupyter.widget-view+json": {
       "model_id": "09906a4211ff4701a3299e4af2bc1bd4",
       "version_major": 2,
       "version_minor": 0
      },
      "text/plain": [
       "HBox(children=(FloatProgress(value=1.0, bar_style='info', max=1.0), HTML(value='')))"
      ]
     },
     "metadata": {},
     "output_type": "display_data"
    },
    {
     "name": "stdout",
     "output_type": "stream",
     "text": [
      "\n"
     ]
    }
   ],
   "source": [
    "lraps = []\n",
    "for (b1, b2, b3) in tqdm(zip(betas1, betas2, betas3)):\n",
    "    ensemble = b1 * predictions_1 + b2 * predictions_2 + b3 * predictions_4\n",
    "    lraps.append(LRAP(y_valid, ensemble))\n",
    "    \n",
    "d = {\n",
    "    \"beta_1\": betas1,\n",
    "    \"beta_2\": betas2,\n",
    "    \"beta_3\": betas3,\n",
    "    \"LRAP\": lraps\n",
    "}"
   ]
  },
  {
   "cell_type": "code",
   "execution_count": 86,
   "metadata": {},
   "outputs": [
    {
     "data": {
      "text/plain": [
       "0.6380150218351462"
      ]
     },
     "execution_count": 86,
     "metadata": {},
     "output_type": "execute_result"
    }
   ],
   "source": [
    "ensemble = 0.45 * predictions_1 + 0.2 * predictions_2 + 0.35 * predictions_4\n",
    "LRAP(y_valid, ensemble)"
   ]
  },
  {
   "cell_type": "code",
   "execution_count": 79,
   "metadata": {
    "scrolled": false
   },
   "outputs": [
    {
     "name": "stdout",
     "output_type": "stream",
     "text": [
      "  beta_1    beta_2    beta_3      LRAP\n",
      "--------  --------  --------  --------\n",
      "    0.1       0.1       0.8   0.635322\n",
      "    0.1       0.15      0.75  0.635207\n",
      "    0.1       0.2       0.7   0.635814\n",
      "    0.1       0.25      0.65  0.635556\n",
      "    0.1       0.3       0.6   0.635928\n",
      "    0.1       0.35      0.55  0.636244\n",
      "    0.1       0.4       0.5   0.63614\n",
      "    0.1       0.45      0.45  0.636199\n",
      "    0.1       0.5       0.4   0.636198\n",
      "    0.1       0.55      0.35  0.636012\n",
      "    0.1       0.6       0.3   0.636085\n",
      "    0.1       0.65      0.25  0.635638\n",
      "    0.1       0.7       0.2   0.635399\n",
      "    0.1       0.75      0.15  0.635259\n",
      "    0.1       0.8       0.1   0.634804\n",
      "    0.1       0.85      0.05  0.633986\n",
      "    0.15      0.1       0.75  0.635595\n",
      "    0.15      0.15      0.7   0.636236\n",
      "    0.15      0.2       0.65  0.636446\n",
      "    0.15      0.25      0.6   0.636378\n",
      "    0.15      0.3       0.55  0.636283\n",
      "    0.15      0.35      0.5   0.636356\n",
      "    0.15      0.4       0.45  0.636311\n",
      "    0.15      0.45      0.4   0.636683\n",
      "    0.15      0.5       0.35  0.636603\n",
      "    0.15      0.55      0.3   0.636561\n",
      "    0.15      0.6       0.25  0.636248\n",
      "    0.15      0.65      0.2   0.635861\n",
      "    0.15      0.7       0.15  0.635462\n",
      "    0.15      0.75      0.1   0.63561\n",
      "    0.15      0.8       0.05  0.634966\n",
      "    0.2       0.1       0.7   0.635968\n",
      "    0.2       0.15      0.65  0.636502\n",
      "    0.2       0.2       0.6   0.6367\n",
      "    0.2       0.25      0.55  0.636472\n",
      "    0.2       0.3       0.5   0.636418\n",
      "    0.2       0.35      0.45  0.636781\n",
      "    0.2       0.4       0.4   0.636807\n",
      "    0.2       0.45      0.35  0.637266\n",
      "    0.2       0.5       0.3   0.636958\n",
      "    0.2       0.55      0.25  0.636584\n",
      "    0.2       0.6       0.2   0.636498\n",
      "    0.2       0.65      0.15  0.636442\n",
      "    0.2       0.7       0.1   0.636273\n",
      "    0.2       0.75      0.05  0.635305\n",
      "    0.25      0.1       0.65  0.636943\n",
      "    0.25      0.15      0.6   0.637346\n",
      "    0.25      0.2       0.55  0.63742\n",
      "    0.25      0.25      0.5   0.637647\n",
      "    0.25      0.3       0.45  0.637606\n",
      "    0.25      0.35      0.4   0.637569\n",
      "    0.25      0.4       0.35  0.637705\n",
      "    0.25      0.45      0.3   0.637149\n",
      "    0.25      0.5       0.25  0.636834\n",
      "    0.25      0.55      0.2   0.636611\n",
      "    0.25      0.6       0.15  0.6366\n",
      "    0.25      0.65      0.1   0.636555\n",
      "    0.25      0.7       0.05  0.635932\n",
      "    0.3       0.1       0.6   0.637217\n",
      "    0.3       0.15      0.55  0.637327\n",
      "    0.3       0.2       0.5   0.637432\n",
      "    0.3       0.25      0.45  0.637692\n",
      "    0.3       0.3       0.4   0.637985\n",
      "    0.3       0.35      0.35  0.637581\n",
      "    0.3       0.4       0.3   0.637646\n",
      "    0.3       0.45      0.25  0.637038\n",
      "    0.3       0.5       0.2   0.636748\n",
      "    0.3       0.55      0.15  0.636784\n",
      "    0.3       0.6       0.1   0.636233\n",
      "    0.3       0.65      0.05  0.635697\n",
      "    0.35      0.1       0.55  0.637285\n",
      "    0.35      0.15      0.5   0.637493\n",
      "    0.35      0.2       0.45  0.637439\n",
      "    0.35      0.25      0.4   0.637802\n",
      "    0.35      0.3       0.35  0.637918\n",
      "    0.35      0.35      0.3   0.637429\n",
      "    0.35      0.4       0.25  0.637165\n",
      "    0.35      0.45      0.2   0.63734\n",
      "    0.35      0.5       0.15  0.6369\n",
      "    0.35      0.55      0.1   0.636181\n",
      "    0.35      0.6       0.05  0.63565\n",
      "    0.4       0.1       0.5   0.637106\n",
      "    0.4       0.15      0.45  0.637322\n",
      "    0.4       0.2       0.4   0.637283\n",
      "    0.4       0.25      0.35  0.637522\n",
      "    0.4       0.3       0.3   0.637405\n",
      "    0.4       0.35      0.25  0.637729\n",
      "    0.4       0.4       0.2   0.637376\n",
      "    0.4       0.45      0.15  0.636911\n",
      "    0.4       0.5       0.1   0.636183\n",
      "    0.4       0.55      0.05  0.635513\n",
      "    0.45      0.1       0.45  0.637113\n",
      "    0.45      0.15      0.4   0.637738\n",
      "    0.45      0.2       0.35  0.638015\n",
      "    0.45      0.25      0.3   0.637649\n",
      "    0.45      0.3       0.25  0.637155\n",
      "    0.45      0.35      0.2   0.637236\n",
      "    0.45      0.4       0.15  0.636346\n",
      "    0.45      0.45      0.1   0.636159\n",
      "    0.45      0.5       0.05  0.63538\n",
      "    0.5       0.1       0.4   0.636747\n",
      "    0.5       0.15      0.35  0.637202\n",
      "    0.5       0.2       0.3   0.636792\n",
      "    0.5       0.25      0.25  0.63655\n",
      "    0.5       0.3       0.2   0.635976\n",
      "    0.5       0.35      0.15  0.636209\n",
      "    0.5       0.4       0.1   0.635751\n",
      "    0.5       0.45      0.05  0.634712\n",
      "    0.55      0.1       0.35  0.636734\n",
      "    0.55      0.15      0.3   0.636329\n",
      "    0.55      0.2       0.25  0.636196\n",
      "    0.55      0.25      0.2   0.635699\n",
      "    0.55      0.3       0.15  0.635441\n",
      "    0.55      0.35      0.1   0.634962\n",
      "    0.55      0.4       0.05  0.634784\n",
      "    0.6       0.1       0.3   0.635909\n",
      "    0.6       0.15      0.25  0.635665\n",
      "    0.6       0.2       0.2   0.63531\n",
      "    0.6       0.25      0.15  0.634616\n",
      "    0.6       0.3       0.1   0.63464\n",
      "    0.6       0.35      0.05  0.634423\n",
      "    0.65      0.1       0.25  0.6357\n",
      "    0.65      0.15      0.2   0.634802\n",
      "    0.65      0.2       0.15  0.634067\n",
      "    0.65      0.25      0.1   0.633674\n",
      "    0.65      0.3       0.05  0.634052\n",
      "    0.7       0.1       0.2   0.634628\n",
      "    0.7       0.15      0.15  0.634083\n",
      "    0.7       0.2       0.1   0.633631\n",
      "    0.7       0.25      0.05  0.633169\n",
      "    0.75      0.1       0.15  0.633608\n",
      "    0.75      0.15      0.1   0.633477\n",
      "    0.75      0.2       0.05  0.633174\n",
      "    0.8       0.1       0.1   0.632665\n",
      "    0.8       0.15      0.05  0.632439\n",
      "    0.85      0.1       0.05  0.631449\n"
     ]
    }
   ],
   "source": [
    "print(tabulate(d, headers=\"keys\"))"
   ]
  },
  {
   "cell_type": "code",
   "execution_count": 87,
   "metadata": {},
   "outputs": [],
   "source": [
    "pd.DataFrame(predictions_1).astype(\"float16\").to_csv(\"../../public_data/nn_predictions_1.csv\", index=False, header=False)\n",
    "pd.DataFrame(predictions_2).astype(\"float16\").to_csv(\"../../public_data/nn_predictions_2.csv\", index=False, header=False)\n",
    "pd.DataFrame(predictions_4).astype(\"float16\").to_csv(\"../../public_data/nn_predictions_4.csv\", index=False, header=False)\n",
    "pd.DataFrame(ensemble).astype(\"float16\").to_csv(\"../../public_data/nn_ensemble.csv\", index=False, header=False)"
   ]
  },
  {
   "cell_type": "code",
   "execution_count": null,
   "metadata": {},
   "outputs": [],
   "source": []
  }
 ],
 "metadata": {
  "kernelspec": {
   "display_name": "Python [conda env:root] *",
   "language": "python",
   "name": "conda-root-py"
  },
  "language_info": {
   "codemirror_mode": {
    "name": "ipython",
    "version": 3
   },
   "file_extension": ".py",
   "mimetype": "text/x-python",
   "name": "python",
   "nbconvert_exporter": "python",
   "pygments_lexer": "ipython3",
   "version": "3.6.10"
  }
 },
 "nbformat": 4,
 "nbformat_minor": 4
}
