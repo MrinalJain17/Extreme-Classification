{
 "cells": [
  {
   "cell_type": "code",
   "execution_count": 1,
   "metadata": {},
   "outputs": [],
   "source": [
    "import pandas as pd\n",
    "import numpy as np\n",
    "from sklearn.metrics import label_ranking_average_precision_score"
   ]
  },
  {
   "cell_type": "code",
   "execution_count": 2,
   "metadata": {},
   "outputs": [],
   "source": [
    "NUM_FEATURES = 5000\n",
    "NUM_CLASSES = 3993"
   ]
  },
  {
   "cell_type": "code",
   "execution_count": 3,
   "metadata": {},
   "outputs": [],
   "source": [
    "#Get true predictions\n",
    "y_val = pd.read_csv(\"../data/expanded/dev_labels.csv\", names=range(NUM_CLASSES))"
   ]
  },
  {
   "cell_type": "code",
   "execution_count": 4,
   "metadata": {},
   "outputs": [],
   "source": [
    "#Tree\n",
    "y_rf = pd.read_csv(\"../public_data/saved_rf_probabilities.csv\", names=range(NUM_CLASSES),header= 0)"
   ]
  },
  {
   "cell_type": "code",
   "execution_count": 5,
   "metadata": {},
   "outputs": [
    {
     "data": {
      "text/plain": [
       "0.5604580391775857"
      ]
     },
     "execution_count": 5,
     "metadata": {},
     "output_type": "execute_result"
    }
   ],
   "source": [
    "score_rf = label_ranking_average_precision_score(y_val,y_rf)\n",
    "score_rf"
   ]
  },
  {
   "cell_type": "code",
   "execution_count": 215,
   "metadata": {},
   "outputs": [],
   "source": [
    "#KNN\n",
    "y_knn = pd.read_csv(\"../public_data/knn.csv\", names=range(NUM_CLASSES),header = 0)"
   ]
  },
  {
   "cell_type": "code",
   "execution_count": 216,
   "metadata": {},
   "outputs": [
    {
     "data": {
      "text/plain": [
       "0.2912844932011161"
      ]
     },
     "execution_count": 216,
     "metadata": {},
     "output_type": "execute_result"
    }
   ],
   "source": [
    "score_knn = label_ranking_average_precision_score(y_val,y_knn)\n",
    "score_knn"
   ]
  },
  {
   "cell_type": "code",
   "execution_count": 7,
   "metadata": {},
   "outputs": [],
   "source": [
    "#SVM\n",
    "y_svm = pd.read_csv(\"../public_data/svm.csv\", names=range(NUM_CLASSES))"
   ]
  },
  {
   "cell_type": "code",
   "execution_count": 8,
   "metadata": {},
   "outputs": [
    {
     "data": {
      "text/plain": [
       "0.3391564618701288"
      ]
     },
     "execution_count": 8,
     "metadata": {},
     "output_type": "execute_result"
    }
   ],
   "source": [
    "score_svm = label_ranking_average_precision_score(y_val,y_svm)\n",
    "score_svm"
   ]
  },
  {
   "cell_type": "code",
   "execution_count": 118,
   "metadata": {},
   "outputs": [],
   "source": [
    "#NN\n",
    "from numpy import load\n",
    "y_nn = np.load('../public_data/nn_predictions.npz')\n",
    "y_nn = y_nn['predictions']"
   ]
  },
  {
   "cell_type": "code",
   "execution_count": 119,
   "metadata": {},
   "outputs": [
    {
     "data": {
      "text/plain": [
       "0.6254337395360583"
      ]
     },
     "execution_count": 119,
     "metadata": {},
     "output_type": "execute_result"
    }
   ],
   "source": [
    "score_nn = label_ranking_average_precision_score(y_val,y_nn)\n",
    "score_nn"
   ]
  },
  {
   "cell_type": "markdown",
   "metadata": {},
   "source": [
    "# Convex combination"
   ]
  },
  {
   "cell_type": "code",
   "execution_count": null,
   "metadata": {},
   "outputs": [],
   "source": [
    "#Do a convex combination based upon validation scores\n",
    "#Note convex combination does not seem to work the best.\n",
    "total = score_rf + score_knn + score_svm + score_mlp\n",
    "\n",
    "rf_w = score_rf / total\n",
    "knn_w = score_knn / total\n",
    "svm_w = score_svm/total\n",
    "mlp_w = score_nn/total"
   ]
  },
  {
   "cell_type": "code",
   "execution_count": 207,
   "metadata": {},
   "outputs": [],
   "source": [
    "#Can use convex combination or set manually.\n",
    "#ensemble = 0.8*y_rf.values + 0.19*y_svm.values +0.01*y_knn.values\n",
    "ensemble = 0.85*y_nn + 0.127*y_rf.values + 0.023*y_svm.values + 0*y_knn.values"
   ]
  },
  {
   "cell_type": "code",
   "execution_count": 208,
   "metadata": {},
   "outputs": [],
   "source": [
    "score_ensemble = label_ranking_average_precision_score(y_val,ensemble)"
   ]
  },
  {
   "cell_type": "code",
   "execution_count": 209,
   "metadata": {},
   "outputs": [
    {
     "data": {
      "text/plain": [
       "0.6345250822842396"
      ]
     },
     "execution_count": 209,
     "metadata": {},
     "output_type": "execute_result"
    }
   ],
   "source": [
    "#Small improvement over sole rf\n",
    "score_ensemble"
   ]
  },
  {
   "cell_type": "markdown",
   "metadata": {},
   "source": [
    "# Ensemble weight tuning "
   ]
  },
  {
   "cell_type": "markdown",
   "metadata": {},
   "source": [
    "# All 4 : NN, RF, SVM and KNN"
   ]
  },
  {
   "cell_type": "code",
   "execution_count": 217,
   "metadata": {},
   "outputs": [],
   "source": [
    "import random"
   ]
  },
  {
   "cell_type": "code",
   "execution_count": 222,
   "metadata": {},
   "outputs": [
    {
     "name": "stdout",
     "output_type": "stream",
     "text": [
      "0\n",
      "10\n",
      "20\n",
      "30\n",
      "40\n",
      "50\n",
      "60\n",
      "70\n",
      "80\n",
      "90\n",
      "100\n",
      "110\n",
      "120\n",
      "130\n",
      "140\n",
      "150\n",
      "160\n",
      "170\n",
      "180\n",
      "190\n"
     ]
    }
   ],
   "source": [
    "i = 0\n",
    "best_score = 0\n",
    "while i< 200:\n",
    "    \n",
    "    if i%10 ==0:\n",
    "        print(i)\n",
    "        \n",
    "    y_test_nn = np.random.uniform(0.7,1)\n",
    "    y_test_rf = np.random.uniform(0,1-y_test_nn)\n",
    "    y_test_svm = np.random.uniform(0,1-y_test_nn-y_test_rf)\n",
    "    y_test_knn = 1-y_test_nn-y_test_rf-y_test_svm\n",
    "    \n",
    "    \n",
    "    ensemble_score = y_test_nn*y_nn + y_test_rf*y_rf.values + y_test_svm*y_svm.values +y_test_knn*y_knn.values\n",
    "    temp_score = label_ranking_average_precision_score(y_val,ensemble_score)\n",
    "    \n",
    "    if temp_score > best_score:\n",
    "        best_score = temp_score\n",
    "        \n",
    "        best_weights = []\n",
    "        best_weights.append(y_test_nn)\n",
    "        best_weights.append(y_test_rf)\n",
    "        best_weights.append(y_test_svm)\n",
    "        best_weights.append(y_test_knn)\n",
    "    i+=1"
   ]
  },
  {
   "cell_type": "code",
   "execution_count": 224,
   "metadata": {},
   "outputs": [
    {
     "data": {
      "text/plain": [
       "[0.7484868940173159,\n",
       " 0.12187404054186865,\n",
       " 0.06921964707939315,\n",
       " 0.060419418361422256]"
      ]
     },
     "execution_count": 224,
     "metadata": {},
     "output_type": "execute_result"
    }
   ],
   "source": [
    "best_weights"
   ]
  },
  {
   "cell_type": "code",
   "execution_count": 223,
   "metadata": {},
   "outputs": [
    {
     "data": {
      "text/plain": [
       "0.6351116290635036"
      ]
     },
     "execution_count": 223,
     "metadata": {},
     "output_type": "execute_result"
    }
   ],
   "source": [
    "best_score"
   ]
  },
  {
   "cell_type": "markdown",
   "metadata": {},
   "source": [
    "# NN and RF"
   ]
  },
  {
   "cell_type": "code",
   "execution_count": 188,
   "metadata": {},
   "outputs": [
    {
     "name": "stdout",
     "output_type": "stream",
     "text": [
      "0\n",
      "10\n",
      "20\n",
      "30\n",
      "40\n",
      "50\n",
      "60\n",
      "70\n",
      "80\n",
      "90\n"
     ]
    }
   ],
   "source": [
    "i = 0\n",
    "best_score = 0\n",
    "while i< 100:\n",
    "    \n",
    "    if i%10 ==0:\n",
    "        print(i)\n",
    "        \n",
    "    y_test_nn = np.random.uniform(0.4,1)\n",
    "    y_test_rf = 1-y_test_nn\n",
    "    \n",
    "    \n",
    "    ensemble_score = y_test_nn*y_nn + y_test_rf*y_rf.values \n",
    "    temp_score = label_ranking_average_precision_score(y_val,ensemble_score)\n",
    "    \n",
    "    if temp_score > best_score:\n",
    "        best_score = temp_score\n",
    "        \n",
    "        best_weights = []\n",
    "        best_weights.append(y_test_nn)\n",
    "        best_weights.append(y_test_rf)\n",
    "    i+=1"
   ]
  },
  {
   "cell_type": "code",
   "execution_count": 189,
   "metadata": {},
   "outputs": [
    {
     "data": {
      "text/plain": [
       "0.6290318995802494"
      ]
     },
     "execution_count": 189,
     "metadata": {},
     "output_type": "execute_result"
    }
   ],
   "source": [
    "best_score"
   ]
  },
  {
   "cell_type": "markdown",
   "metadata": {},
   "source": [
    "# NN, RF and SVM (best combination)"
   ]
  },
  {
   "cell_type": "code",
   "execution_count": 201,
   "metadata": {
    "collapsed": true
   },
   "outputs": [
    {
     "name": "stdout",
     "output_type": "stream",
     "text": [
      "0\n",
      "10\n",
      "20\n",
      "30\n",
      "40\n",
      "50\n",
      "60\n",
      "70\n",
      "80\n",
      "90\n",
      "100\n",
      "110\n",
      "120\n",
      "130\n",
      "140\n",
      "150\n",
      "160\n",
      "170\n",
      "180\n",
      "190\n",
      "200\n",
      "210\n",
      "220\n",
      "230\n",
      "240\n",
      "250\n",
      "260\n",
      "270\n",
      "280\n",
      "290\n",
      "300\n",
      "310\n",
      "320\n",
      "330\n",
      "340\n",
      "350\n",
      "360\n",
      "370\n",
      "380\n",
      "390\n",
      "400\n",
      "410\n",
      "420\n",
      "430\n",
      "440\n",
      "450\n",
      "460\n",
      "470\n",
      "480\n",
      "490\n"
     ]
    }
   ],
   "source": [
    "i = 0\n",
    "best_score = 0\n",
    "while i< 500:\n",
    "    \n",
    "    if i%10 ==0:\n",
    "        print(i)\n",
    "        \n",
    "    y_test_nn = np.random.uniform(0.4,1)\n",
    "    y_test_rf = np.random.uniform(0,1-y_test_nn)\n",
    "    y_test_svm = 1-y_test_nn-y_test_rf    \n",
    "    \n",
    "    ensemble_score = y_test_nn*y_nn + y_test_rf*y_rf.values + y_test_svm*y_svm.values\n",
    "    temp_score = label_ranking_average_precision_score(y_val,ensemble_score)\n",
    "    \n",
    "    if temp_score > best_score:\n",
    "        best_score = temp_score\n",
    "        \n",
    "        best_weights = []\n",
    "        best_weights.append(y_test_nn)\n",
    "        best_weights.append(y_test_rf)\n",
    "        best_weights.append(y_test_svm)\n",
    "    i+=1"
   ]
  },
  {
   "cell_type": "code",
   "execution_count": 202,
   "metadata": {},
   "outputs": [
    {
     "data": {
      "text/plain": [
       "0.6345056739829807"
      ]
     },
     "execution_count": 202,
     "metadata": {},
     "output_type": "execute_result"
    }
   ],
   "source": [
    "best_score"
   ]
  },
  {
   "cell_type": "code",
   "execution_count": 203,
   "metadata": {},
   "outputs": [
    {
     "data": {
      "text/plain": [
       "[0.8437156989129617, 0.13313503152459621, 0.023149269562442065]"
      ]
     },
     "execution_count": 203,
     "metadata": {},
     "output_type": "execute_result"
    }
   ],
   "source": [
    "best_weights"
   ]
  },
  {
   "cell_type": "markdown",
   "metadata": {},
   "source": [
    "# NN and SVM"
   ]
  },
  {
   "cell_type": "code",
   "execution_count": 196,
   "metadata": {},
   "outputs": [
    {
     "name": "stdout",
     "output_type": "stream",
     "text": [
      "0\n",
      "10\n",
      "20\n",
      "30\n",
      "40\n",
      "50\n",
      "60\n",
      "70\n",
      "80\n",
      "90\n"
     ]
    }
   ],
   "source": [
    "i = 0\n",
    "best_score = 0\n",
    "while i< 100:\n",
    "    \n",
    "    if i%10 ==0:\n",
    "        print(i)\n",
    "        \n",
    "    y_test_nn = np.random.uniform(0.4,1)\n",
    "    y_test_svm = 1-y_test_nn  \n",
    "    \n",
    "    ensemble_score = y_test_nn*y_nn + y_test_svm*y_svm.values\n",
    "    temp_score = label_ranking_average_precision_score(y_val,ensemble_score)\n",
    "    \n",
    "    if temp_score > best_score:\n",
    "        best_score = temp_score\n",
    "        \n",
    "        best_weights = []\n",
    "        best_weights.append(y_test_nn)\n",
    "        best_weights.append(y_test_svm)\n",
    "    i+=1"
   ]
  },
  {
   "cell_type": "code",
   "execution_count": 197,
   "metadata": {},
   "outputs": [
    {
     "data": {
      "text/plain": [
       "0.6308784881574803"
      ]
     },
     "execution_count": 197,
     "metadata": {},
     "output_type": "execute_result"
    }
   ],
   "source": [
    "best_score"
   ]
  },
  {
   "cell_type": "code",
   "execution_count": null,
   "metadata": {},
   "outputs": [],
   "source": []
  }
 ],
 "metadata": {
  "kernelspec": {
   "display_name": "Python 3",
   "language": "python",
   "name": "python3"
  },
  "language_info": {
   "codemirror_mode": {
    "name": "ipython",
    "version": 3
   },
   "file_extension": ".py",
   "mimetype": "text/x-python",
   "name": "python",
   "nbconvert_exporter": "python",
   "pygments_lexer": "ipython3",
   "version": "3.6.1"
  }
 },
 "nbformat": 4,
 "nbformat_minor": 2
}
